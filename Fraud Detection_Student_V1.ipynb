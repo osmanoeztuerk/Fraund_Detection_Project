{
<<<<<<< HEAD
=======
<<<<<<< HEAD
 "cells": [
  {
   "cell_type": "markdown",
   "metadata": {
    "id": "-24P_wByMuHX"
   },
   "source": [
    "***WELCOME!***"
   ]
  },
  {
   "cell_type": "markdown",
   "metadata": {
    "id": "Ow9AD-4vMuHX"
   },
   "source": [
    "Welcome to \"***Fraud Detection Project***\". This is the last project of the Capstone Series.\n",
    "\n",
    "One of the challenges in this project is the absence of domain knowledge. So without knowing what the column names are, you will only be interested in their values. The other one is the class frequencies of the target variable are quite imbalanced.\n",
    "\n",
    "You will implement ***Logistic Regression, Random Forest, XGBoost,and Neural Network*** algorithms and ***Unbalanced Data Techniques*** . Also visualize performances of the models using ***Seaborn, Matplotlib*** and ***Yellowbrick*** in a variety of ways.\n",
    "\n",
    "Data drift and model drirft are key consepts about ML and MLOPS, you can monitor and check your data and models with plenty of ways and tools. ***Deepchecks*** is one of them and the leading tool for testing and for validating your machine learning models and data, and it enables doing so with minimal effort. In this project, you will apply ***Data Integrity, Train-Test Validation, and Model Evaluation*** checks.\n",
    "Deepchecks Intruduction : https://youtu.be/7ELdizoi6BU\n",
    "\n",
    "At the end of the project, you will have the opportunity to deploy your model by ***Streamlit API***.\n",
    "\n",
    "Before diving into the project, please take a look at the Determines and Tasks.\n",
    "\n",
    "- ***NOTE:*** *This tutorial assumes that you already know the basics of coding in Python and are familiar with model deployement (Streamlit) as well as the theory behind algorithms*\n",
    "\n"
   ]
  },
  {
   "cell_type": "markdown",
   "metadata": {
    "id": "dqbMkIZ-MuHY"
   },
   "source": [
    "---\n",
    "---\n"
   ]
  },
  {
   "cell_type": "markdown",
   "metadata": {
    "id": "spCFDhO7MuHY"
   },
   "source": [
    "***Determines***\n",
    "The datasets contains transactions made by credit cards in September 2013 by european cardholders. This dataset presents transactions that occurred in two days, where it has **492 frauds** out of **284,807** transactions. The dataset is **highly unbalanced**, the positive class (frauds) account for 0.172% of all transactions.\n",
    "\n",
    "**Feature Information:**\n",
    "\n",
    "**Time**: This feature is contains the seconds elapsed between each transaction and the first transaction in the dataset. \n",
    "\n",
    "**Amount**:  This feature is the transaction Amount, can be used for example-dependant cost-senstive learning. \n",
    "\n",
    "**Class**: This feature is the target variable and it takes value 1 in case of fraud and 0 otherwise.\n",
    "\n",
    "---\n",
    "\n",
    "The aim of this project is to predict whether a credit card transaction is fraudulent. Of course, this is not easy to do.\n",
    "First of all, you need to analyze and recognize your data well in order to draw your roadmap and choose the correct arguments you will use. Accordingly, you can examine the frequency distributions of variables. You can observe variable correlations and want to explore multicollinearity. You can display the distribution of the target variable's classes over other variables. \n",
    "Also, it is useful to take missing values and outliers.\n",
    "\n",
    "After these procedures, you can move on to the model building stage by doing the basic data pre-processing you are familiar with. \n",
    "\n",
    "Start with Logistic Regression and evaluate model performance. You will apply the Unbalanced Data Techniques used to increase the performance. Next, observe their effects.\n",
    "\n",
    "Then, you will use four different algorithms in the model building phase. \n",
    "\n",
    "In the final step, you will deploy your model using ***Streamlit API***. \n",
    "\n",
    "**Optional**: You can Dockerize your project and deploy on cloud."
   ]
  },
  {
   "cell_type": "markdown",
   "metadata": {
    "id": "YOl6z9mXMuHY"
   },
   "source": [
    "---\n",
    "---\n"
   ]
  },
  {
   "cell_type": "markdown",
   "metadata": {
    "id": "1o6X3hLLMuHZ"
   },
   "source": [
    "***Tasks***\n",
    "\n",
    " 1. Exploratory Data Analysis & Data Cleaning\n",
    "\n",
    "- Import Modules, Load Data & Data Review\n",
    "- Apply data integrity checks\n",
    "- Exploratory Data Analysis\n",
    "- Data Cleaning\n",
    "    \n",
    "2. Data Preprocessing\n",
    "\n",
    "- Train - Test Split\n",
    "- Train - Test Split Validation Checks\n",
    "- Scaling\n",
    "\n",
    "3. Model Building\n",
    "\n",
    "- Logistic Regression \n",
    "- Random Forest Classifier\n",
    "- XGBoost Classifier\n",
    "- Neural Network\n",
    "\n",
    "\n",
    "4. Model Deployement\n",
    "\n",
    "- Save and Export the Best Model\n",
    "- Save and Export Variables\n",
    "\n",
    "\n"
   ]
  },
  {
   "cell_type": "markdown",
   "metadata": {
    "id": "9sDSWJywMuHZ"
   },
   "source": [
    "---\n",
    "---\n"
   ]
  },
  {
   "cell_type": "markdown",
   "metadata": {
    "id": "fbFMU3AdMuHZ"
   },
   "source": [
    "## Exploratory Data Analysis & Data Cleaning"
   ]
  },
  {
   "cell_type": "markdown",
   "metadata": {
    "id": "5nmI08_GMuHZ"
   },
   "source": [
    "### Import Modules, Load Data & Data Review"
   ]
  },
  {
   "cell_type": "code",
   "execution_count": 1,
   "metadata": {
    "ExecuteTime": {
     "end_time": "2023-03-02T18:34:21.526995Z",
     "start_time": "2023-03-02T18:34:19.786850Z"
    }
   },
   "outputs": [],
   "source": [
    "import pandas as pd\n",
    "import numpy as np\n",
    "import matplotlib.pyplot as plt\n",
    "import seaborn as sns"
   ]
  },
  {
   "cell_type": "code",
   "execution_count": 2,
   "metadata": {
    "ExecuteTime": {
     "end_time": "2023-03-02T18:34:23.329016Z",
     "start_time": "2023-03-02T18:34:21.528753Z"
    },
    "id": "yKZtJybfMuHa"
   },
   "outputs": [
    {
     "data": {
      "text/html": [
       "<div>\n",
       "<style scoped>\n",
       "    .dataframe tbody tr th:only-of-type {\n",
       "        vertical-align: middle;\n",
       "    }\n",
       "\n",
       "    .dataframe tbody tr th {\n",
       "        vertical-align: top;\n",
       "    }\n",
       "\n",
       "    .dataframe thead th {\n",
       "        text-align: right;\n",
       "    }\n",
       "</style>\n",
       "<table border=\"1\" class=\"dataframe\">\n",
       "  <thead>\n",
       "    <tr style=\"text-align: right;\">\n",
       "      <th></th>\n",
       "      <th>Time</th>\n",
       "      <th>V1</th>\n",
       "      <th>V2</th>\n",
       "      <th>V3</th>\n",
       "      <th>V4</th>\n",
       "      <th>V5</th>\n",
       "      <th>V6</th>\n",
       "      <th>V7</th>\n",
       "      <th>V8</th>\n",
       "      <th>V9</th>\n",
       "      <th>...</th>\n",
       "      <th>V21</th>\n",
       "      <th>V22</th>\n",
       "      <th>V23</th>\n",
       "      <th>V24</th>\n",
       "      <th>V25</th>\n",
       "      <th>V26</th>\n",
       "      <th>V27</th>\n",
       "      <th>V28</th>\n",
       "      <th>Amount</th>\n",
       "      <th>Class</th>\n",
       "    </tr>\n",
       "  </thead>\n",
       "  <tbody>\n",
       "    <tr>\n",
       "      <th>0</th>\n",
       "      <td>0.0</td>\n",
       "      <td>-1.359807</td>\n",
       "      <td>-0.072781</td>\n",
       "      <td>2.536347</td>\n",
       "      <td>1.378155</td>\n",
       "      <td>-0.338321</td>\n",
       "      <td>0.462388</td>\n",
       "      <td>0.239599</td>\n",
       "      <td>0.098698</td>\n",
       "      <td>0.363787</td>\n",
       "      <td>...</td>\n",
       "      <td>-0.018307</td>\n",
       "      <td>0.277838</td>\n",
       "      <td>-0.110474</td>\n",
       "      <td>0.066928</td>\n",
       "      <td>0.128539</td>\n",
       "      <td>-0.189115</td>\n",
       "      <td>0.133558</td>\n",
       "      <td>-0.021053</td>\n",
       "      <td>149.62</td>\n",
       "      <td>0</td>\n",
       "    </tr>\n",
       "    <tr>\n",
       "      <th>1</th>\n",
       "      <td>0.0</td>\n",
       "      <td>1.191857</td>\n",
       "      <td>0.266151</td>\n",
       "      <td>0.166480</td>\n",
       "      <td>0.448154</td>\n",
       "      <td>0.060018</td>\n",
       "      <td>-0.082361</td>\n",
       "      <td>-0.078803</td>\n",
       "      <td>0.085102</td>\n",
       "      <td>-0.255425</td>\n",
       "      <td>...</td>\n",
       "      <td>-0.225775</td>\n",
       "      <td>-0.638672</td>\n",
       "      <td>0.101288</td>\n",
       "      <td>-0.339846</td>\n",
       "      <td>0.167170</td>\n",
       "      <td>0.125895</td>\n",
       "      <td>-0.008983</td>\n",
       "      <td>0.014724</td>\n",
       "      <td>2.69</td>\n",
       "      <td>0</td>\n",
       "    </tr>\n",
       "    <tr>\n",
       "      <th>2</th>\n",
       "      <td>1.0</td>\n",
       "      <td>-1.358354</td>\n",
       "      <td>-1.340163</td>\n",
       "      <td>1.773209</td>\n",
       "      <td>0.379780</td>\n",
       "      <td>-0.503198</td>\n",
       "      <td>1.800499</td>\n",
       "      <td>0.791461</td>\n",
       "      <td>0.247676</td>\n",
       "      <td>-1.514654</td>\n",
       "      <td>...</td>\n",
       "      <td>0.247998</td>\n",
       "      <td>0.771679</td>\n",
       "      <td>0.909412</td>\n",
       "      <td>-0.689281</td>\n",
       "      <td>-0.327642</td>\n",
       "      <td>-0.139097</td>\n",
       "      <td>-0.055353</td>\n",
       "      <td>-0.059752</td>\n",
       "      <td>378.66</td>\n",
       "      <td>0</td>\n",
       "    </tr>\n",
       "    <tr>\n",
       "      <th>3</th>\n",
       "      <td>1.0</td>\n",
       "      <td>-0.966272</td>\n",
       "      <td>-0.185226</td>\n",
       "      <td>1.792993</td>\n",
       "      <td>-0.863291</td>\n",
       "      <td>-0.010309</td>\n",
       "      <td>1.247203</td>\n",
       "      <td>0.237609</td>\n",
       "      <td>0.377436</td>\n",
       "      <td>-1.387024</td>\n",
       "      <td>...</td>\n",
       "      <td>-0.108300</td>\n",
       "      <td>0.005274</td>\n",
       "      <td>-0.190321</td>\n",
       "      <td>-1.175575</td>\n",
       "      <td>0.647376</td>\n",
       "      <td>-0.221929</td>\n",
       "      <td>0.062723</td>\n",
       "      <td>0.061458</td>\n",
       "      <td>123.50</td>\n",
       "      <td>0</td>\n",
       "    </tr>\n",
       "    <tr>\n",
       "      <th>4</th>\n",
       "      <td>2.0</td>\n",
       "      <td>-1.158233</td>\n",
       "      <td>0.877737</td>\n",
       "      <td>1.548718</td>\n",
       "      <td>0.403034</td>\n",
       "      <td>-0.407193</td>\n",
       "      <td>0.095921</td>\n",
       "      <td>0.592941</td>\n",
       "      <td>-0.270533</td>\n",
       "      <td>0.817739</td>\n",
       "      <td>...</td>\n",
       "      <td>-0.009431</td>\n",
       "      <td>0.798278</td>\n",
       "      <td>-0.137458</td>\n",
       "      <td>0.141267</td>\n",
       "      <td>-0.206010</td>\n",
       "      <td>0.502292</td>\n",
       "      <td>0.219422</td>\n",
       "      <td>0.215153</td>\n",
       "      <td>69.99</td>\n",
       "      <td>0</td>\n",
       "    </tr>\n",
       "  </tbody>\n",
       "</table>\n",
       "<p>5 rows × 31 columns</p>\n",
       "</div>"
      ],
      "text/plain": [
       "   Time        V1        V2        V3        V4        V5        V6        V7  \\\n",
       "0   0.0 -1.359807 -0.072781  2.536347  1.378155 -0.338321  0.462388  0.239599   \n",
       "1   0.0  1.191857  0.266151  0.166480  0.448154  0.060018 -0.082361 -0.078803   \n",
       "2   1.0 -1.358354 -1.340163  1.773209  0.379780 -0.503198  1.800499  0.791461   \n",
       "3   1.0 -0.966272 -0.185226  1.792993 -0.863291 -0.010309  1.247203  0.237609   \n",
       "4   2.0 -1.158233  0.877737  1.548718  0.403034 -0.407193  0.095921  0.592941   \n",
       "\n",
       "         V8        V9  ...       V21       V22       V23       V24       V25  \\\n",
       "0  0.098698  0.363787  ... -0.018307  0.277838 -0.110474  0.066928  0.128539   \n",
       "1  0.085102 -0.255425  ... -0.225775 -0.638672  0.101288 -0.339846  0.167170   \n",
       "2  0.247676 -1.514654  ...  0.247998  0.771679  0.909412 -0.689281 -0.327642   \n",
       "3  0.377436 -1.387024  ... -0.108300  0.005274 -0.190321 -1.175575  0.647376   \n",
       "4 -0.270533  0.817739  ... -0.009431  0.798278 -0.137458  0.141267 -0.206010   \n",
       "\n",
       "        V26       V27       V28  Amount  Class  \n",
       "0 -0.189115  0.133558 -0.021053  149.62      0  \n",
       "1  0.125895 -0.008983  0.014724    2.69      0  \n",
       "2 -0.139097 -0.055353 -0.059752  378.66      0  \n",
       "3 -0.221929  0.062723  0.061458  123.50      0  \n",
       "4  0.502292  0.219422  0.215153   69.99      0  \n",
       "\n",
       "[5 rows x 31 columns]"
      ]
     },
     "execution_count": 2,
     "metadata": {},
     "output_type": "execute_result"
    }
   ],
   "source": [
    "df0 = pd.read_csv('creditcard.csv')\n",
    "df = df0.copy()\n",
    "df.head()"
   ]
  },
  {
   "cell_type": "code",
   "execution_count": 3,
   "metadata": {
    "ExecuteTime": {
     "end_time": "2023-03-02T18:34:23.376937Z",
     "start_time": "2023-03-02T18:34:23.333002Z"
    }
   },
   "outputs": [
    {
     "name": "stdout",
     "output_type": "stream",
     "text": [
      "<class 'pandas.core.frame.DataFrame'>\n",
      "RangeIndex: 284807 entries, 0 to 284806\n",
      "Data columns (total 31 columns):\n",
      " #   Column  Non-Null Count   Dtype  \n",
      "---  ------  --------------   -----  \n",
      " 0   Time    284807 non-null  float64\n",
      " 1   V1      284807 non-null  float64\n",
      " 2   V2      284807 non-null  float64\n",
      " 3   V3      284807 non-null  float64\n",
      " 4   V4      284807 non-null  float64\n",
      " 5   V5      284807 non-null  float64\n",
      " 6   V6      284807 non-null  float64\n",
      " 7   V7      284807 non-null  float64\n",
      " 8   V8      284807 non-null  float64\n",
      " 9   V9      284807 non-null  float64\n",
      " 10  V10     284807 non-null  float64\n",
      " 11  V11     284807 non-null  float64\n",
      " 12  V12     284807 non-null  float64\n",
      " 13  V13     284807 non-null  float64\n",
      " 14  V14     284807 non-null  float64\n",
      " 15  V15     284807 non-null  float64\n",
      " 16  V16     284807 non-null  float64\n",
      " 17  V17     284807 non-null  float64\n",
      " 18  V18     284807 non-null  float64\n",
      " 19  V19     284807 non-null  float64\n",
      " 20  V20     284807 non-null  float64\n",
      " 21  V21     284807 non-null  float64\n",
      " 22  V22     284807 non-null  float64\n",
      " 23  V23     284807 non-null  float64\n",
      " 24  V24     284807 non-null  float64\n",
      " 25  V25     284807 non-null  float64\n",
      " 26  V26     284807 non-null  float64\n",
      " 27  V27     284807 non-null  float64\n",
      " 28  V28     284807 non-null  float64\n",
      " 29  Amount  284807 non-null  float64\n",
      " 30  Class   284807 non-null  int64  \n",
      "dtypes: float64(30), int64(1)\n",
      "memory usage: 67.4 MB\n"
     ]
    }
   ],
   "source": [
    "df.info()"
   ]
  },
  {
   "cell_type": "code",
   "execution_count": 4,
   "metadata": {
    "ExecuteTime": {
     "end_time": "2023-03-02T18:34:23.743505Z",
     "start_time": "2023-03-02T18:34:23.379587Z"
    }
   },
   "outputs": [
    {
     "data": {
      "text/html": [
       "<div>\n",
       "<style scoped>\n",
       "    .dataframe tbody tr th:only-of-type {\n",
       "        vertical-align: middle;\n",
       "    }\n",
       "\n",
       "    .dataframe tbody tr th {\n",
       "        vertical-align: top;\n",
       "    }\n",
       "\n",
       "    .dataframe thead th {\n",
       "        text-align: right;\n",
       "    }\n",
       "</style>\n",
       "<table border=\"1\" class=\"dataframe\">\n",
       "  <thead>\n",
       "    <tr style=\"text-align: right;\">\n",
       "      <th></th>\n",
       "      <th>Time</th>\n",
       "      <th>V1</th>\n",
       "      <th>V2</th>\n",
       "      <th>V3</th>\n",
       "      <th>V4</th>\n",
       "      <th>V5</th>\n",
       "      <th>V6</th>\n",
       "      <th>V7</th>\n",
       "      <th>V8</th>\n",
       "      <th>V9</th>\n",
       "      <th>...</th>\n",
       "      <th>V21</th>\n",
       "      <th>V22</th>\n",
       "      <th>V23</th>\n",
       "      <th>V24</th>\n",
       "      <th>V25</th>\n",
       "      <th>V26</th>\n",
       "      <th>V27</th>\n",
       "      <th>V28</th>\n",
       "      <th>Amount</th>\n",
       "      <th>Class</th>\n",
       "    </tr>\n",
       "  </thead>\n",
       "  <tbody>\n",
       "    <tr>\n",
       "      <th>count</th>\n",
       "      <td>284807.000000</td>\n",
       "      <td>2.848070e+05</td>\n",
       "      <td>2.848070e+05</td>\n",
       "      <td>2.848070e+05</td>\n",
       "      <td>2.848070e+05</td>\n",
       "      <td>2.848070e+05</td>\n",
       "      <td>2.848070e+05</td>\n",
       "      <td>2.848070e+05</td>\n",
       "      <td>2.848070e+05</td>\n",
       "      <td>2.848070e+05</td>\n",
       "      <td>...</td>\n",
       "      <td>2.848070e+05</td>\n",
       "      <td>2.848070e+05</td>\n",
       "      <td>2.848070e+05</td>\n",
       "      <td>2.848070e+05</td>\n",
       "      <td>2.848070e+05</td>\n",
       "      <td>2.848070e+05</td>\n",
       "      <td>2.848070e+05</td>\n",
       "      <td>2.848070e+05</td>\n",
       "      <td>284807.000000</td>\n",
       "      <td>284807.000000</td>\n",
       "    </tr>\n",
       "    <tr>\n",
       "      <th>mean</th>\n",
       "      <td>94813.859575</td>\n",
       "      <td>1.168375e-15</td>\n",
       "      <td>3.416908e-16</td>\n",
       "      <td>-1.379537e-15</td>\n",
       "      <td>2.074095e-15</td>\n",
       "      <td>9.604066e-16</td>\n",
       "      <td>1.487313e-15</td>\n",
       "      <td>-5.556467e-16</td>\n",
       "      <td>1.213481e-16</td>\n",
       "      <td>-2.406331e-15</td>\n",
       "      <td>...</td>\n",
       "      <td>1.654067e-16</td>\n",
       "      <td>-3.568593e-16</td>\n",
       "      <td>2.578648e-16</td>\n",
       "      <td>4.473266e-15</td>\n",
       "      <td>5.340915e-16</td>\n",
       "      <td>1.683437e-15</td>\n",
       "      <td>-3.660091e-16</td>\n",
       "      <td>-1.227390e-16</td>\n",
       "      <td>88.349619</td>\n",
       "      <td>0.001727</td>\n",
       "    </tr>\n",
       "    <tr>\n",
       "      <th>std</th>\n",
       "      <td>47488.145955</td>\n",
       "      <td>1.958696e+00</td>\n",
       "      <td>1.651309e+00</td>\n",
       "      <td>1.516255e+00</td>\n",
       "      <td>1.415869e+00</td>\n",
       "      <td>1.380247e+00</td>\n",
       "      <td>1.332271e+00</td>\n",
       "      <td>1.237094e+00</td>\n",
       "      <td>1.194353e+00</td>\n",
       "      <td>1.098632e+00</td>\n",
       "      <td>...</td>\n",
       "      <td>7.345240e-01</td>\n",
       "      <td>7.257016e-01</td>\n",
       "      <td>6.244603e-01</td>\n",
       "      <td>6.056471e-01</td>\n",
       "      <td>5.212781e-01</td>\n",
       "      <td>4.822270e-01</td>\n",
       "      <td>4.036325e-01</td>\n",
       "      <td>3.300833e-01</td>\n",
       "      <td>250.120109</td>\n",
       "      <td>0.041527</td>\n",
       "    </tr>\n",
       "    <tr>\n",
       "      <th>min</th>\n",
       "      <td>0.000000</td>\n",
       "      <td>-5.640751e+01</td>\n",
       "      <td>-7.271573e+01</td>\n",
       "      <td>-4.832559e+01</td>\n",
       "      <td>-5.683171e+00</td>\n",
       "      <td>-1.137433e+02</td>\n",
       "      <td>-2.616051e+01</td>\n",
       "      <td>-4.355724e+01</td>\n",
       "      <td>-7.321672e+01</td>\n",
       "      <td>-1.343407e+01</td>\n",
       "      <td>...</td>\n",
       "      <td>-3.483038e+01</td>\n",
       "      <td>-1.093314e+01</td>\n",
       "      <td>-4.480774e+01</td>\n",
       "      <td>-2.836627e+00</td>\n",
       "      <td>-1.029540e+01</td>\n",
       "      <td>-2.604551e+00</td>\n",
       "      <td>-2.256568e+01</td>\n",
       "      <td>-1.543008e+01</td>\n",
       "      <td>0.000000</td>\n",
       "      <td>0.000000</td>\n",
       "    </tr>\n",
       "    <tr>\n",
       "      <th>25%</th>\n",
       "      <td>54201.500000</td>\n",
       "      <td>-9.203734e-01</td>\n",
       "      <td>-5.985499e-01</td>\n",
       "      <td>-8.903648e-01</td>\n",
       "      <td>-8.486401e-01</td>\n",
       "      <td>-6.915971e-01</td>\n",
       "      <td>-7.682956e-01</td>\n",
       "      <td>-5.540759e-01</td>\n",
       "      <td>-2.086297e-01</td>\n",
       "      <td>-6.430976e-01</td>\n",
       "      <td>...</td>\n",
       "      <td>-2.283949e-01</td>\n",
       "      <td>-5.423504e-01</td>\n",
       "      <td>-1.618463e-01</td>\n",
       "      <td>-3.545861e-01</td>\n",
       "      <td>-3.171451e-01</td>\n",
       "      <td>-3.269839e-01</td>\n",
       "      <td>-7.083953e-02</td>\n",
       "      <td>-5.295979e-02</td>\n",
       "      <td>5.600000</td>\n",
       "      <td>0.000000</td>\n",
       "    </tr>\n",
       "    <tr>\n",
       "      <th>50%</th>\n",
       "      <td>84692.000000</td>\n",
       "      <td>1.810880e-02</td>\n",
       "      <td>6.548556e-02</td>\n",
       "      <td>1.798463e-01</td>\n",
       "      <td>-1.984653e-02</td>\n",
       "      <td>-5.433583e-02</td>\n",
       "      <td>-2.741871e-01</td>\n",
       "      <td>4.010308e-02</td>\n",
       "      <td>2.235804e-02</td>\n",
       "      <td>-5.142873e-02</td>\n",
       "      <td>...</td>\n",
       "      <td>-2.945017e-02</td>\n",
       "      <td>6.781943e-03</td>\n",
       "      <td>-1.119293e-02</td>\n",
       "      <td>4.097606e-02</td>\n",
       "      <td>1.659350e-02</td>\n",
       "      <td>-5.213911e-02</td>\n",
       "      <td>1.342146e-03</td>\n",
       "      <td>1.124383e-02</td>\n",
       "      <td>22.000000</td>\n",
       "      <td>0.000000</td>\n",
       "    </tr>\n",
       "    <tr>\n",
       "      <th>75%</th>\n",
       "      <td>139320.500000</td>\n",
       "      <td>1.315642e+00</td>\n",
       "      <td>8.037239e-01</td>\n",
       "      <td>1.027196e+00</td>\n",
       "      <td>7.433413e-01</td>\n",
       "      <td>6.119264e-01</td>\n",
       "      <td>3.985649e-01</td>\n",
       "      <td>5.704361e-01</td>\n",
       "      <td>3.273459e-01</td>\n",
       "      <td>5.971390e-01</td>\n",
       "      <td>...</td>\n",
       "      <td>1.863772e-01</td>\n",
       "      <td>5.285536e-01</td>\n",
       "      <td>1.476421e-01</td>\n",
       "      <td>4.395266e-01</td>\n",
       "      <td>3.507156e-01</td>\n",
       "      <td>2.409522e-01</td>\n",
       "      <td>9.104512e-02</td>\n",
       "      <td>7.827995e-02</td>\n",
       "      <td>77.165000</td>\n",
       "      <td>0.000000</td>\n",
       "    </tr>\n",
       "    <tr>\n",
       "      <th>max</th>\n",
       "      <td>172792.000000</td>\n",
       "      <td>2.454930e+00</td>\n",
       "      <td>2.205773e+01</td>\n",
       "      <td>9.382558e+00</td>\n",
       "      <td>1.687534e+01</td>\n",
       "      <td>3.480167e+01</td>\n",
       "      <td>7.330163e+01</td>\n",
       "      <td>1.205895e+02</td>\n",
       "      <td>2.000721e+01</td>\n",
       "      <td>1.559499e+01</td>\n",
       "      <td>...</td>\n",
       "      <td>2.720284e+01</td>\n",
       "      <td>1.050309e+01</td>\n",
       "      <td>2.252841e+01</td>\n",
       "      <td>4.584549e+00</td>\n",
       "      <td>7.519589e+00</td>\n",
       "      <td>3.517346e+00</td>\n",
       "      <td>3.161220e+01</td>\n",
       "      <td>3.384781e+01</td>\n",
       "      <td>25691.160000</td>\n",
       "      <td>1.000000</td>\n",
       "    </tr>\n",
       "  </tbody>\n",
       "</table>\n",
       "<p>8 rows × 31 columns</p>\n",
       "</div>"
      ],
      "text/plain": [
       "                Time            V1            V2            V3            V4  \\\n",
       "count  284807.000000  2.848070e+05  2.848070e+05  2.848070e+05  2.848070e+05   \n",
       "mean    94813.859575  1.168375e-15  3.416908e-16 -1.379537e-15  2.074095e-15   \n",
       "std     47488.145955  1.958696e+00  1.651309e+00  1.516255e+00  1.415869e+00   \n",
       "min         0.000000 -5.640751e+01 -7.271573e+01 -4.832559e+01 -5.683171e+00   \n",
       "25%     54201.500000 -9.203734e-01 -5.985499e-01 -8.903648e-01 -8.486401e-01   \n",
       "50%     84692.000000  1.810880e-02  6.548556e-02  1.798463e-01 -1.984653e-02   \n",
       "75%    139320.500000  1.315642e+00  8.037239e-01  1.027196e+00  7.433413e-01   \n",
       "max    172792.000000  2.454930e+00  2.205773e+01  9.382558e+00  1.687534e+01   \n",
       "\n",
       "                 V5            V6            V7            V8            V9  \\\n",
       "count  2.848070e+05  2.848070e+05  2.848070e+05  2.848070e+05  2.848070e+05   \n",
       "mean   9.604066e-16  1.487313e-15 -5.556467e-16  1.213481e-16 -2.406331e-15   \n",
       "std    1.380247e+00  1.332271e+00  1.237094e+00  1.194353e+00  1.098632e+00   \n",
       "min   -1.137433e+02 -2.616051e+01 -4.355724e+01 -7.321672e+01 -1.343407e+01   \n",
       "25%   -6.915971e-01 -7.682956e-01 -5.540759e-01 -2.086297e-01 -6.430976e-01   \n",
       "50%   -5.433583e-02 -2.741871e-01  4.010308e-02  2.235804e-02 -5.142873e-02   \n",
       "75%    6.119264e-01  3.985649e-01  5.704361e-01  3.273459e-01  5.971390e-01   \n",
       "max    3.480167e+01  7.330163e+01  1.205895e+02  2.000721e+01  1.559499e+01   \n",
       "\n",
       "       ...           V21           V22           V23           V24  \\\n",
       "count  ...  2.848070e+05  2.848070e+05  2.848070e+05  2.848070e+05   \n",
       "mean   ...  1.654067e-16 -3.568593e-16  2.578648e-16  4.473266e-15   \n",
       "std    ...  7.345240e-01  7.257016e-01  6.244603e-01  6.056471e-01   \n",
       "min    ... -3.483038e+01 -1.093314e+01 -4.480774e+01 -2.836627e+00   \n",
       "25%    ... -2.283949e-01 -5.423504e-01 -1.618463e-01 -3.545861e-01   \n",
       "50%    ... -2.945017e-02  6.781943e-03 -1.119293e-02  4.097606e-02   \n",
       "75%    ...  1.863772e-01  5.285536e-01  1.476421e-01  4.395266e-01   \n",
       "max    ...  2.720284e+01  1.050309e+01  2.252841e+01  4.584549e+00   \n",
       "\n",
       "                V25           V26           V27           V28         Amount  \\\n",
       "count  2.848070e+05  2.848070e+05  2.848070e+05  2.848070e+05  284807.000000   \n",
       "mean   5.340915e-16  1.683437e-15 -3.660091e-16 -1.227390e-16      88.349619   \n",
       "std    5.212781e-01  4.822270e-01  4.036325e-01  3.300833e-01     250.120109   \n",
       "min   -1.029540e+01 -2.604551e+00 -2.256568e+01 -1.543008e+01       0.000000   \n",
       "25%   -3.171451e-01 -3.269839e-01 -7.083953e-02 -5.295979e-02       5.600000   \n",
       "50%    1.659350e-02 -5.213911e-02  1.342146e-03  1.124383e-02      22.000000   \n",
       "75%    3.507156e-01  2.409522e-01  9.104512e-02  7.827995e-02      77.165000   \n",
       "max    7.519589e+00  3.517346e+00  3.161220e+01  3.384781e+01   25691.160000   \n",
       "\n",
       "               Class  \n",
       "count  284807.000000  \n",
       "mean        0.001727  \n",
       "std         0.041527  \n",
       "min         0.000000  \n",
       "25%         0.000000  \n",
       "50%         0.000000  \n",
       "75%         0.000000  \n",
       "max         1.000000  \n",
       "\n",
       "[8 rows x 31 columns]"
      ]
     },
     "execution_count": 4,
     "metadata": {},
     "output_type": "execute_result"
    }
   ],
   "source": [
    "df.describe()"
   ]
  },
  {
   "cell_type": "markdown",
   "metadata": {
    "id": "-iy4dwCdp4BJ"
   },
   "source": [
    "## Apply Data Integrity Checks\n",
    "* link: https://docs.deepchecks.com/stable/user-guide/tabular/auto_quickstarts/plot_quick_data_integrity.html"
   ]
  },
  {
   "cell_type": "code",
   "execution_count": 5,
   "metadata": {
    "ExecuteTime": {
     "end_time": "2023-03-02T18:34:25.477272Z",
     "start_time": "2023-03-02T18:34:23.746895Z"
    }
   },
   "outputs": [],
   "source": [
    "from deepchecks.tabular import datasets\n",
    "from deepchecks.tabular.suites import data_integrity"
   ]
  },
  {
   "cell_type": "code",
   "execution_count": 6,
   "metadata": {
    "ExecuteTime": {
     "end_time": "2023-03-02T18:34:48.797355Z",
     "start_time": "2023-03-02T18:34:25.479205Z"
    },
    "id": "BuHZl_AlqF30",
    "scrolled": false
   },
   "outputs": [
    {
     "name": "stderr",
     "output_type": "stream",
     "text": [
      "deepchecks - WARNING - Received a \"pandas.DataFrame\" instance. It is recommended to pass a \"deepchecks.tabular.Dataset\" instance by initializing it with the data and metadata, for example by doing \"Dataset(dataframe, label=label, cat_features=cat_features)\"\n",
      "deepchecks - WARNING - It is recommended to initialize Dataset with categorical features by doing \"Dataset(df, cat_features=categorical_list)\". No categorical features were passed, therefore heuristically inferring categorical features in the data. 1 categorical features were inferred.: Class\n"
     ]
    },
    {
     "data": {
      "text/html": [
       "\n",
       "    <style>\n",
       "        progress {\n",
       "            -webkit-appearance: none;\n",
       "            border: none;\n",
       "            border-radius: 3px;\n",
       "            width: 300px;\n",
       "            height: 20px;\n",
       "            vertical-align: middle;\n",
       "            margin-right: 10px;\n",
       "            background-color: aliceblue;\n",
       "        }\n",
       "        progress::-webkit-progress-bar {\n",
       "            border-radius: 3px;\n",
       "            background-color: aliceblue;\n",
       "        }\n",
       "        progress::-webkit-progress-value {\n",
       "            background-color: #9d60fb;\n",
       "        }\n",
       "        progress::-moz-progress-bar {\n",
       "            background-color: #9d60fb;\n",
       "        }\n",
       "    </style>\n",
       "    "
      ]
     },
     "metadata": {},
     "output_type": "display_data"
    },
    {
     "data": {
      "text/html": []
     },
     "metadata": {},
     "output_type": "display_data"
    },
    {
     "data": {
      "application/vnd.jupyter.widget-view+json": {
       "model_id": "a63440d51e3a4dcbb79873614b8256bf",
       "version_major": 2,
       "version_minor": 0
      },
      "text/plain": [
       "Accordion(children=(VBox(children=(HTML(value='\\n<h1 id=\"summary_VHI6WSDGOT7VK2HUVPBFG92LF\">Data Integrity Sui…"
      ]
     },
     "metadata": {},
     "output_type": "display_data"
    }
   ],
   "source": [
    "# Run Suite:\n",
    "integ_suite = data_integrity()\n",
    "suite_result = integ_suite.run(df)\n",
    "# Note: the result can be saved as html using suite_result.save_as_html()\n",
    "# or exported to json using suite_result.to_json()\n",
    "suite_result.show()"
   ]
  },
  {
   "cell_type": "code",
   "execution_count": null,
   "metadata": {},
   "outputs": [],
   "source": []
  },
  {
   "cell_type": "markdown",
   "metadata": {
    "id": "K22reBkbMuHa"
   },
   "source": [
    "### Exploratory Data Analysis"
   ]
  },
  {
   "cell_type": "code",
   "execution_count": 7,
   "metadata": {
    "ExecuteTime": {
     "end_time": "2023-03-02T18:34:48.817072Z",
     "start_time": "2023-03-02T18:34:48.797355Z"
    },
    "id": "qF6hbk0hpy8a"
   },
   "outputs": [
    {
     "data": {
      "text/plain": [
       "0    284315\n",
       "1       492\n",
       "Name: Class, dtype: int64"
      ]
     },
     "execution_count": 7,
     "metadata": {},
     "output_type": "execute_result"
    }
   ],
   "source": [
    "target_feature = df['Class'].value_counts()\n",
    "target_feature"
   ]
  },
  {
   "cell_type": "code",
   "execution_count": 8,
   "metadata": {
    "ExecuteTime": {
     "end_time": "2023-03-02T18:34:48.832352Z",
     "start_time": "2023-03-02T18:34:48.817655Z"
    }
   },
   "outputs": [
    {
     "data": {
      "text/plain": [
       "0    0.998273\n",
       "1    0.001727\n",
       "Name: Class, dtype: float64"
      ]
     },
     "execution_count": 8,
     "metadata": {},
     "output_type": "execute_result"
    }
   ],
   "source": [
    "ratio_target = target_feature/len(df.index)\n",
    "ratio_target"
   ]
  },
  {
   "cell_type": "code",
   "execution_count": 9,
   "metadata": {
    "ExecuteTime": {
     "end_time": "2023-03-02T18:34:48.848975Z",
     "start_time": "2023-03-02T18:34:48.834339Z"
    }
   },
   "outputs": [],
   "source": [
    "def prep_data(df: pd.DataFrame) -> (np.ndarray, np.ndarray):\n",
    "    \"\"\"\n",
    "    Convert the DataFrame into two variable\n",
    "    X: data columns (V1 - V28)\n",
    "    y: lable column\n",
    "    \"\"\"\n",
    "    X = df.iloc[:, 2:30].values\n",
    "    y = df.Class.values\n",
    "    return X, y"
   ]
  },
  {
   "cell_type": "code",
   "execution_count": 10,
   "metadata": {
    "ExecuteTime": {
     "end_time": "2023-03-02T18:34:48.865747Z",
     "start_time": "2023-03-02T18:34:48.850608Z"
    }
   },
   "outputs": [],
   "source": [
    "# Define a function to create a scatter plot of our data and labels\n",
    "def plot_data(X: np.ndarray, y: np.ndarray):\n",
    "    plt.scatter(X[y == 0, 0], X[y == 0, 1], label=\"Class #0\", alpha=0.5, linewidth=0.15)\n",
    "    plt.scatter(X[y == 1, 0], X[y == 1, 1], label=\"Class #1\", alpha=0.5, linewidth=0.15, c='r')\n",
    "    plt.legend()\n",
    "    return plt.show()"
   ]
  },
  {
   "cell_type": "code",
   "execution_count": 11,
   "metadata": {
    "ExecuteTime": {
     "end_time": "2023-03-02T18:34:51.341802Z",
     "start_time": "2023-03-02T18:34:48.867644Z"
    }
   },
   "outputs": [
    {
     "data": {
      "image/png": "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\n",
      "text/plain": [
       "<Figure size 640x480 with 1 Axes>"
      ]
     },
     "metadata": {},
     "output_type": "display_data"
    }
   ],
   "source": [
    "# Create X and y from the prep_data function \n",
    "X, y = prep_data(df)\n",
    "\n",
    "# Plot our data by running our plot data function on X and y\n",
    "plot_data(X, y)"
   ]
  },
  {
   "cell_type": "markdown",
   "metadata": {
    "id": "NGyEoz9fJQ0E"
   },
   "source": [
    "### Data Cleaning\n",
    "Check Missing Values and Outliers"
   ]
  },
  {
   "cell_type": "code",
   "execution_count": 12,
   "metadata": {
    "ExecuteTime": {
     "end_time": "2023-03-02T18:34:52.174796Z",
     "start_time": "2023-03-02T18:34:51.344542Z"
    }
   },
   "outputs": [
    {
     "data": {
      "text/plain": [
       "False    283726\n",
       "True       1081\n",
       "dtype: int64"
      ]
     },
     "execution_count": 12,
     "metadata": {},
     "output_type": "execute_result"
    }
   ],
   "source": [
    "df.duplicated().value_counts()"
   ]
  },
  {
   "cell_type": "code",
   "execution_count": 13,
   "metadata": {
    "ExecuteTime": {
     "end_time": "2023-03-02T18:34:53.075369Z",
     "start_time": "2023-03-02T18:34:52.177201Z"
    }
   },
   "outputs": [
    {
     "data": {
      "text/plain": [
       "0.00379555277784605"
      ]
     },
     "execution_count": 13,
     "metadata": {},
     "output_type": "execute_result"
    }
   ],
   "source": [
    "df.duplicated().value_counts()[1]/len(df.index)"
   ]
  },
  {
   "cell_type": "code",
   "execution_count": 14,
   "metadata": {
    "ExecuteTime": {
     "end_time": "2023-03-02T18:34:53.992745Z",
     "start_time": "2023-03-02T18:34:53.077572Z"
    }
   },
   "outputs": [],
   "source": [
    "df.drop_duplicates(inplace=True)"
   ]
  },
  {
   "cell_type": "code",
   "execution_count": null,
   "metadata": {
    "id": "BvpEPuGAMuHa"
   },
   "outputs": [],
   "source": []
  },
  {
   "cell_type": "markdown",
   "metadata": {
    "id": "tMOO7g-sMuHb"
   },
   "source": [
    "---\n",
    "---\n"
   ]
  },
  {
   "cell_type": "markdown",
   "metadata": {
    "id": "Yf6VvH6WMuHb"
   },
   "source": [
    "## 2. Data Preprocessing"
   ]
  },
  {
   "cell_type": "markdown",
   "metadata": {
    "id": "hlm6gCsKMuHb"
   },
   "source": [
    "#### Train - Test Split\n",
    "\n",
    "As in this case, for extremely imbalanced datasets you may want to make sure that classes are balanced across train and test data."
   ]
  },
  {
   "cell_type": "code",
   "execution_count": null,
   "metadata": {
    "id": "T9eVirf2UtjT"
   },
   "outputs": [],
   "source": []
  },
  {
   "cell_type": "markdown",
   "metadata": {
    "id": "Q_CC9vrDq9gl"
   },
   "source": [
    "## Train-Test Validation Checks\n",
    "* link : https://docs.deepchecks.com/stable/user-guide/tabular/auto_quickstarts/plot_quick_train_test_validation.html"
   ]
  },
  {
   "cell_type": "code",
   "execution_count": null,
   "metadata": {
    "id": "jCv4onWDq71b"
   },
   "outputs": [],
   "source": []
  },
  {
   "cell_type": "markdown",
   "metadata": {
    "id": "OV28RJBeMuHb"
   },
   "source": [
    "#### Scaling"
   ]
  },
  {
   "cell_type": "code",
   "execution_count": null,
   "metadata": {
    "id": "AuzpxEmKMuHb"
   },
   "outputs": [],
   "source": []
  },
  {
   "cell_type": "markdown",
   "metadata": {
    "id": "HO4HAIofMuHc"
   },
   "source": [
    "---\n",
    "---\n"
   ]
  },
  {
   "cell_type": "markdown",
   "metadata": {
    "id": "MwQdl4PdJQ0I"
   },
   "source": [
    "## 3. Model Building\n",
    "It was previously stated that you need to make class prediction with three different algorithms. As in this case, different approaches are required to obtain better performance on unbalanced data.\n",
    "\n",
    "This dataset is severely **unbalanced** (most of the transactions are non-fraud). So the algorithms are much more likely to classify new observations to the majority class and high accuracy won't tell us anything. To address the problem of imbalanced dataset, we can use undersampling and oversampling or class weight and optimum thresold techniques. \n",
    "\n",
    "***Note***: \n",
    "\n",
    "- *Do not forget to import the necessary libraries and modules before starting the model building!*\n",
    "\n",
    "- *If you are going to use the cross validation method to be more sure of the performance of your model for unbalanced data, you should make sure that the class distributions in the iterations are equal. For this case, you should use **[StratifiedKFold](https://www.analyseup.com/python-machine-learning/stratified-kfold.html)** instead of regular cross validation method.*"
   ]
  },
  {
   "cell_type": "markdown",
   "metadata": {
    "id": "zKZcwgucJQ0I"
   },
   "source": [
    "### Logistic Regression \n",
    "\n",
    "- The steps you are going to cover for this algorithm are as follows: \n",
    "\n",
    "   *i. Import Libraries*\n",
    "   \n",
    "   *ii. Model Training*\n",
    "   \n",
    "   *iii. Prediction and Model Evaluating (Apply StratifiedKFold) and Tuning*\n",
    "   \n",
    "   *iv. Plot Precision and Recall Curve*"
   ]
  },
  {
   "cell_type": "markdown",
   "metadata": {
    "id": "o48s5BCdMuHd"
   },
   "source": [
    "***i. Import Libraries***"
   ]
  },
  {
   "cell_type": "code",
   "execution_count": 56,
   "metadata": {
    "ExecuteTime": {
     "end_time": "2023-03-02T19:17:39.626956Z",
     "start_time": "2023-03-02T19:17:39.621835Z"
    },
    "id": "3G3cx-UjMuHd"
   },
   "outputs": [],
   "source": [
    "from sklearn.linear_model import LogisticRegression\n",
    "from sklearn.model_selection import train_test_split\n",
    "from sklearn.metrics import confusion_matrix, classification_report\n",
    "from sklearn.metrics import r2_score, roc_auc_score, precision_score, recall_score\n",
    "from sklearn.model_selection import GridSearchCV, StratifiedKFold"
   ]
  },
  {
   "cell_type": "code",
   "execution_count": 45,
   "metadata": {
    "ExecuteTime": {
     "end_time": "2023-03-02T18:55:33.858852Z",
     "start_time": "2023-03-02T18:55:33.821910Z"
    }
   },
   "outputs": [],
   "source": [
    "X = df.drop(\"Class\", axis =1)\n",
    "y = df[\"Class\"]"
   ]
  },
  {
   "cell_type": "code",
   "execution_count": 47,
   "metadata": {
    "ExecuteTime": {
     "end_time": "2023-03-02T19:03:24.590392Z",
     "start_time": "2023-03-02T18:59:19.271738Z"
    }
   },
   "outputs": [
    {
     "name": "stdout",
     "output_type": "stream",
     "text": [
      "Best roc_auc: 0.9827, with best C: {'C': 0.001}\n"
     ]
    }
   ],
   "source": [
    "#Grid Search\n",
    "logreg = LogisticRegression(class_weight='balanced', max_iter=1000, n_jobs=-1)\n",
    "param = {'C':[0.001,0.003,0.005,0.01,0.03,0.05,0.1,0.3,0.5,1,2,3,3,4,5,10,20]}\n",
    "clf = GridSearchCV(logreg,param,scoring='roc_auc',refit=True,cv=5)\n",
    "clf.fit(X,y)\n",
    "print('Best roc_auc: {:.4}, with best C: {}'.format(clf.best_score_, clf.best_params_))"
   ]
  },
  {
   "cell_type": "markdown",
   "metadata": {
    "id": "6KD76bc5MuHd"
   },
   "source": [
    "***ii. Model Training***"
   ]
  },
  {
   "cell_type": "markdown",
   "metadata": {
    "id": "uvKAJVTNMuHd"
   },
   "source": [
    "***iii. Prediction and Model Evaluating (Apply StratifiedKFold) and Tuning***"
   ]
  },
  {
   "cell_type": "markdown",
   "metadata": {
    "id": "l193OP5fMuHd"
   },
   "source": [
    "\n",
    "You're evaluating \"accuracy score\"? Is your performance metric reflect real success? You may need to use different metrics to evaluate performance on unbalanced data. You should use **[precision and recall metrics](https://scikit-learn.org/stable/auto_examples/model_selection/plot_precision_recall.html#:~:text=The%20precision%2Drecall%20curve%20shows,a%20low%20false%20negative%20rate.)**."
   ]
  },
  {
   "cell_type": "code",
   "execution_count": 58,
   "metadata": {
    "ExecuteTime": {
     "end_time": "2023-03-02T19:20:53.351218Z",
     "start_time": "2023-03-02T19:19:55.999055Z"
    },
    "id": "Kb68hH1TMuHd"
   },
   "outputs": [
    {
     "name": "stdout",
     "output_type": "stream",
     "text": [
      "Average Confusion Matrix:  [[5.66404e+04 1.02000e+01]\n",
      " [4.62000e+01 4.84000e+01]]\n",
      "Average ROC AUC score:  0.7556994478601871\n",
      "Average Precision:  0.8318162267839687\n",
      "Average Recall:  0.5115789473684209\n"
     ]
    }
   ],
   "source": [
    "# Define the k-fold Cross Validator\n",
    "kfold = StratifiedKFold(n_splits=5, shuffle=True, random_state=42)\n",
    "\n",
    "# Define empty lists to store the results\n",
    "scores = []\n",
    "conf_matrices = []\n",
    "precisions = []\n",
    "recalls = []\n",
    "\n",
    "# Loop over the folds of the dataset\n",
    "for train_index, test_index in kfold.split(X, y):\n",
    "    \n",
    "    # Split the data into train and test sets\n",
    "    X_train, X_test = X.iloc[train_index], X.iloc[test_index]\n",
    "    y_train, y_test = y.iloc[train_index], y.iloc[test_index]\n",
    "    \n",
    "    # Create a Logistic Regression model\n",
    "    logreg = LogisticRegression(C=0.001, max_iter=1000,n_jobs=-1)\n",
    "\n",
    "    # Train the model\n",
    "    logreg.fit(X_train, y_train)\n",
    "\n",
    "    # Make predictions on the test set\n",
    "    y_pred = logreg.predict(X_test)\n",
    "\n",
    "    # Evaluate the model and append the results\n",
    "    scores.append(roc_auc_score(y_test, y_pred))\n",
    "    conf_matrices.append(confusion_matrix(y_test, y_pred))\n",
    "    precisions.append(precision_score(y_test, y_pred))\n",
    "    recalls.append(recall_score(y_test, y_pred))\n",
    "\n",
    "# Print the average scores and matrices over the folds\n",
    "print(\"Average Confusion Matrix: \", np.mean(conf_matrices, axis=0))\n",
    "print(\"Average ROC AUC score: \", np.mean(scores))\n",
    "print(\"Average Precision: \", np.mean(precisions))\n",
    "print(\"Average Recall: \", np.mean(recalls))"
   ]
  },
  {
   "cell_type": "markdown",
   "metadata": {
    "id": "fUDt5voIMuHe"
   },
   "source": [
    "***iv. Plot Precision and Recall Curve***\n"
   ]
  },
  {
   "cell_type": "code",
   "execution_count": 60,
   "metadata": {
    "ExecuteTime": {
     "end_time": "2023-03-02T19:22:46.740342Z",
     "start_time": "2023-03-02T19:22:46.549375Z"
    },
    "id": "WI0OI9SDMuHe"
   },
   "outputs": [
    {
     "data": {
      "image/png": "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\n",
      "text/plain": [
       "<Figure size 640x480 with 1 Axes>"
      ]
     },
     "metadata": {},
     "output_type": "display_data"
    }
   ],
   "source": [
    "from sklearn.metrics import precision_recall_curve\n",
    "\n",
    "# Make predictions on the test set\n",
    "y_pred_proba = logreg.predict_proba(X_test)[:, 1]\n",
    "\n",
    "# Compute precision and recall for each threshold\n",
    "precision, recall, thresholds = precision_recall_curve(y_test, y_pred_proba)\n",
    "\n",
    "# Plot the precision-recall curve\n",
    "plt.plot(recall, precision, marker='.')\n",
    "plt.xlabel('Recall')\n",
    "plt.ylabel('Precision')\n",
    "plt.title('Precision-Recall Curve')\n",
    "plt.show()"
   ]
  },
  {
   "cell_type": "markdown",
   "metadata": {
    "id": "bwELs8xsJQ0Q"
   },
   "source": [
    "- Didn't the performance of the model you implemented above satisfy you? If your model is biased towards the majority class and minority class matrics is not sufficient, apply \"unbalanced data tecniques\"."
   ]
  },
  {
   "cell_type": "markdown",
   "metadata": {
    "id": "Yo2yUvCsr0-g"
   },
   "source": [
    "***v. Apply Model Evaluation Checks***\n",
    "* link : https://docs.deepchecks.com/stable/user-guide/tabular/auto_quickstarts/plot_quick_model_evaluation.html"
   ]
  },
  {
   "cell_type": "code",
   "execution_count": 59,
   "metadata": {
    "ExecuteTime": {
     "end_time": "2023-03-02T19:22:15.441205Z",
     "start_time": "2023-03-02T19:20:53.354115Z"
    },
    "scrolled": true
   },
   "outputs": [
    {
     "name": "stderr",
     "output_type": "stream",
     "text": [
      "deepchecks - WARNING - Received a \"pandas.DataFrame\" instance. It is recommended to pass a \"deepchecks.tabular.Dataset\" instance by initializing it with the data and metadata, for example by doing \"Dataset(dataframe, label=label, cat_features=cat_features)\"\n",
      "deepchecks - WARNING - It is recommended to initialize Dataset with categorical features by doing \"Dataset(df, cat_features=categorical_list)\". No categorical features were passed, therefore heuristically inferring categorical features in the data. 0 categorical features were inferred.\n",
      "deepchecks - WARNING - Received a \"pandas.DataFrame\" instance. It is recommended to pass a \"deepchecks.tabular.Dataset\" instance by initializing it with the data and metadata, for example by doing \"Dataset(dataframe, label=label, cat_features=cat_features)\"\n",
      "deepchecks - WARNING - It is recommended to initialize Dataset with categorical features by doing \"Dataset(df, cat_features=categorical_list)\". No categorical features were passed, therefore heuristically inferring categorical features in the data. 0 categorical features were inferred.\n"
     ]
    },
    {
     "data": {
      "text/html": [
       "\n",
       "    <style>\n",
       "        progress {\n",
       "            -webkit-appearance: none;\n",
       "            border: none;\n",
       "            border-radius: 3px;\n",
       "            width: 300px;\n",
       "            height: 20px;\n",
       "            vertical-align: middle;\n",
       "            margin-right: 10px;\n",
       "            background-color: aliceblue;\n",
       "        }\n",
       "        progress::-webkit-progress-bar {\n",
       "            border-radius: 3px;\n",
       "            background-color: aliceblue;\n",
       "        }\n",
       "        progress::-webkit-progress-value {\n",
       "            background-color: #9d60fb;\n",
       "        }\n",
       "        progress::-moz-progress-bar {\n",
       "            background-color: #9d60fb;\n",
       "        }\n",
       "    </style>\n",
       "    "
      ]
     },
     "metadata": {},
     "output_type": "display_data"
    },
    {
     "data": {
      "text/html": []
     },
     "metadata": {},
     "output_type": "display_data"
    },
    {
     "data": {
      "application/vnd.jupyter.widget-view+json": {
       "model_id": "fb50d3ee29284f81a94be5814aac246f",
       "version_major": 2,
       "version_minor": 0
      },
      "text/plain": [
       "Accordion(children=(VBox(children=(HTML(value='\\n<h1 id=\"summary_KJE1KW7TGC09UF96PO4DHAV9L\">Train Test Validat…"
      ]
     },
     "metadata": {},
     "output_type": "display_data"
    }
   ],
   "source": [
    "from deepchecks.suites import train_test_validation\n",
    "vsuite = train_test_validation()\n",
    "\n",
    "results = vsuite.run(model=logreg, train_dataset=X_train, test_dataset=X_test)\n",
    "results"
   ]
  },
  {
   "cell_type": "code",
   "execution_count": 63,
   "metadata": {
    "ExecuteTime": {
     "end_time": "2023-03-02T19:26:24.426922Z",
     "start_time": "2023-03-02T19:26:24.374567Z"
    }
   },
   "outputs": [],
   "source": [
    "from deepchecks.tabular import Dataset\n",
    "\n",
    "train_ds = Dataset(X_train, label=y_train, cat_features=[])\n",
    "test_ds = Dataset(X_test, label=y_test, cat_features=[])"
   ]
  },
  {
   "cell_type": "code",
   "execution_count": 64,
   "metadata": {
    "ExecuteTime": {
     "end_time": "2023-03-02T19:28:14.247502Z",
     "start_time": "2023-03-02T19:27:08.382299Z"
    },
    "id": "upFDOCu_sIMF",
    "scrolled": true
   },
   "outputs": [
    {
     "data": {
      "text/html": [
       "\n",
       "    <style>\n",
       "        progress {\n",
       "            -webkit-appearance: none;\n",
       "            border: none;\n",
       "            border-radius: 3px;\n",
       "            width: 300px;\n",
       "            height: 20px;\n",
       "            vertical-align: middle;\n",
       "            margin-right: 10px;\n",
       "            background-color: aliceblue;\n",
       "        }\n",
       "        progress::-webkit-progress-bar {\n",
       "            border-radius: 3px;\n",
       "            background-color: aliceblue;\n",
       "        }\n",
       "        progress::-webkit-progress-value {\n",
       "            background-color: #9d60fb;\n",
       "        }\n",
       "        progress::-moz-progress-bar {\n",
       "            background-color: #9d60fb;\n",
       "        }\n",
       "    </style>\n",
       "    "
      ]
     },
     "metadata": {},
     "output_type": "display_data"
    },
    {
     "data": {
      "text/html": []
     },
     "metadata": {},
     "output_type": "display_data"
    },
    {
     "name": "stderr",
     "output_type": "stream",
     "text": [
      "C:\\Users\\sebas\\AppData\\Roaming\\Python\\Python39\\site-packages\\joblib\\externals\\loky\\process_executor.py:700: UserWarning:\n",
      "\n",
      "A worker stopped while some jobs were given to the executor. This can be caused by a too short worker timeout or by a memory leak.\n",
      "\n"
     ]
    },
    {
     "data": {
      "application/vnd.jupyter.widget-view+json": {
       "model_id": "046dc0e5543d48b29d3195cf8315ec7c",
       "version_major": 2,
       "version_minor": 0
      },
      "text/plain": [
       "Accordion(children=(VBox(children=(HTML(value='\\n<h1 id=\"summary_CVDTAINEJZ74LO46ZAQJBHBKC\">Model Evaluation S…"
      ]
     },
     "metadata": {},
     "output_type": "display_data"
    }
   ],
   "source": [
    "from deepchecks.tabular.suites import model_evaluation\n",
    "\n",
    "evaluation_suite = model_evaluation()\n",
    "suite_result = evaluation_suite.run(train_ds, test_ds, logreg)\n",
    "\n",
    "suite_result.show()"
   ]
  },
  {
   "cell_type": "markdown",
   "metadata": {
    "id": "9wvBCEvpJQ0U"
   },
   "source": [
    "### Logistic Regression with Unbalanced Data Techniques\n",
    "\n",
    "- The steps you are going to cover for this algorithm are as follows: \n",
    "\n",
    "   *i. Import Libraries*\n",
    "   \n",
    "   *ii. Model Training*\n",
    "   \n",
    "   *iii. Prediction and Model Evaluating (Apply StratifiedKFold) and Tuning*\n",
    "   \n",
    "   *iv. Plot Precision and Recall Curve*"
   ]
  },
  {
   "cell_type": "markdown",
   "metadata": {
    "id": "IJqXQ_aHMuHf"
   },
   "source": [
    "***i. Train-Test Split (Again)***"
   ]
  },
  {
   "cell_type": "markdown",
   "metadata": {},
   "source": [
    "**Determining the best resampling method is situational**\n",
    " \n",
    "Random Undersampling (RUS):\n",
    "\n",
    "    If there is a lot of data and many minority cases, then undersampling may be computationally more convenient\n",
    "    \n",
    "    In most cases, throwing away data is not desirable\n",
    "Random Oversampling (ROS):\n",
    "\n",
    "    Straightforward\n",
    "    \n",
    "    Training the model on many duplicates\n",
    "SMOTE:\n",
    "\n",
    "    more sophisticated\n",
    "    \n",
    "    realistic data set\n",
    "    \n",
    "    training on synthetic data\n",
    "    \n",
    "    only works well if the minority case features are similar\n",
    "    \n",
    "        if fraud is spread through the data and not distinct, using nearest neighbors to create more fraud cases, introduces noise into the data, as the nearest neighbors might not be fraud cases"
   ]
  },
  {
   "cell_type": "code",
   "execution_count": 85,
   "metadata": {
    "ExecuteTime": {
     "end_time": "2023-03-02T19:46:27.270193Z",
     "start_time": "2023-03-02T19:46:23.877992Z"
    }
   },
   "outputs": [
    {
     "name": "stdout",
     "output_type": "stream",
     "text": [
      "              precision    recall  f1-score   support\n",
      "\n",
      "           0       1.00      0.98      0.99     56659\n",
      "           1       0.07      0.89      0.12        87\n",
      "\n",
      "    accuracy                           0.98     56746\n",
      "   macro avg       0.53      0.93      0.56     56746\n",
      "weighted avg       1.00      0.98      0.99     56746\n",
      "\n"
     ]
    }
   ],
   "source": [
    "from imblearn.over_sampling import SMOTE\n",
    "from imblearn.over_sampling import BorderlineSMOTE\n",
    "from imblearn.pipeline import Pipeline \n",
    "\n",
    "# Define resampling method and split into train and test\n",
    "method = SMOTE()\n",
    "X_train, X_test, y_train, y_test = train_test_split(X, y, train_size=0.8, random_state=0)\n",
    "\n",
    "# Apply resampling to the training data only\n",
    "X_resampled, y_resampled = method.fit_resample(X_train, y_train)\n",
    "\n",
    "# Continue fitting the model and obtain predictions\n",
    "model = LogisticRegression()\n",
    "model.fit(X_resampled, y_resampled)\n",
    "\n",
    "# Get model performance metrics\n",
    "predicted = model.predict(X_test)\n",
    "print(classification_report(y_test, predicted))"
   ]
  },
  {
   "cell_type": "code",
   "execution_count": 88,
   "metadata": {
    "ExecuteTime": {
     "end_time": "2023-03-02T19:48:50.337051Z",
     "start_time": "2023-03-02T19:48:45.718113Z"
    }
   },
   "outputs": [
    {
     "data": {
      "image/png": "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\n",
      "text/plain": [
       "<Figure size 640x480 with 1 Axes>"
      ]
     },
     "metadata": {},
     "output_type": "display_data"
    }
   ],
   "source": [
    "# Run the prep_data function\n",
    "X = df.iloc[:, 2:30].values\n",
    "y = df.Class.values\n",
    "\n",
    "# Define the resampling method\n",
    "method = SMOTE()\n",
    "\n",
    "# Create the resampled feature set\n",
    "X_resampled, y_resampled = method.fit_resample(X, y)\n",
    "\n",
    "# Plot the resampled data\n",
    "plot_data(X_resampled, y_resampled)"
   ]
  },
  {
   "cell_type": "code",
   "execution_count": 89,
   "metadata": {
    "ExecuteTime": {
     "end_time": "2023-03-02T19:49:16.054930Z",
     "start_time": "2023-03-02T19:49:16.036733Z"
    },
    "cell_style": "split"
   },
   "outputs": [
    {
     "data": {
      "text/plain": [
       "0    283253\n",
       "1       473\n",
       "dtype: int64"
      ]
     },
     "execution_count": 89,
     "metadata": {},
     "output_type": "execute_result"
    }
   ],
   "source": [
    "pd.value_counts(pd.Series(y))"
   ]
  },
  {
   "cell_type": "code",
   "execution_count": 90,
   "metadata": {
    "ExecuteTime": {
     "end_time": "2023-03-02T19:49:28.291094Z",
     "start_time": "2023-03-02T19:49:28.278220Z"
    },
    "cell_style": "split"
   },
   "outputs": [
    {
     "data": {
      "text/plain": [
       "0    283253\n",
       "1    283253\n",
       "dtype: int64"
      ]
     },
     "execution_count": 90,
     "metadata": {},
     "output_type": "execute_result"
    }
   ],
   "source": [
    "pd.value_counts(pd.Series(y_resampled))"
   ]
  },
  {
   "cell_type": "code",
   "execution_count": 91,
   "metadata": {
    "ExecuteTime": {
     "end_time": "2023-03-02T19:49:47.859095Z",
     "start_time": "2023-03-02T19:49:47.838795Z"
    }
   },
   "outputs": [],
   "source": [
    "def compare_plot(X: np.ndarray, y: np.ndarray, X_resampled: np.ndarray, y_resampled: np.ndarray, method: str):\n",
    "    plt.subplot(1, 2, 1)\n",
    "    plt.scatter(X[y == 0, 0], X[y == 0, 1], label=\"Class #0\", alpha=0.5, linewidth=0.15)\n",
    "    plt.scatter(X[y == 1, 0], X[y == 1, 1], label=\"Class #1\", alpha=0.5, linewidth=0.15, c='r')\n",
    "    plt.title('Original Set')\n",
    "    plt.subplot(1, 2, 2)\n",
    "    plt.scatter(X_resampled[y_resampled == 0, 0], X_resampled[y_resampled == 0, 1], label=\"Class #0\", alpha=0.5, linewidth=0.15)\n",
    "    plt.scatter(X_resampled[y_resampled == 1, 0], X_resampled[y_resampled == 1, 1], label=\"Class #1\", alpha=0.5, linewidth=0.15, c='r')\n",
    "    plt.title(method)\n",
    "    plt.legend()\n",
    "    plt.show()"
   ]
  },
  {
   "cell_type": "code",
   "execution_count": 92,
   "metadata": {
    "ExecuteTime": {
     "end_time": "2023-03-02T19:50:06.880836Z",
     "start_time": "2023-03-02T19:50:02.054768Z"
    }
   },
   "outputs": [
    {
     "data": {
      "image/png": "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\n",
      "text/plain": [
       "<Figure size 640x480 with 2 Axes>"
      ]
     },
     "metadata": {},
     "output_type": "display_data"
    }
   ],
   "source": [
    "compare_plot(X, y, X_resampled, y_resampled, method='SMOTE')"
   ]
  },
  {
   "cell_type": "markdown",
   "metadata": {
    "id": "evc6DLPcMuHf"
   },
   "source": [
    "***ii. Model Training***"
   ]
  },
  {
   "cell_type": "code",
   "execution_count": 100,
   "metadata": {
    "ExecuteTime": {
     "end_time": "2023-03-02T19:58:09.411166Z",
     "start_time": "2023-03-02T19:57:06.068650Z"
    },
    "id": "hz36IA3EMuHf"
   },
   "outputs": [
    {
     "name": "stdout",
     "output_type": "stream",
     "text": [
      "Average Confusion Matrix:  [[55637.   1013.6]\n",
      " [ 3888.  52762.6]]\n",
      "Average ROC AUC score:  0.9567383199121211\n",
      "Average Precision:  0.9811525183926226\n",
      "Average Recall:  0.9313687717691993\n"
     ]
    }
   ],
   "source": [
    "# Define the k-fold Cross Validator\n",
    "kfold = StratifiedKFold(n_splits=5, shuffle=True, random_state=42)\n",
    "y_resampled = pd.DataFrame(y_resampled)\n",
    "X_resampled = pd.DataFrame(X_resampled)\n",
    "y_resampled = pd.Series(y_resampled.values.ravel())\n",
    "\n",
    "# Define empty lists to store the results\n",
    "scores = []\n",
    "conf_matrices = []\n",
    "precisions = []\n",
    "recalls = []\n",
    "\n",
    "# Loop over the folds of the dataset\n",
    "for train_index, test_index in kfold.split(X_resampled, y_resampled):\n",
    "    \n",
    "    # Split the data into train and test sets\n",
    "    X_train, X_test = X_resampled.iloc[train_index], X_resampled.iloc[test_index]\n",
    "    y_train, y_test = y_resampled.iloc[train_index], y_resampled.iloc[test_index]\n",
    "    \n",
    "    # Create a Logistic Regression model\n",
    "    logreg = LogisticRegression(C=0.001, max_iter=1000,n_jobs=-1)\n",
    "\n",
    "    # Train the model\n",
    "    logreg.fit(X_train, y_train.ravel())\n",
    "\n",
    "    # Make predictions on the test set\n",
    "    y_pred = logreg.predict(X_test)\n",
    "\n",
    "    # Evaluate the model and append the results\n",
    "    scores.append(roc_auc_score(y_test, y_pred))\n",
    "    conf_matrices.append(confusion_matrix(y_test, y_pred))\n",
    "    precisions.append(precision_score(y_test, y_pred))\n",
    "    recalls.append(recall_score(y_test, y_pred))\n",
    "\n",
    "# Print the average scores and matrices over the folds\n",
    "print(\"Average Confusion Matrix: \", np.mean(conf_matrices, axis=0))\n",
    "print(\"Average ROC AUC score: \", np.mean(scores))\n",
    "print(\"Average Precision: \", np.mean(precisions))\n",
    "print(\"Average Recall: \", np.mean(recalls))"
   ]
  },
  {
   "cell_type": "markdown",
   "metadata": {
    "id": "kqJHSV5FMuHf"
   },
   "source": [
    "***Prediction and Model Evaluating (Apply StratifiedKFold) and Tuning***"
   ]
  },
  {
   "cell_type": "code",
   "execution_count": null,
   "metadata": {
    "id": "J_lxSdHyMuHg"
   },
   "outputs": [],
   "source": []
  },
  {
   "cell_type": "markdown",
   "metadata": {
    "id": "AFGgLGBqMuHg"
   },
   "source": [
    "***iv.  Plot Precision and Recall Curve***\n"
   ]
  },
  {
   "cell_type": "code",
   "execution_count": 101,
   "metadata": {
    "ExecuteTime": {
     "end_time": "2023-03-02T20:25:36.885845Z",
     "start_time": "2023-03-02T20:25:36.551668Z"
    },
    "id": "CWdU7r-UMuHg"
   },
   "outputs": [
    {
     "data": {
      "image/png": "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\n",
      "text/plain": [
       "<Figure size 640x480 with 1 Axes>"
      ]
     },
     "metadata": {},
     "output_type": "display_data"
    }
   ],
   "source": [
    "from sklearn.metrics import precision_recall_curve\n",
    "\n",
    "# Make predictions on the test set\n",
    "y_pred_proba = logreg.predict_proba(X_test)[:, 1]\n",
    "\n",
    "# Compute precision and recall for each threshold\n",
    "precision, recall, thresholds = precision_recall_curve(y_test, y_pred_proba)\n",
    "\n",
    "# Plot the precision-recall curve\n",
    "plt.plot(recall, precision, marker='.')\n",
    "plt.xlabel('Recall')\n",
    "plt.ylabel('Precision')\n",
    "plt.title('Precision-Recall Curve')\n",
    "plt.show()"
   ]
  },
  {
   "cell_type": "markdown",
   "metadata": {
    "id": "Akr5mWKhseJ4"
   },
   "source": [
    "***v. Apply Model Evaluation Checks***\n",
    "* link : https://docs.deepchecks.com/stable/user-guide/tabular/auto_quickstarts/plot_quick_model_evaluation.html"
   ]
  },
  {
   "cell_type": "code",
   "execution_count": null,
   "metadata": {
    "id": "KfwffynKsgsa"
   },
   "outputs": [],
   "source": []
  },
  {
   "cell_type": "markdown",
   "metadata": {
    "id": "_3zm70O7JQ0Z"
   },
   "source": [
    "### Random Forest Classifier with Unbalanced Data Techniques\n",
    "\n",
    "- The steps you are going to cover for this algorithm are as follows:\n",
    "\n",
    "   *i. Model Training*\n",
    "   \n",
    "   *ii. Prediction and Model Evaluating (Apply StratifiedKFold) and Tuning*\n",
    "   \n",
    "   *iii. Plot Precision and Recall Curve*\n",
    "   "
   ]
  },
  {
   "cell_type": "markdown",
   "metadata": {
    "id": "sr5U80HbMuHg"
   },
   "source": [
    "***i. Model Training***"
   ]
  },
  {
   "cell_type": "code",
   "execution_count": null,
   "metadata": {
    "ExecuteTime": {
     "end_time": "2023-03-02T18:34:54.567945Z",
     "start_time": "2023-03-02T18:34:54.567945Z"
    }
   },
   "outputs": [],
   "source": [
    "X_train, X_test, y_train, y_test = train_test_split(X, y, test_size=0.2)"
   ]
  },
  {
   "cell_type": "code",
   "execution_count": null,
   "metadata": {
    "ExecuteTime": {
     "end_time": "2023-03-02T18:34:54.568442Z",
     "start_time": "2023-03-02T18:34:54.568442Z"
    },
    "id": "kuvRr7f3MuHh"
   },
   "outputs": [],
   "source": [
    "from sklearn.ensemble import RandomForestClassifier\n",
    "model = RandomForestClassifier(random_state=42)\n",
    "model.fit(X_train, y_train)\n",
    "prediced = model.predict(X_test)\n"
   ]
  },
  {
   "cell_type": "markdown",
   "metadata": {
    "id": "dJ9TJdpmMuHh"
   },
   "source": [
    "***ii. Prediction and Model Evaluating (Apply StratifiedKFold) and Tuning***"
   ]
  },
  {
   "cell_type": "code",
   "execution_count": null,
   "metadata": {
    "id": "BaNd2jTRMuHh"
   },
   "outputs": [],
   "source": []
  },
  {
   "cell_type": "markdown",
   "metadata": {
    "id": "8bdqEhrdMuHh"
   },
   "source": [
    "***iii. Plot Precision and Recall Curve***\n"
   ]
  },
  {
   "cell_type": "code",
   "execution_count": null,
   "metadata": {
    "id": "smne1OBWMuHh"
   },
   "outputs": [],
   "source": []
  },
  {
   "cell_type": "markdown",
   "metadata": {
    "id": "pRDWOdB4sjIC"
   },
   "source": [
    "***v. Apply Model Evaluation Checks***\n",
    "* link : https://docs.deepchecks.com/stable/user-guide/tabular/auto_quickstarts/plot_quick_model_evaluation.html"
   ]
  },
  {
   "cell_type": "code",
   "execution_count": null,
   "metadata": {
    "id": "G9P58AMGskcY"
   },
   "outputs": [],
   "source": []
  },
  {
   "cell_type": "markdown",
   "metadata": {
    "id": "T5IgEAE-T-QR"
   },
   "source": [
    "### XGBoost Classifier with Unbalanced Data Techniques\n",
    "\n",
    "- The steps you are going to cover for this algorithm are as follows:\n",
    "\n",
    "   *i. Model Training*\n",
    "   \n",
    "   *ii. Prediction and Model Evaluating (Apply StratifiedKFold) and Tuning*\n",
    "   \n",
    "   *iii. Plot Precision and Recall Curve*\n",
    "   "
   ]
  },
  {
   "cell_type": "markdown",
   "metadata": {
    "id": "vtl41WAUT-QS"
   },
   "source": [
    "***i. Model Training***"
   ]
  },
  {
   "cell_type": "code",
   "execution_count": null,
   "metadata": {
    "id": "T4dGJYsMT-QT"
   },
   "outputs": [],
   "source": []
  },
  {
   "cell_type": "markdown",
   "metadata": {
    "id": "TG4Tb0WuT-QU"
   },
   "source": [
    "***ii. Prediction and Model Evaluating (Apply StratifiedKFold) and Tuning***"
   ]
  },
  {
   "cell_type": "code",
   "execution_count": null,
   "metadata": {
    "id": "NtYBe4FVT-QV"
   },
   "outputs": [],
   "source": []
  },
  {
   "cell_type": "markdown",
   "metadata": {
    "id": "z9B4_xOpT-QW"
   },
   "source": [
    "***iii. Plot Precision and Recall Curve***\n"
   ]
  },
  {
   "cell_type": "code",
   "execution_count": null,
   "metadata": {
    "id": "BqNbfMguT-QX"
   },
   "outputs": [],
   "source": []
  },
  {
   "cell_type": "markdown",
   "metadata": {
    "id": "mFpIISNzsm55"
   },
   "source": [
    "***v. Apply Model Evaluation Checks***\n",
    "* link : https://docs.deepchecks.com/stable/user-guide/tabular/auto_quickstarts/plot_quick_model_evaluation.html"
   ]
  },
  {
   "cell_type": "code",
   "execution_count": null,
   "metadata": {
    "id": "AEbwEKvospoK"
   },
   "outputs": [],
   "source": []
  },
  {
   "cell_type": "markdown",
   "metadata": {
    "id": "ife6NlFRJQ0f"
   },
   "source": [
    "### Neural Network\n",
    "\n",
    "In the final step, you will make classification with Neural Network which is a Deep Learning algorithm. \n",
    "\n",
    "Neural networks are a series of algorithms that mimic the operations of a human brain to recognize relationships between vast amounts of data. They are used in a variety of applications in financial services, from forecasting and marketing research to fraud detection and risk assessment.\n",
    "\n",
    "A neural network contains layers of interconnected nodes. Each node is a perceptron and is similar to a multiple linear regression. The perceptron feeds the signal produced by a multiple linear regression into an activation function that may be nonlinear.\n",
    "\n",
    "In a multi-layered perceptron (MLP), perceptrons are arranged in interconnected layers. The input layer collects input patterns. The output layer has classifications or output signals to which input patterns may map. \n",
    "\n",
    "Hidden layers fine-tune the input weightings until the neural network’s margin of error is minimal. It is hypothesized that hidden layers extrapolate salient features in the input data that have predictive power regarding the outputs.\n",
    "\n",
    "You will discover **[how to create](https://towardsdatascience.com/building-our-first-neural-network-in-keras-bdc8abbc17f5)** your deep learning neural network model in Python using **[Keras](https://keras.io/about/)**. Keras is a powerful and easy-to-use free open source Python library for developing and evaluating deep learning models.\n",
    "\n",
    "- The steps you are going to cover for this algorithm are as follows:\n",
    "\n",
    "   *i. Import Libraries*\n",
    "   \n",
    "   *ii. Define Model*\n",
    "    \n",
    "   *iii. Compile Model*\n",
    "   \n",
    "   *iv. Fit Model*\n",
    "   \n",
    "   *v. Prediction and Model Evaluating*\n",
    "   \n",
    "   *vi. Plot Precision and Recall Curve*"
   ]
  },
  {
   "cell_type": "markdown",
   "metadata": {
    "id": "i9Rl75fpMuHi"
   },
   "source": [
    "***i. Import Libraries***"
   ]
  },
  {
   "cell_type": "code",
   "execution_count": null,
   "metadata": {
    "id": "LhEc3K9KMuHi"
   },
   "outputs": [],
   "source": []
  },
  {
   "cell_type": "markdown",
   "metadata": {
    "id": "gD6Rh1R8MuHi"
   },
   "source": [
    "***ii. Define Model***"
   ]
  },
  {
   "cell_type": "code",
   "execution_count": null,
   "metadata": {
    "id": "4okQmpRpMuHi"
   },
   "outputs": [],
   "source": []
  },
  {
   "cell_type": "markdown",
   "metadata": {
    "id": "_IQN7--qMuHi"
   },
   "source": [
    "***iii. Compile Model***"
   ]
  },
  {
   "cell_type": "code",
   "execution_count": null,
   "metadata": {
    "id": "f4W96rfHMuHi"
   },
   "outputs": [],
   "source": []
  },
  {
   "cell_type": "markdown",
   "metadata": {
    "id": "PsM_5PhJMuHi"
   },
   "source": [
    "***iv. Fit Model***"
   ]
  },
  {
   "cell_type": "code",
   "execution_count": null,
   "metadata": {
    "id": "cmkPKExFMuHj"
   },
   "outputs": [],
   "source": []
  },
  {
   "cell_type": "markdown",
   "metadata": {
    "id": "InMeP9kgMuHj"
   },
   "source": [
    "***v. Prediction and Model Evaluating***"
   ]
  },
  {
   "cell_type": "code",
   "execution_count": null,
   "metadata": {
    "id": "wRi_uFjIMuHj"
   },
   "outputs": [],
   "source": []
  },
  {
   "cell_type": "markdown",
   "metadata": {
    "id": "_JAEDNkjMuHj"
   },
   "source": [
    "***vi. Plot Precision and Recall Curve***"
   ]
  },
  {
   "cell_type": "code",
   "execution_count": null,
   "metadata": {
    "id": "RJWcx-kQstx5"
   },
   "outputs": [],
   "source": []
  },
  {
   "cell_type": "markdown",
   "metadata": {
    "id": "hvAi1Czcsu5f"
   },
   "source": [
    "***v. Apply Model Evaluation Checks***\n",
    "* link : https://docs.deepchecks.com/stable/user-guide/tabular/auto_quickstarts/plot_quick_model_evaluation.html"
   ]
  },
  {
   "cell_type": "code",
   "execution_count": null,
   "metadata": {
    "id": "YjmnSPm4sv5j"
   },
   "outputs": [],
   "source": []
  },
  {
   "cell_type": "markdown",
   "metadata": {
    "id": "LpbiGnpIxVK3"
   },
   "source": [
    "## 4. Model Deployement\n",
    "You cooked the food in the kitchen and moved on to the serving stage. The question is how do you showcase your work to others? Model Deployement helps you showcase your work to the world and make better decisions with it. But, deploying a model can get a little tricky at times. Before deploying the model, many things such as data storage, preprocessing, model building and monitoring need to be studied.\n",
    "\n",
    "Deployment of machine learning models, means making your models available to your other business systems. By deploying models, other systems can send data to them and get their predictions, which are in turn populated back into the company systems. Through machine learning model deployment, can begin to take full advantage of the model you built.\n",
    "\n",
    "Data science is concerned with how to build machine learning models, which algorithm is more predictive, how to design features, and what variables to use to make the models more accurate. However, how these models are actually used is often neglected. And yet this is the most important step in the machine learning pipline. Only when a model is fully integrated with the business systems, real values ​​can be extract from its predictions.\n",
    "\n",
    "After doing the following operations in this notebook, jump to a proper IDE and create your web app with Streamlit API."
   ]
  },
  {
   "cell_type": "markdown",
   "metadata": {
    "id": "oCAYcMLEH_7P"
   },
   "source": [
    "### Save and Export the Best Model\n"
   ]
  },
  {
   "cell_type": "code",
   "execution_count": null,
   "metadata": {
    "id": "MqluJ9yvIOex"
   },
   "outputs": [],
   "source": []
  },
  {
   "cell_type": "markdown",
   "metadata": {
    "id": "vaZP1N93IPQi"
   },
   "source": [
    "### Save and Export Variables"
   ]
  },
  {
   "cell_type": "code",
   "execution_count": null,
   "metadata": {
    "id": "q_vA-dJWxfFH"
   },
   "outputs": [],
   "source": []
  },
  {
   "cell_type": "markdown",
   "metadata": {
    "id": "cm9Z__Y7MuHj"
   },
   "source": [
    "___\n",
    "\n",
    "<p style=\"text-align: center;\"><img src=\"https://docs.google.com/uc?id=1lY0Uj5R04yMY3-ZppPWxqCr5pvBLYPnV\" class=\"img-fluid\" alt=\"CLRSWY\"></p>\n",
    "\n",
    "___"
   ]
  }
 ],
 "metadata": {
  "colab": {
   "collapsed_sections": [],
   "provenance": []
  },
  "hide_input": false,
  "kernelspec": {
   "display_name": "Python 3 (ipykernel)",
   "language": "python",
   "name": "python3"
  },
  "language_info": {
   "codemirror_mode": {
    "name": "ipython",
    "version": 3
   },
   "file_extension": ".py",
   "mimetype": "text/x-python",
   "name": "python",
   "nbconvert_exporter": "python",
   "pygments_lexer": "ipython3",
   "version": "3.9.16"
  },
  "toc": {
   "base_numbering": 1,
   "nav_menu": {},
   "number_sections": true,
   "sideBar": true,
   "skip_h1_title": false,
   "title_cell": "Table of Contents",
   "title_sidebar": "Contents",
   "toc_cell": false,
   "toc_position": {},
   "toc_section_display": true,
   "toc_window_display": false
  },
  "vscode": {
   "interpreter": {
    "hash": "b91502e98c93ec413571a3c4a71c4e7e2f090119475bdef759aa0802c5125d05"
   }
  }
 },
 "nbformat": 4,
 "nbformat_minor": 1
}
=======
>>>>>>> a06e12d038c6f9da7aa39bab861642008b85cb28
  "cells": [
    {
      "cell_type": "markdown",
      "metadata": {
        "id": "jx3Ut_rjMuHR"
      },
      "source": [
        "___\n",
        "\n",
        "<p style=\"text-align: center;\"><img src=\"https://docs.google.com/uc?id=1lY0Uj5R04yMY3-ZppPWxqCr5pvBLYPnV\" class=\"img-fluid\" alt=\"CLRSWY\"></p>\n",
        "\n",
        "___"
      ]
    },
    {
      "cell_type": "markdown",
      "metadata": {
        "id": "-24P_wByMuHX"
      },
      "source": [
        "# WELCOME!"
      ]
    },
    {
      "cell_type": "markdown",
      "metadata": {
        "id": "Ow9AD-4vMuHX"
      },
      "source": [
        "Welcome to \"***Fraud Detection Project***\". This is the last project of the Capstone Series.\n",
        "\n",
        "One of the challenges in this project is the absence of domain knowledge. So without knowing what the column names are, you will only be interested in their values. The other one is the class frequencies of the target variable are quite imbalanced.\n",
        "\n",
        "You will implement ***Logistic Regression, Random Forest, XGBoost,and Neural Network*** algorithms and ***Unbalanced Data Techniques*** . Also visualize performances of the models using ***Seaborn, Matplotlib*** and ***Yellowbrick*** in a variety of ways.\n",
        "\n",
        "Data drift and model drirft are key consepts about ML and MLOPS, you can monitor and check your data and models with plenty of ways and tools. ***Deepchecks*** is one of them and the leading tool for testing and for validating your machine learning models and data, and it enables doing so with minimal effort. In this project, you will apply ***Data Integrity, Train-Test Validation, and Model Evaluation*** checks.\n",
        "Deepchecks Intruduction : https://youtu.be/7ELdizoi6BU\n",
        "\n",
        "At the end of the project, you will have the opportunity to deploy your model by ***Streamlit API***.\n",
        "\n",
        "Before diving into the project, please take a look at the Determines and Tasks.\n",
        "\n",
        "- ***NOTE:*** *This tutorial assumes that you already know the basics of coding in Python and are familiar with model deployement (Streamlit) as well as the theory behind algorithms*\n",
        "\n"
      ]
    },
    {
      "cell_type": "markdown",
      "metadata": {
        "id": "dqbMkIZ-MuHY"
      },
      "source": [
        "---\n",
        "---\n"
      ]
    },
    {
      "cell_type": "markdown",
      "metadata": {
        "id": "spCFDhO7MuHY"
      },
      "source": [
        "# #Determines\n",
        "The datasets contains transactions made by credit cards in September 2013 by european cardholders. This dataset presents transactions that occurred in two days, where it has **492 frauds** out of **284,807** transactions. The dataset is **highly unbalanced**, the positive class (frauds) account for 0.172% of all transactions.\n",
        "\n",
        "**Feature Information:**\n",
        "\n",
        "**Time**: This feature is contains the seconds elapsed between each transaction and the first transaction in the dataset. \n",
        "\n",
        "**Amount**:  This feature is the transaction Amount, can be used for example-dependant cost-senstive learning. \n",
        "\n",
        "**Class**: This feature is the target variable and it takes value 1 in case of fraud and 0 otherwise.\n",
        "\n",
        "---\n",
        "\n",
        "The aim of this project is to predict whether a credit card transaction is fraudulent. Of course, this is not easy to do.\n",
        "First of all, you need to analyze and recognize your data well in order to draw your roadmap and choose the correct arguments you will use. Accordingly, you can examine the frequency distributions of variables. You can observe variable correlations and want to explore multicollinearity. You can display the distribution of the target variable's classes over other variables. \n",
        "Also, it is useful to take missing values and outliers.\n",
        "\n",
        "After these procedures, you can move on to the model building stage by doing the basic data pre-processing you are familiar with. \n",
        "\n",
        "Start with Logistic Regression and evaluate model performance. You will apply the Unbalanced Data Techniques used to increase the performance. Next, observe their effects.\n",
        "\n",
        "Then, you will use four different algorithms in the model building phase. \n",
        "\n",
        "In the final step, you will deploy your model using ***Streamlit API***. \n",
        "\n",
        "**Optional**: You can Dockerize your project and deploy on cloud."
      ]
    },
    {
      "cell_type": "markdown",
      "metadata": {
        "id": "YOl6z9mXMuHY"
      },
      "source": [
        "---\n",
        "---\n"
      ]
    },
    {
      "cell_type": "markdown",
      "metadata": {
        "id": "1o6X3hLLMuHZ"
      },
      "source": [
        "# #Tasks\n",
        "\n",
        "#### 1. Exploratory Data Analysis & Data Cleaning\n",
        "\n",
        "- Import Modules, Load Data & Data Review\n",
        "- Apply data integrity checks\n",
        "- Exploratory Data Analysis\n",
        "- Data Cleaning\n",
        "    \n",
        "#### 2. Data Preprocessing\n",
        "\n",
        "- Train - Test Split\n",
        "- Train - Test Split Validation Checks\n",
        "- Scaling\n",
        "\n",
        "#### 3. Model Building\n",
        "\n",
        "- Logistic Regression \n",
        "- Random Forest Classifier\n",
        "- XGBoost Classifier\n",
        "- Neural Network\n",
        "- \n",
        "\n",
        "#### 4. Model Deployement\n",
        "\n",
        "- Save and Export the Best Model\n",
        "- Save and Export Variables\n",
        "\n",
        "\n"
      ]
    },
    {
      "cell_type": "markdown",
      "metadata": {
        "id": "9sDSWJywMuHZ"
      },
      "source": [
        "---\n",
        "---\n"
      ]
    },
    {
      "cell_type": "markdown",
      "metadata": {
        "id": "fbFMU3AdMuHZ"
      },
      "source": [
        "## 1. Exploratory Data Analysis & Data Cleaning"
      ]
    },
    {
      "cell_type": "markdown",
      "metadata": {
        "id": "5nmI08_GMuHZ"
      },
      "source": [
        "### Import Modules, Load Data & Data Review"
      ]
    },
    {
      "cell_type": "code",
      "execution_count": 1,
      "metadata": {
        "id": "yKZtJybfMuHa"
      },
      "outputs": [],
      "source": [
        "import numpy as np\n",
        "import pandas as pd\n",
        "import matplotlib.pyplot as plt\n",
        "import seaborn as sns\n",
        "sns.set_theme()\n",
        "\n",
        "import warnings      # ignore warnings\n",
        "warnings.filterwarnings('ignore')"
      ]
    },
    {
      "cell_type": "code",
      "source": [
        "from google.colab import drive\n",
        "drive.mount('/content/drive')"
      ],
      "metadata": {
        "colab": {
          "base_uri": "https://localhost:8080/"
        },
        "id": "Rn-VYBDyj8Dc",
        "outputId": "9cc9c23b-51b4-4683-96a0-22759858c267"
      },
      "execution_count": 2,
      "outputs": [
        {
          "output_type": "stream",
          "name": "stdout",
          "text": [
            "Mounted at /content/drive\n"
          ]
        }
      ]
    },
    {
      "cell_type": "code",
      "source": [
        "df = pd.read_csv(\"/content/drive/MyDrive/Colab_Files/creditcard.csv\")"
      ],
      "metadata": {
        "id": "xU3Ij2DSj8Ww"
      },
      "execution_count": 3,
      "outputs": []
    },
    {
      "cell_type": "markdown",
      "source": [
        "## Apply Data Integrity Checks\n",
        "* link: https://docs.deepchecks.com/stable/user-guide/tabular/auto_quickstarts/plot_quick_data_integrity.html"
      ],
      "metadata": {
        "id": "-iy4dwCdp4BJ"
      }
    },
    {
      "cell_type": "code",
      "source": [],
      "metadata": {
        "id": "HTwk0TmAlpnJ"
      },
      "execution_count": null,
      "outputs": []
    },
    {
      "cell_type": "code",
      "source": [],
      "metadata": {
        "id": "o8QngDbKlpa5"
      },
      "execution_count": null,
      "outputs": []
    },
    {
      "cell_type": "code",
      "source": [],
      "metadata": {
        "id": "99fT8vkwlpNj"
      },
      "execution_count": null,
      "outputs": []
    },
    {
      "cell_type": "markdown",
      "metadata": {
        "id": "K22reBkbMuHa"
      },
      "source": [
        "### Exploratory Data Analysis"
      ]
    },
    {
      "cell_type": "code",
      "source": [
        "df.head()"
      ],
      "metadata": {
        "id": "BuHZl_AlqF30",
        "colab": {
          "base_uri": "https://localhost:8080/",
          "height": 300
        },
        "outputId": "8fda6af4-46f9-45cd-ca07-b77e72b3aa94"
      },
      "execution_count": 4,
      "outputs": [
        {
          "output_type": "execute_result",
          "data": {
            "text/plain": [
              "   Time        V1        V2        V3        V4        V5        V6        V7  \\\n",
              "0   0.0 -1.359807 -0.072781  2.536347  1.378155 -0.338321  0.462388  0.239599   \n",
              "1   0.0  1.191857  0.266151  0.166480  0.448154  0.060018 -0.082361 -0.078803   \n",
              "2   1.0 -1.358354 -1.340163  1.773209  0.379780 -0.503198  1.800499  0.791461   \n",
              "3   1.0 -0.966272 -0.185226  1.792993 -0.863291 -0.010309  1.247203  0.237609   \n",
              "4   2.0 -1.158233  0.877737  1.548718  0.403034 -0.407193  0.095921  0.592941   \n",
              "\n",
              "         V8        V9  ...       V21       V22       V23       V24       V25  \\\n",
              "0  0.098698  0.363787  ... -0.018307  0.277838 -0.110474  0.066928  0.128539   \n",
              "1  0.085102 -0.255425  ... -0.225775 -0.638672  0.101288 -0.339846  0.167170   \n",
              "2  0.247676 -1.514654  ...  0.247998  0.771679  0.909412 -0.689281 -0.327642   \n",
              "3  0.377436 -1.387024  ... -0.108300  0.005274 -0.190321 -1.175575  0.647376   \n",
              "4 -0.270533  0.817739  ... -0.009431  0.798278 -0.137458  0.141267 -0.206010   \n",
              "\n",
              "        V26       V27       V28  Amount  Class  \n",
              "0 -0.189115  0.133558 -0.021053  149.62      0  \n",
              "1  0.125895 -0.008983  0.014724    2.69      0  \n",
              "2 -0.139097 -0.055353 -0.059752  378.66      0  \n",
              "3 -0.221929  0.062723  0.061458  123.50      0  \n",
              "4  0.502292  0.219422  0.215153   69.99      0  \n",
              "\n",
              "[5 rows x 31 columns]"
            ],
            "text/html": [
              "\n",
              "  <div id=\"df-5e452aea-ee0c-4d40-9734-936a89b25d9b\">\n",
              "    <div class=\"colab-df-container\">\n",
              "      <div>\n",
              "<style scoped>\n",
              "    .dataframe tbody tr th:only-of-type {\n",
              "        vertical-align: middle;\n",
              "    }\n",
              "\n",
              "    .dataframe tbody tr th {\n",
              "        vertical-align: top;\n",
              "    }\n",
              "\n",
              "    .dataframe thead th {\n",
              "        text-align: right;\n",
              "    }\n",
              "</style>\n",
              "<table border=\"1\" class=\"dataframe\">\n",
              "  <thead>\n",
              "    <tr style=\"text-align: right;\">\n",
              "      <th></th>\n",
              "      <th>Time</th>\n",
              "      <th>V1</th>\n",
              "      <th>V2</th>\n",
              "      <th>V3</th>\n",
              "      <th>V4</th>\n",
              "      <th>V5</th>\n",
              "      <th>V6</th>\n",
              "      <th>V7</th>\n",
              "      <th>V8</th>\n",
              "      <th>V9</th>\n",
              "      <th>...</th>\n",
              "      <th>V21</th>\n",
              "      <th>V22</th>\n",
              "      <th>V23</th>\n",
              "      <th>V24</th>\n",
              "      <th>V25</th>\n",
              "      <th>V26</th>\n",
              "      <th>V27</th>\n",
              "      <th>V28</th>\n",
              "      <th>Amount</th>\n",
              "      <th>Class</th>\n",
              "    </tr>\n",
              "  </thead>\n",
              "  <tbody>\n",
              "    <tr>\n",
              "      <th>0</th>\n",
              "      <td>0.0</td>\n",
              "      <td>-1.359807</td>\n",
              "      <td>-0.072781</td>\n",
              "      <td>2.536347</td>\n",
              "      <td>1.378155</td>\n",
              "      <td>-0.338321</td>\n",
              "      <td>0.462388</td>\n",
              "      <td>0.239599</td>\n",
              "      <td>0.098698</td>\n",
              "      <td>0.363787</td>\n",
              "      <td>...</td>\n",
              "      <td>-0.018307</td>\n",
              "      <td>0.277838</td>\n",
              "      <td>-0.110474</td>\n",
              "      <td>0.066928</td>\n",
              "      <td>0.128539</td>\n",
              "      <td>-0.189115</td>\n",
              "      <td>0.133558</td>\n",
              "      <td>-0.021053</td>\n",
              "      <td>149.62</td>\n",
              "      <td>0</td>\n",
              "    </tr>\n",
              "    <tr>\n",
              "      <th>1</th>\n",
              "      <td>0.0</td>\n",
              "      <td>1.191857</td>\n",
              "      <td>0.266151</td>\n",
              "      <td>0.166480</td>\n",
              "      <td>0.448154</td>\n",
              "      <td>0.060018</td>\n",
              "      <td>-0.082361</td>\n",
              "      <td>-0.078803</td>\n",
              "      <td>0.085102</td>\n",
              "      <td>-0.255425</td>\n",
              "      <td>...</td>\n",
              "      <td>-0.225775</td>\n",
              "      <td>-0.638672</td>\n",
              "      <td>0.101288</td>\n",
              "      <td>-0.339846</td>\n",
              "      <td>0.167170</td>\n",
              "      <td>0.125895</td>\n",
              "      <td>-0.008983</td>\n",
              "      <td>0.014724</td>\n",
              "      <td>2.69</td>\n",
              "      <td>0</td>\n",
              "    </tr>\n",
              "    <tr>\n",
              "      <th>2</th>\n",
              "      <td>1.0</td>\n",
              "      <td>-1.358354</td>\n",
              "      <td>-1.340163</td>\n",
              "      <td>1.773209</td>\n",
              "      <td>0.379780</td>\n",
              "      <td>-0.503198</td>\n",
              "      <td>1.800499</td>\n",
              "      <td>0.791461</td>\n",
              "      <td>0.247676</td>\n",
              "      <td>-1.514654</td>\n",
              "      <td>...</td>\n",
              "      <td>0.247998</td>\n",
              "      <td>0.771679</td>\n",
              "      <td>0.909412</td>\n",
              "      <td>-0.689281</td>\n",
              "      <td>-0.327642</td>\n",
              "      <td>-0.139097</td>\n",
              "      <td>-0.055353</td>\n",
              "      <td>-0.059752</td>\n",
              "      <td>378.66</td>\n",
              "      <td>0</td>\n",
              "    </tr>\n",
              "    <tr>\n",
              "      <th>3</th>\n",
              "      <td>1.0</td>\n",
              "      <td>-0.966272</td>\n",
              "      <td>-0.185226</td>\n",
              "      <td>1.792993</td>\n",
              "      <td>-0.863291</td>\n",
              "      <td>-0.010309</td>\n",
              "      <td>1.247203</td>\n",
              "      <td>0.237609</td>\n",
              "      <td>0.377436</td>\n",
              "      <td>-1.387024</td>\n",
              "      <td>...</td>\n",
              "      <td>-0.108300</td>\n",
              "      <td>0.005274</td>\n",
              "      <td>-0.190321</td>\n",
              "      <td>-1.175575</td>\n",
              "      <td>0.647376</td>\n",
              "      <td>-0.221929</td>\n",
              "      <td>0.062723</td>\n",
              "      <td>0.061458</td>\n",
              "      <td>123.50</td>\n",
              "      <td>0</td>\n",
              "    </tr>\n",
              "    <tr>\n",
              "      <th>4</th>\n",
              "      <td>2.0</td>\n",
              "      <td>-1.158233</td>\n",
              "      <td>0.877737</td>\n",
              "      <td>1.548718</td>\n",
              "      <td>0.403034</td>\n",
              "      <td>-0.407193</td>\n",
              "      <td>0.095921</td>\n",
              "      <td>0.592941</td>\n",
              "      <td>-0.270533</td>\n",
              "      <td>0.817739</td>\n",
              "      <td>...</td>\n",
              "      <td>-0.009431</td>\n",
              "      <td>0.798278</td>\n",
              "      <td>-0.137458</td>\n",
              "      <td>0.141267</td>\n",
              "      <td>-0.206010</td>\n",
              "      <td>0.502292</td>\n",
              "      <td>0.219422</td>\n",
              "      <td>0.215153</td>\n",
              "      <td>69.99</td>\n",
              "      <td>0</td>\n",
              "    </tr>\n",
              "  </tbody>\n",
              "</table>\n",
              "<p>5 rows × 31 columns</p>\n",
              "</div>\n",
              "      <button class=\"colab-df-convert\" onclick=\"convertToInteractive('df-5e452aea-ee0c-4d40-9734-936a89b25d9b')\"\n",
              "              title=\"Convert this dataframe to an interactive table.\"\n",
              "              style=\"display:none;\">\n",
              "        \n",
              "  <svg xmlns=\"http://www.w3.org/2000/svg\" height=\"24px\"viewBox=\"0 0 24 24\"\n",
              "       width=\"24px\">\n",
              "    <path d=\"M0 0h24v24H0V0z\" fill=\"none\"/>\n",
              "    <path d=\"M18.56 5.44l.94 2.06.94-2.06 2.06-.94-2.06-.94-.94-2.06-.94 2.06-2.06.94zm-11 1L8.5 8.5l.94-2.06 2.06-.94-2.06-.94L8.5 2.5l-.94 2.06-2.06.94zm10 10l.94 2.06.94-2.06 2.06-.94-2.06-.94-.94-2.06-.94 2.06-2.06.94z\"/><path d=\"M17.41 7.96l-1.37-1.37c-.4-.4-.92-.59-1.43-.59-.52 0-1.04.2-1.43.59L10.3 9.45l-7.72 7.72c-.78.78-.78 2.05 0 2.83L4 21.41c.39.39.9.59 1.41.59.51 0 1.02-.2 1.41-.59l7.78-7.78 2.81-2.81c.8-.78.8-2.07 0-2.86zM5.41 20L4 18.59l7.72-7.72 1.47 1.35L5.41 20z\"/>\n",
              "  </svg>\n",
              "      </button>\n",
              "      \n",
              "  <style>\n",
              "    .colab-df-container {\n",
              "      display:flex;\n",
              "      flex-wrap:wrap;\n",
              "      gap: 12px;\n",
              "    }\n",
              "\n",
              "    .colab-df-convert {\n",
              "      background-color: #E8F0FE;\n",
              "      border: none;\n",
              "      border-radius: 50%;\n",
              "      cursor: pointer;\n",
              "      display: none;\n",
              "      fill: #1967D2;\n",
              "      height: 32px;\n",
              "      padding: 0 0 0 0;\n",
              "      width: 32px;\n",
              "    }\n",
              "\n",
              "    .colab-df-convert:hover {\n",
              "      background-color: #E2EBFA;\n",
              "      box-shadow: 0px 1px 2px rgba(60, 64, 67, 0.3), 0px 1px 3px 1px rgba(60, 64, 67, 0.15);\n",
              "      fill: #174EA6;\n",
              "    }\n",
              "\n",
              "    [theme=dark] .colab-df-convert {\n",
              "      background-color: #3B4455;\n",
              "      fill: #D2E3FC;\n",
              "    }\n",
              "\n",
              "    [theme=dark] .colab-df-convert:hover {\n",
              "      background-color: #434B5C;\n",
              "      box-shadow: 0px 1px 3px 1px rgba(0, 0, 0, 0.15);\n",
              "      filter: drop-shadow(0px 1px 2px rgba(0, 0, 0, 0.3));\n",
              "      fill: #FFFFFF;\n",
              "    }\n",
              "  </style>\n",
              "\n",
              "      <script>\n",
              "        const buttonEl =\n",
              "          document.querySelector('#df-5e452aea-ee0c-4d40-9734-936a89b25d9b button.colab-df-convert');\n",
              "        buttonEl.style.display =\n",
              "          google.colab.kernel.accessAllowed ? 'block' : 'none';\n",
              "\n",
              "        async function convertToInteractive(key) {\n",
              "          const element = document.querySelector('#df-5e452aea-ee0c-4d40-9734-936a89b25d9b');\n",
              "          const dataTable =\n",
              "            await google.colab.kernel.invokeFunction('convertToInteractive',\n",
              "                                                     [key], {});\n",
              "          if (!dataTable) return;\n",
              "\n",
              "          const docLinkHtml = 'Like what you see? Visit the ' +\n",
              "            '<a target=\"_blank\" href=https://colab.research.google.com/notebooks/data_table.ipynb>data table notebook</a>'\n",
              "            + ' to learn more about interactive tables.';\n",
              "          element.innerHTML = '';\n",
              "          dataTable['output_type'] = 'display_data';\n",
              "          await google.colab.output.renderOutput(dataTable, element);\n",
              "          const docLink = document.createElement('div');\n",
              "          docLink.innerHTML = docLinkHtml;\n",
              "          element.appendChild(docLink);\n",
              "        }\n",
              "      </script>\n",
              "    </div>\n",
              "  </div>\n",
              "  "
            ]
          },
          "metadata": {},
          "execution_count": 4
        }
      ]
    },
    {
      "cell_type": "code",
      "source": [
        "df.info()"
      ],
      "metadata": {
        "id": "qF6hbk0hpy8a",
        "colab": {
          "base_uri": "https://localhost:8080/"
        },
        "outputId": "1f523925-edd6-40d1-b012-b333d5d56a27"
      },
      "execution_count": 5,
      "outputs": [
        {
          "output_type": "stream",
          "name": "stdout",
          "text": [
            "<class 'pandas.core.frame.DataFrame'>\n",
            "RangeIndex: 284807 entries, 0 to 284806\n",
            "Data columns (total 31 columns):\n",
            " #   Column  Non-Null Count   Dtype  \n",
            "---  ------  --------------   -----  \n",
            " 0   Time    284807 non-null  float64\n",
            " 1   V1      284807 non-null  float64\n",
            " 2   V2      284807 non-null  float64\n",
            " 3   V3      284807 non-null  float64\n",
            " 4   V4      284807 non-null  float64\n",
            " 5   V5      284807 non-null  float64\n",
            " 6   V6      284807 non-null  float64\n",
            " 7   V7      284807 non-null  float64\n",
            " 8   V8      284807 non-null  float64\n",
            " 9   V9      284807 non-null  float64\n",
            " 10  V10     284807 non-null  float64\n",
            " 11  V11     284807 non-null  float64\n",
            " 12  V12     284807 non-null  float64\n",
            " 13  V13     284807 non-null  float64\n",
            " 14  V14     284807 non-null  float64\n",
            " 15  V15     284807 non-null  float64\n",
            " 16  V16     284807 non-null  float64\n",
            " 17  V17     284807 non-null  float64\n",
            " 18  V18     284807 non-null  float64\n",
            " 19  V19     284807 non-null  float64\n",
            " 20  V20     284807 non-null  float64\n",
            " 21  V21     284807 non-null  float64\n",
            " 22  V22     284807 non-null  float64\n",
            " 23  V23     284807 non-null  float64\n",
            " 24  V24     284807 non-null  float64\n",
            " 25  V25     284807 non-null  float64\n",
            " 26  V26     284807 non-null  float64\n",
            " 27  V27     284807 non-null  float64\n",
            " 28  V28     284807 non-null  float64\n",
            " 29  Amount  284807 non-null  float64\n",
            " 30  Class   284807 non-null  int64  \n",
            "dtypes: float64(30), int64(1)\n",
            "memory usage: 67.4 MB\n"
          ]
        }
      ]
    },
    {
      "cell_type": "code",
      "source": [
        "df[['Time', 'Amount', 'Class']].describe()\n"
      ],
      "metadata": {
        "colab": {
          "base_uri": "https://localhost:8080/",
          "height": 300
        },
        "id": "Jy5u4QQLx9hm",
        "outputId": "a6e172a0-bf69-42f3-e091-4518fa5ec669"
      },
      "execution_count": 7,
      "outputs": [
        {
          "output_type": "execute_result",
          "data": {
            "text/plain": [
              "                Time         Amount          Class\n",
              "count  284807.000000  284807.000000  284807.000000\n",
              "mean    94813.859575      88.349619       0.001727\n",
              "std     47488.145955     250.120109       0.041527\n",
              "min         0.000000       0.000000       0.000000\n",
              "25%     54201.500000       5.600000       0.000000\n",
              "50%     84692.000000      22.000000       0.000000\n",
              "75%    139320.500000      77.165000       0.000000\n",
              "max    172792.000000   25691.160000       1.000000"
            ],
            "text/html": [
              "\n",
              "  <div id=\"df-ad549ecf-c09b-408e-bca4-949d00746fa4\">\n",
              "    <div class=\"colab-df-container\">\n",
              "      <div>\n",
              "<style scoped>\n",
              "    .dataframe tbody tr th:only-of-type {\n",
              "        vertical-align: middle;\n",
              "    }\n",
              "\n",
              "    .dataframe tbody tr th {\n",
              "        vertical-align: top;\n",
              "    }\n",
              "\n",
              "    .dataframe thead th {\n",
              "        text-align: right;\n",
              "    }\n",
              "</style>\n",
              "<table border=\"1\" class=\"dataframe\">\n",
              "  <thead>\n",
              "    <tr style=\"text-align: right;\">\n",
              "      <th></th>\n",
              "      <th>Time</th>\n",
              "      <th>Amount</th>\n",
              "      <th>Class</th>\n",
              "    </tr>\n",
              "  </thead>\n",
              "  <tbody>\n",
              "    <tr>\n",
              "      <th>count</th>\n",
              "      <td>284807.000000</td>\n",
              "      <td>284807.000000</td>\n",
              "      <td>284807.000000</td>\n",
              "    </tr>\n",
              "    <tr>\n",
              "      <th>mean</th>\n",
              "      <td>94813.859575</td>\n",
              "      <td>88.349619</td>\n",
              "      <td>0.001727</td>\n",
              "    </tr>\n",
              "    <tr>\n",
              "      <th>std</th>\n",
              "      <td>47488.145955</td>\n",
              "      <td>250.120109</td>\n",
              "      <td>0.041527</td>\n",
              "    </tr>\n",
              "    <tr>\n",
              "      <th>min</th>\n",
              "      <td>0.000000</td>\n",
              "      <td>0.000000</td>\n",
              "      <td>0.000000</td>\n",
              "    </tr>\n",
              "    <tr>\n",
              "      <th>25%</th>\n",
              "      <td>54201.500000</td>\n",
              "      <td>5.600000</td>\n",
              "      <td>0.000000</td>\n",
              "    </tr>\n",
              "    <tr>\n",
              "      <th>50%</th>\n",
              "      <td>84692.000000</td>\n",
              "      <td>22.000000</td>\n",
              "      <td>0.000000</td>\n",
              "    </tr>\n",
              "    <tr>\n",
              "      <th>75%</th>\n",
              "      <td>139320.500000</td>\n",
              "      <td>77.165000</td>\n",
              "      <td>0.000000</td>\n",
              "    </tr>\n",
              "    <tr>\n",
              "      <th>max</th>\n",
              "      <td>172792.000000</td>\n",
              "      <td>25691.160000</td>\n",
              "      <td>1.000000</td>\n",
              "    </tr>\n",
              "  </tbody>\n",
              "</table>\n",
              "</div>\n",
              "      <button class=\"colab-df-convert\" onclick=\"convertToInteractive('df-ad549ecf-c09b-408e-bca4-949d00746fa4')\"\n",
              "              title=\"Convert this dataframe to an interactive table.\"\n",
              "              style=\"display:none;\">\n",
              "        \n",
              "  <svg xmlns=\"http://www.w3.org/2000/svg\" height=\"24px\"viewBox=\"0 0 24 24\"\n",
              "       width=\"24px\">\n",
              "    <path d=\"M0 0h24v24H0V0z\" fill=\"none\"/>\n",
              "    <path d=\"M18.56 5.44l.94 2.06.94-2.06 2.06-.94-2.06-.94-.94-2.06-.94 2.06-2.06.94zm-11 1L8.5 8.5l.94-2.06 2.06-.94-2.06-.94L8.5 2.5l-.94 2.06-2.06.94zm10 10l.94 2.06.94-2.06 2.06-.94-2.06-.94-.94-2.06-.94 2.06-2.06.94z\"/><path d=\"M17.41 7.96l-1.37-1.37c-.4-.4-.92-.59-1.43-.59-.52 0-1.04.2-1.43.59L10.3 9.45l-7.72 7.72c-.78.78-.78 2.05 0 2.83L4 21.41c.39.39.9.59 1.41.59.51 0 1.02-.2 1.41-.59l7.78-7.78 2.81-2.81c.8-.78.8-2.07 0-2.86zM5.41 20L4 18.59l7.72-7.72 1.47 1.35L5.41 20z\"/>\n",
              "  </svg>\n",
              "      </button>\n",
              "      \n",
              "  <style>\n",
              "    .colab-df-container {\n",
              "      display:flex;\n",
              "      flex-wrap:wrap;\n",
              "      gap: 12px;\n",
              "    }\n",
              "\n",
              "    .colab-df-convert {\n",
              "      background-color: #E8F0FE;\n",
              "      border: none;\n",
              "      border-radius: 50%;\n",
              "      cursor: pointer;\n",
              "      display: none;\n",
              "      fill: #1967D2;\n",
              "      height: 32px;\n",
              "      padding: 0 0 0 0;\n",
              "      width: 32px;\n",
              "    }\n",
              "\n",
              "    .colab-df-convert:hover {\n",
              "      background-color: #E2EBFA;\n",
              "      box-shadow: 0px 1px 2px rgba(60, 64, 67, 0.3), 0px 1px 3px 1px rgba(60, 64, 67, 0.15);\n",
              "      fill: #174EA6;\n",
              "    }\n",
              "\n",
              "    [theme=dark] .colab-df-convert {\n",
              "      background-color: #3B4455;\n",
              "      fill: #D2E3FC;\n",
              "    }\n",
              "\n",
              "    [theme=dark] .colab-df-convert:hover {\n",
              "      background-color: #434B5C;\n",
              "      box-shadow: 0px 1px 3px 1px rgba(0, 0, 0, 0.15);\n",
              "      filter: drop-shadow(0px 1px 2px rgba(0, 0, 0, 0.3));\n",
              "      fill: #FFFFFF;\n",
              "    }\n",
              "  </style>\n",
              "\n",
              "      <script>\n",
              "        const buttonEl =\n",
              "          document.querySelector('#df-ad549ecf-c09b-408e-bca4-949d00746fa4 button.colab-df-convert');\n",
              "        buttonEl.style.display =\n",
              "          google.colab.kernel.accessAllowed ? 'block' : 'none';\n",
              "\n",
              "        async function convertToInteractive(key) {\n",
              "          const element = document.querySelector('#df-ad549ecf-c09b-408e-bca4-949d00746fa4');\n",
              "          const dataTable =\n",
              "            await google.colab.kernel.invokeFunction('convertToInteractive',\n",
              "                                                     [key], {});\n",
              "          if (!dataTable) return;\n",
              "\n",
              "          const docLinkHtml = 'Like what you see? Visit the ' +\n",
              "            '<a target=\"_blank\" href=https://colab.research.google.com/notebooks/data_table.ipynb>data table notebook</a>'\n",
              "            + ' to learn more about interactive tables.';\n",
              "          element.innerHTML = '';\n",
              "          dataTable['output_type'] = 'display_data';\n",
              "          await google.colab.output.renderOutput(dataTable, element);\n",
              "          const docLink = document.createElement('div');\n",
              "          docLink.innerHTML = docLinkHtml;\n",
              "          element.appendChild(docLink);\n",
              "        }\n",
              "      </script>\n",
              "    </div>\n",
              "  </div>\n",
              "  "
            ]
          },
          "metadata": {},
          "execution_count": 7
        }
      ]
    },
    {
      "cell_type": "code",
      "source": [
        "fig, ((ax1, ax2), (ax3, ax4)) = plt.subplots(2, 2, figsize=(15,8))\n",
        "sns.distplot(df['Time'][df['Class'] == 1], bins=20, ax=ax1)\n",
        "sns.distplot(df['Time'][df['Class'] == 0], bins=20, ax=ax2)\n",
        "\n",
        "sns.distplot(df['Amount'][df['Class'] == 1], bins=20, ax=ax3)\n",
        "sns.distplot(df['Amount'][df['Class'] == 0], bins=20, ax=ax4)\n",
        "\n",
        "ax1.set_title('Fraud')\n",
        "ax2.set_title('Not Fraud')\n",
        "ax3.set_title('Fraud')\n",
        "ax4.set_title('Not Fraud')\n",
        "plt.tight_layout()\n",
        "plt.show()"
      ],
      "metadata": {
        "colab": {
          "base_uri": "https://localhost:8080/",
          "height": 461
        },
        "id": "VaAMFwiByP1A",
        "outputId": "6788bab3-0ea4-4725-e122-4fc743181e73"
      },
      "execution_count": 9,
      "outputs": [
        {
          "output_type": "display_data",
          "data": {
            "text/plain": [
              "<Figure size 1080x576 with 4 Axes>"
            ],
            "image/png": "iVBORw0KGgoAAAANSUhEUgAABCwAAAI0CAYAAADWR7hcAAAAOXRFWHRTb2Z0d2FyZQBNYXRwbG90bGliIHZlcnNpb24zLjUuMywgaHR0cHM6Ly9tYXRwbG90bGliLm9yZy/NK7nSAAAACXBIWXMAAAsTAAALEwEAmpwYAADVv0lEQVR4nOzdeXhU5dk/8O+ZPZPJZCbJZN9ISEKAsG8qCAYRRDAutbRWa9WibW1R39e26OuL688WbV+tK9W6VutCrSiIiCgoiuz7kgRC9n2bbJNMZjm/P0IigYRsM3Nm+X6uiwsyZ7vP4czkmfs8z/0IoiiKICIiIiIiIiLyIjKpAyAiIiIiIiIiOhcTFkRERERERETkdZiwICIiIiIiIiKvw4QFEREREREREXkdJiyIiIiIiIiIyOswYUFEREREREREXocJCyLyGytXrsTTTz8tdRhEREREyM7Oxo4dO6QOg8inKaQOgIj8U3Z2Nurq6iCXy3te27RpE6KioiSMioiIiLxJdnY22tvb8eWXX0Kr1QIA1q5di08++QT//Oc/B9z+5ptvxtVXX40bbrihz+VlZWWYP39+z74BICEhAZ988olrToCI3IoJCyJymzVr1uDiiy/uc5ndbodCwY8gIiKiQOd0OvHWW2/hV7/6lduOsWfPngu2O9guIfJOHBJCRB6TkZGBd955B1dccQWuuOIKAMDjjz+OuXPnYsqUKbjuuuuwd+/envXPHeKxa9cuXHrppT0/Hz9+HNdeey0mT56Me+65B1ar1XMnQ0RERC5x++2347XXXkNzc3Ofy/fv34/rr78eU6dOxfXXX4/9+/cDAJ5++mns3bsXjz76KCZPnoxHH3100MfsblO8/PLLuOSSS3D//fejqakJd955J2bNmoXp06fjzjvvRFVVVc825w7xeO6553Dffff1/Lxu3TpcdtllmDlzJl566aWhXgYi6gMTFkTkUVu2bMEHH3yAjRs3AgCysrKwbt067N69G0uWLMHdd989qMRDZ2cn7rrrLuTk5GD37t1YtGgRNm/e7O7wiYiIyMXGjx+PGTNm4NVXXz1vmdlsxp133ombb74Zu3btwq233oo777wTjY2NuPfeezFt2jSsWrUKBw4cwKpVq4Z03Lq6OjQ1NWHr1q147LHH4HQ6cd1112Hr1q3YunUr1Gr1oJMgp06dwiOPPIInn3wS27dvh9ls7pXsIKLhYcLijNWrVyM7OxsZGRnIz8932X5vvvlmzJ8/Hzk5OcjJycGHH37osn0Tebu77roL06ZNw7Rp0/Cb3/wGAHDHHXfAYDBAo9EAAHJycmA0GqFQKHDbbbehs7MThYWFA+770KFDsNlsuOWWW6BUKrFo0SJkZWW59XyIiIbDXW0Mp9OJZ555BgsXLsTSpUtxxx13uGzfRJ62YsUKvP3222hoaOj1+rZt25CUlIRrrrkGCoUCS5YsQUpKCrZu3Tqk/c+aNaunTdKdGJHJZFixYgVUKhU0Gg2MRiMWLlyIoKAg6HQ6/PrXv8aePXsGtf9NmzZh3rx5mD59OlQqFe6++27IZPyqRTRSHKh1xvz58/Hzn/8cP/vZz1y+7wcffBCXXXaZy/dL5O1eeOGFXjUsMjIyEBMT02udV199Ff/+979RU1MDQRDQ2tqKxsbGAfddU1ODqKgoCILQ81psbKzrgicichF3tTHefPNNFBYWYsOGDVAqlairq3Pp/ok8KT09HfPmzcPLL7+M1NTUntdramrO+/0eGxuL6urqIe1/586dvWpU7Nq1C0ajEWq1uue19vZ2/OlPf8L27dvR1NQEAGhra4PD4ehVRLwvNTU1iI6O7vlZq9XCYDAMKUYiOh8TFmdMmzatz9cPHTqEv/zlL2hrawPQlf2dN2+eByMj8i9nJxj27t2Lf/zjH3jjjTeQlpYGmUyG6dOnQxRFAEBQUBA6Ojp61j+7MW4ymVBdXQ1RFHv2WVFRgYSEBA+dCRHR4LirjfHaa6/hX//6F5RKJQAgIiJixLESSWnFihW49tprcdttt/W8FhkZiYqKil7rVVZWYs6cOSM+3tltEqDrPVVYWIgPPvgAJpMJJ06cwDXXXNOrXdLe3t6zfm1tba84CwoKen5ub2+H2WwecYxEgY79lC6gubkZDz30EP7617/iP//5D9asWYNVq1b1WxCoP08++SSWLl2K++67b8jZYCJ/1tbWBrlcjrCwMNjtdjz//PNobW3tWZ6ZmYmvv/4aZrMZtbW1ePPNN3uWTZo0CQqFAm+99RZsNhs2b96MI0eOSHEaRERDNtI2RktLC8xmMz777DPccMMNWLZsGbZs2eLmqIncKykpCYsXL+41nencuXNRVFSE9evXw263Y+PGjTh16lRPci8iIgKlpaUuOX5bWxvUajX0ej3MZjOef/75XsvHjBmDjRs3wmaz4ciRI/j88897li1cuBDbtm3D3r170dnZiWeffRZOp9MlcREFMvawuIADBw6grKwMy5cv73lNEAQUFxcjKysLM2fO7HO7yMhIrF+/HkBXsiImJgYOhwN///vfcc899+Ddd9/1SPxE3m727NmYM2cOFi5cCK1Wi1tuuaXXkJGcnBzs2LED2dnZiIuLw/XXX4/XXnsNAKBSqfDcc8/hf//3f/HMM89g7ty5WLBggVSnQkQ0JCNtYzgcDnR2dsLpdGLt2rUoLi7GjTfeiPT0dCQmJnrqNIhc7q677sLHH3/c87PRaMSaNWvwxBNP4OGHH0ZSUhLWrFmDsLAwAMDPf/5zrFy5Eu+++y5ycnLw4IMPDvvYt9xyC+677z7MmjULkZGRuPXWW3slAu+55x7813/9F2bMmIHp06dj6dKlPb0o0tLSsGrVKtx3331ob2/HL37xi15DRIhoeASxu48TAeiarmjNmjVIT0/Htm3b8Morr+Cdd95xyb5bW1sxY8YMHD16lEV4iIiIAoyr2xiTJ0/Gp59+2jO+f/ny5bj++uuxaNEiV4VMREQkKX5rvoDJkyejuLgYO3fu7Hnt8OHDGGyOx2639xpz/+mnnyI9PZ3JCiIiogA30jYGACxZsgTbt28HANTX1yM3NxdpaWkuj5WIiEgq7GFxxuOPP47Nmzejrq4ORqMRBoMBn376KQ4fPoynnnoKTU1NsNlsSEhIwJo1awaVdLBYLLjppptgs9kAdHXj/J//+R+kpKS4+3SIiIjIS7ijjQEADQ0NeOCBB1BWVgZBEHDbbbfh2muvdfPZEBEReQ4TFkRERERERETkdTg2gYiIiIiIiIi8DhMWREREREREROR1mLAgIiIiIiIiIq+jkDoAb9HY2Aans3c5j/BwHerrWyWKyL/wWroGr6Pr8Fq6Bq+j63jztZTJBBiNwVKH4bP6amN4O2++H4eL5+Qb/PGcAP88L56Tb/D2cxqojcGExRlOp9hnY8LXGhjejNfSNXgdXYfX0jV4HV2H19I/9dfG8Ha+GPNAeE6+wR/PCfDP8+I5+QZfPicOCSEiIiIiIiIir8OEBRERERERERF5HSYsiIiIiIiIiMjrMGFBRERERERERF6HCQsiIiIiIiIi8jpMWBARERERERGR1+G0pkRERERE5DVKqluwcWcx5DIZosOCMHtCLIwhaqnDIiIJMGFB5CJ2J2C12Ye8nVqpgIJ9nYiIiCjA2R1OvLLuCNZ/expatQIqpRzfH6vCd0eqcP/NUxEarJI6RCLyMCYsiFzEarNjz4nqIW83PTMKCjXfikRERBS4nKKIVz89gV3HqzFvchyun5uCYI0SBRVNeOrdA3j6/YP4w41ToNWwzUQUSPhcl4iIiIiIJCOKIt778iR2Ha/Gzxdn4ucLMxCsUQIAUmNDcde1WSiva8O7W/IljpSIPI0JCyIiIiIikszXhyqwZW8ZLp8Wjx9lp523PCslHNlT4rHzeDXqmzokiJCIpMKEBRERERERSaK8thXvbjmJsclG/GR+GgRB6HO9K6YnQBSBL/aWejhCIpISExZERERERORxnTYH/v7JMWhUcvxyyVjI+klWAEB4qAYzx0bi64MVaOuweTBKIpISExZERERERORxH2w9hbLaNtx+1VgYdANPW7poZhKsNge27i/3QHRE5A2YsCAiIiIiIo86kF+Lr/aX44rpCZiQGj6obRIidRiTaMD3x6rcHB0ReQvOC0RERERERG5hd3ZN/X62xhYrXt14AgmROiyalYQ26w/LxQYLLFb7ubuBWqmAQgZMzYjEO1/ko6rBgugwrdvjJyJpMWFBRERERERuYbXZsedEdc/PTqeIz3eXoNPmwNQMEw6erO21fohOg5bW82cCmZ4ZBYVagUmjI/DOF/k4eLIOi2Ymuj1+IpIWh4QQEREREZFH7MurRa25AxeNj4Y+WDXk7cNDNUiM1OHAOYkOIvJPXp+wWL16NbKzs5GRkYH8/Pw+13nhhRdw1VVXYenSpbjuuuuwfft2D0dJREREREQXUljZjBPFjRiTZMCoGP2w9zMpLQKnypvQbOl0YXRE5I28PmExf/58vPPOO4iLi+t3nQkTJuDf//431q9fjyeeeAL33nsvOjrO70pGRERERESeV91gwXdHqmAyBGFqRuSI9jU5zQRRBI4U1LsoOvI3TlFEu9UOp1OUOhQaIa+vYTFt2rQB15kzZ07PvzMyMiCKIsxmM6Kjo90ZGhERERERDcDcasXW/eXQBSlx2ZQ4yGXCiPaXGKWDMUSNAyfrcElWjIuiJG/XVwHXbk2tVhw8WYe8EjOKq1vQaumEUwQEAEEaBWIjgpEYFYLMJCPS4kOh1aig8PpH9wT4QMJiqNatW4fExEQmK4iIiIiIJFZZ14Yv9pRCJhMwf2ocNCr5iPcpCALGjwrD/vxaOEURMmFkCRDyDecWcAWA5rZOHDldj8KKZjhFIESrRKQhCElROqiUctjsTnR02tHQbMXpimZ8ta8MKoUMM8ZG4fKp8UiMCpHobGiw/CphsXv3bvztb3/Da6+9NuRtw8N1fb5uMvEmdhV/v5ZigwUhOs2Qt9Nq1TANYVouf7+OnsRr6Rq8jq7Da0lE/qS4qgV/W3sIAHDFjASEaIdeZLM/6QkGbD9cicq6NsSZ+m7Hk/9yOEUcO12PwwUNEAQgLcGAMYlGhOr6v8fsDicq6y0ormrBrmPV+PZwJTISDFhycTLGJhshMPHllfwmYXHgwAH8/ve/x4svvoiUlJQhb19f33reGCeTKQS1tS2uCjGgBcK1tFjtfU7DNeB2FitqHY5BrRsI19FTeC1dg9fRdbz5WspkQr+JfSKivhzIr8XLG45Dq1Zg7qTYYc0IciFp8aEAgJNlTUxYBJgWSye+PliBhmYrkqNDMD0zEkHqgb/WKuQyJETqkBCpw7hRYdifV4vPd5fgr+8fRFp8KH56eRofHHghv0hYHD58GPfeey+effZZjBs3TupwiIiIiIgCklMU8en3xVj3zWkkx4Tg9iVjkV9qdvlxTIYg6INVOFlmxrzJ/Rfnp+G5UL2IbmKDBRbrhdcBALVS4bJ6EeW1bdh+uAIQgXmTY4c9pEOrUWLhjERkT4nHt4crsO7bQjz2xl7Mn16Dq2YmIFSndk3ANGJen7B4/PHHsXnzZtTV1eHWW2+FwWDAp59+iuXLl2PFihXIysrCI488go6ODqxatapnuyeffBIZGRkSRk5ERET+YOvWrfjb3/4GURQhiiJ++9vf4oorrpA6LCKv02zpxD82HMfR0w2YNTYKv7hyDGxumqVBEASkxYfiZFmTW/Yf6PqqF3GuEJ1mUL2Lp2dGQTGIHhAD+e5IJb7aVwZDiBrzJseOaIiRIBPQdibZMmNcNLJGR+DzXSXYuq8U2w+W48pZibhsSjxkAxSIdWUyhvrm9QmLBx98EA8++OB5r7/yyis9//7www89GRIREREFCFEU8Yc//AHvvPMO0tPTkZubi5/+9Ke4/PLLIZOxlUrU7VhRA17dcByt7XbcvDAD8ybFQhAE2AbxBH640uIN2JdXi8YWK4whfCLur0RRxLrthVi/owhxEcG4dFIslCPMElhtDhzKr+31WpwpGD9ZkIGv95di3fZCfHekEpdkxVxwOJOrkjHUP15dIiIioguQyWRoaemqL9LS0oLIyEgmK2hQXeYHy5ef0trsDnz49Wls3lOKmHAt7v7RRCRFe6YOwA91LMyYkRnlkWOSZ9kdTrzxWS52HK3CrHFRGB0XOmCvh5EwhKhx2ZQ4FFa2YPfxamzYUYQp6SZkJBpYlFMiTFgQERER9UMQBDzzzDP4zW9+A61Wi7a2Nrz88stSh0VeYDBd5gfL257SDjYZU1HXhjc/y0VFXRvmTIzBNXNSoFLKe7raA4CbRoQAABKjdFAr5ThZ1sSEhR+ydNjx4rojOF7UiGtmj0L2tHjsza1x+3EFQUBKrB7RYUHYcbQKu0/UoLSmFZdkxUCr8Z73aaDgFSciIiLqh91ux9///ne8+OKLmDp1Kvbt24d77rkHn376KYKDgwe1D1+dYcUfq+W78pwGO515YUUT8kvMqGpog7XTgTC9BlFhWkwYHdFT2G+oU5yfzR3/TzUNFuSeru93uSiKOHyqDt8fqYRKKcdVl4xCcowep6taz1s3I8k45Gnf+1q/v2s0JtmIwqoWn7hffSHGboO9v3XBapTXtqLVYoPV5kBIsArRYVpoNcqedYZzf9eZ2/GXN/eitLoFdy+bjMtnJKJmkDENhlKp6Hdf3a+H6DS4Zq4Oxwob8N2hCnz6fTHmT0tAUoy+Z92RvHc9yZfuvXMxYUFERETUjxMnTqCmpgZTp04FAEydOhVBQUEoKCjAhAkTBrWPvqZO93bePM3ucLn6nAaaztxmd2L3iWoUlDcjSK1ApDEIGpUc5lYrjhbU40hBHUbF6DE1wwSLJXTQU5yfzV3/Txc6t9Z2G74/WoXKegviTcG4aHw0gtSKfte32YY27Xt/hRz7mwY+wRSMjd+XoKLSDKVCPujjeJqvvacGur9FUURlYwf2HKtCU1vnecsjQjVITzAgOSak3/+7/uSVNOLl9cfRbrXj7hsmYPwoI2prWwaMaSj6uy/7uv+SIoMRelEith+qxIbvCjE22YjJ6SbIZcKQz00K3n7vDTR1OhMWRERERP2Ijo5GVVUVTp8+jZSUFBQUFKC+vh6JiYlSh0ZezGZ3YtOuEphbrMhKCcPE0RG9xt1bOuw4XtSA3BIzymvboAtSYc6EGAkjHphTFJFb3IiDJ+sAADPHRiE9IVTycf1JUSFwiiLKatsw6qwn3+Q+oihiT24NcovNMOhUmD0hBiaDBkqFDM1tNtQ0WlBQ3owdR6uwN7cGFXUWLJgWj5jwC/dK6+i0Y/13Rdi0qwQmYxDu/tGUYU9b6moGnRqLZyVib14tjhc1orqhHXMmevd71l8wYUFERETUD5PJhIcffhh33313zxezJ554AgaDQdrAyGuJoojvj1WhscWK7ClxiI88/8mhVqPAtDGRGB0fih1HqvD6xhPILW7ATVdkIMiLall0q2/uwM6jVahvtiIuIhgzx0ZBp1UOvKEHJJ35Qltc1cKEhQeIooi9ubXILTZj4ugITEgN65W00qi6ehONGxWGmsZ25JWYsf1QBbYdKMeYRAMuyYrBmEQjwkO7hl04RREVdW3Yn1+LL/aUoq3DjrmTYrEsezQ0Ku96L8jlMswcG4WYcC12HK3CpzuKEapTY+7EWKlD82vedRcQEREReZmrr74aV199tdRhkI84UdyIosoWTE6L6DNZcTaDTo1FMxPR0GLFpp0lOFnWhDuvHofUuFAPRXthbe02HDldj5NlTVAr5ZgzMQbJ0SGS96o4W3ioBsEaBYqrvbfLuz85WdqEE8WNyEwy4pKJsWhts/a5niAIiArTIipMi4xEI/bn1WDbgQq8+ukJAECwRgGlQgarzYn2M0VaJ42OwFUXJyE11jvu//4kRoUgTK/B9kOVePOzXBw7XY8bF6TDoOPUuu7AhAURERERkQu0ttuwP78OCZE6jE8JG9Q2MpmAK2clYVJqBF5efwx/ens/cuaMwlWzktw6fWN/RFFEUVVXd/7T5c0ARKQnGDApLQJqpXQ1IgSZ0Gv2kbPFmXQorGzud/m5fHkaWSm1W+3Yn1+LqLAgTBtjGnTiSh+swlUXJePKWUkoq2lFfqkZlfUW2B1OyOUypMTokZ5oQKQhyM1n4Dq6ICUWzkiAua0Tm3aW4FjRLtxwWSounRgLmRcl9PwBExZERERERC5w6FRXfYcZmZFD7oUwOj4UD986A299nouPvjmN3SeqccO80chKCRv0vkRRRFNbJ6rqLahv7ugq9ioAQSoFgtTdf+TQnvm3CKDT5kBDsxVVDRacLDPjaGEDahrboZALGB2vx/iUcOiCpB/+YbU5cCi/ts9lSoWAU+Vt2HWsalBJHm+bRtZX7Murhd3hxKyxUcPqZSMTBCRGhXhNXYqRkskELJyRiIvHReOtTbl4a1Medh6rxs8XZiA2YnCzSNHA+E4lIiIiIhohc6sVp8ubkZlsRPAwv+BrNQrcefU4TB8TibXbCvDM2kOIMwVj1tgoZCQYEWkMgkrZ1Y3e3GLFibImnCxqQFWDBZUNFlQ3WNDROfwZC1RKGcYkGnHZ5DgIMkDlxbNunC1Mr4HTKaKpzQpjiGumvaTeqhssOF3RjKyUsJ7peKlLdJgWv//pZHx7uBLvf3UKD722GwumJWDpJcleWZPG1/AKEhERERGN0IH8OigUMoxPCR/RfgRBwNSMSEwcHYFvj1Rix9EqfPj16QtuE65XIzpMi5TxMQgPVSPSGISI0CDIZQJEsat3QrvV/sOfTgc6rHbIBAFKhQz6YBWiwrQwGYKgVMjgFIF9udUjOg9PCtd3JSnqm5iwcJejhQ3QqOTISh36/X2h4TxD4Y2zQ599blPGRCIt0YBPvi3Ept0l+P5YFa65NAVTMwYePsNhSv1jwoKIiIiIaASa2zpRWtOKiaPDoVG5pleCQi7DvElxmDcpDg3NHSirbUVNYztsDidUCjn0wSpkpkZABRGqM7Ul2qx27DlRjVaLDa0WW7/7DlLJEXRWnHaHE+W1rSivbQUATEw3ueQcPCVEq4RCLqChuQOAdxds9EXNbZ0or23DhNRwKORD/1Z9oeE8Q+GN92Vf55aeYIAxRI1dx6vx5me5+GJPKWZPiL7grCccptQ/XhUiIiIiohE4WdYEQQDS4g3D2n6gJ9BqtQKp8QaknrN/rUYJi8UK25ltvfEJtCcIgoAwvQb1zX3PWEEjk1vcCJkAZCQapA7FZ5gMQVh8URLyS8zYm1eLDd8VY+6kWJiMvlNY1FswYUFERERENEwOp4iC8ibEm3TQaobXtB7uE+gQnQYtrR09P3vjE2hPCdOrcaqsCaIoetW0q76u0+bAqfImJMfoWY9hiGSCgDFJXbVnvj5Ygc17SjF/Wjyiw7RSh+ZTOFKGiIiIiGiYympa0dHpQFo8hyJIyRiigd0horW9/6EwNHQFFc2wO0RkJhmlDsVnhek1WDQzETqtEl/tK0NNo0XqkHwKExZERERERMN0sqwJWo0CsSZOYyglo04FAGhs4bAQVyqqbIYxRI3wUBYzHYkgtQJXTE+AVq3AV/vLYelgYm2wmLAgIiIiIhoGS4cdFXVtGB0XChmHIUiqe6pNc2unxJH4j7Z2G2rNHUiKDpE6FL8QpFYge2o8nE4R3x2pgigGaNGZIWLCgoiIiIhoGEprumbVSI7hFzqpKRUy6IKU7GHhQsXVLQCAZCYsXEYfrMK0MZGorLcgt9gsdTg+gQkLIiIiIqJhKK1pRYhWidBgldShEABjiBpmJixcpriqFcYQNfS8v10qLT4U8aZg7M+v5dCQQWDCgoiIiIhoiNqtdlTVtyEhUsdZKbyEQadCs6UTDqdT6lB8nrnVilpzO4eDuIEgCJieGQmnKOLI6Qapw/F6TFgQEREREQ3RiaJGOEUgIVIndSh0hiFEDVEEmljHYsQOnqwDACRFMWHhDiFaFUbHheJkaRNnthkAExZEREREREN05HQd1Eo5TMYgqUOhM4wsvOkyx07XIzRYhVAdh4O4y4TUcADAkYJ6iSPxbkxYEBERERENgd3hxLHCBsRHBnN2EC+iD1ZBJnBq05HqtDlQUN6M2AhO1etOwUFKpCWE4lR5E+/ZC/DqhMXq1auRnZ2NjIwM5Ofn97mOw+HAI488gssvvxwLFizA2rVrPRwlEREREQWSgvImtFsdHA7iZWQyAfpgFcyt/PI3EifLmmBzOBEToZU6FL83NtkIUQR2H6+WOhSv5dUJi/nz5+Odd95BXFxcv+usX78eJSUl2Lx5M95//30899xzKCsr82CURERERBRIThQ3QhCA6DB+ofM2Bs4UMmLHihoglwmIMvL+drcQrQrRYVrsPFYFpyhKHY5X8uqExbRp0xATE3PBdTZu3IgbbrgBMpkMYWFhuPzyy7Fp0yYPRUhEREREgeZEcSMSInVQKeVSh0LnMOrUaOuwo9PmkDoUn3WssAEpcXooFV79VdFvjI4PRV1TB/JKzFKH4pUUUgcwUpWVlYiNje35OSYmBlVVVUPeT3h43136TCZWxnUVf7+WYoMFITrNkLfTatUwDeEJjb9fR0/itXQNXkfX4bUk8n7WTgdOVzTjsin99wAm6XQXiWxq64TJwIKoQ9XU1onSmlYsvSRZ6lACRmKUDkFqObYfrkBmklHqcLyOzycsXKW+vhVOZ+9uOCZTCGprWySKyL8EwrW0WO1oae0Y+nYWK2odg3sKEAjX0VN4LV2D19F1vPlaymRCv4l9okBzstwMh1NEeoKB0xF6IcOZmUKaWpmwGI7jRQ0AgDFJRlQ3WCSOJjAo5DJMzYjEruPVsCywQatRSh2SV/H5fj4xMTGoqKjo+bmyshLR0dESRkRERERE/upEcSPkMgEpsaFSh0J90AUpIRMENLVxatPhOF7YAF2QEvEsKOtRM8dGwWZ34hCnOD2PzycsFi1ahLVr18LpdKKhoQFbtmzBwoULpQ6LiIiIiPxQbrEZo2L1UKtYv8Ibdc0UokQTZwoZlrxSMzISDJyu18MSo0MQGqzCwZN1Uofidbw6YfH444/j0ksvRVVVFW699VZcddVVAIDly5fjyJEjAICcnBzEx8fjiiuuwI9//GPcddddSEhIkDJsIiIiIvJDlg47iqqakZnIcebeLDRYxR4Ww9DYYkVdUwfSEgxShxJwZIKAiaPDcbSwHnaHU+pwvIpX17B48MEH8eCDD573+iuvvNLzb7lcjkceecSTYRERERFRADpZZoYoAmMSDVKHQhcQqlOjpLoVDocTcrlXP5/1KifLzACAtHgOd5LCxNER+OZQJfJKzRiXHCZ1OF6D72AiIiIiokE4Vd4EmcD6Fd4uNFgFEUCzhUVRh+JkaRPUSjkSo1i/Qgpjk8OgVMhwiMNCemHCgoiIiIhoEE5XNCMhUsf6FV6uZ2pT1rEYkvwyM1Lj9JDL+BVRCmqlHGOTjDh4qg6iKA68QYDg3UhERERENACnU8TpymakxumlDoUGoA8+k7BgHYtBs3TYUVbTivR4g9ShBLRJaRGoa+pAeV2b1KF4DSYsiIiIiIgGUFbbCmunA6lxHA7i7RRyGXRBSjS1MmExWAUVTRDB+hVSy0oJBwAcL2qUOBLvwYQFEREREdEACiqaAQCpsexh4QtCdZwpZCjyS82Qy1ifRWpheg1MBg3ySpiw6MaEBRERERHRAArKmxCiVcJkCJI6FBqE7qlNnawFMCgny5qQGMX6LN4gI8GI/FIz790zmLAgIiIiIhpAQXkTUmNDIQiC1KHQIITqVHA6RbS1c6aQgTicThRVNXO4k5fISDSgrcOO8lrWsQCYsCAiIiIiuqDWdhuqG9tZcNOHhAarAYB1LAahvLYNnTYnUjjcyStkJBgAgMNCzmDCgoiIiIjoAgrKmwAAo/kE2md0T21qZh2LAZ0+U5+F9Su8Q4QhCOF6NfJKzVKH4hWYsCAiIiIiuoDCymYIApAUHSJ1KDRIaqUcGpUcTa1WqUPxeqcrmqELUsIUqpE6FDoj/UwdC5F1LJiwICIiIiK6kKKqFsSEB0OjUkgdCg1BqE7FISGDcLqyGSmxetZn8SIZiQa0WGyoqLdIHYrkmLAgIiIiIuqHKIoormpBMntX+JzQYDWa2jr5lPoC2q12VNa1sX6Fl8lINADomm420DFhQURERHQBVqsVDz30EK644gosXboU//u//yt1SORB5tZONLV1cjiIDwrVqWCzO9FudUgditcqrGyGCDBh4WUiDUHQBSlRWNksdSiSY782IiIiogt46qmnoFar8fnnn0MQBNTV1UkdEnlQUVXXF4ZR0fxC52sMZwpvNrVZodXwa09fegpuxvD+9iaCICA5JgRFTFiwhwURERFRf9ra2rBu3TrcfffdPeO7IyIiJI6KPKm4qgWCACRE6aQOhYaIU5sO7HRFM6LDtNBqlFKHQucYFa1HeV0brJ2B3UOICQsiIiKifpSWlsJgMOD555/Hddddh5tvvhl79+6VOizyoKKqFsSGB0OtlEsdCg1RkFoOpUKGJk5t2idRFHG6shmj2LvCK42K0UMUgeLqFqlDkRT7RhERERH1w+FwoLS0FGPHjsUf//hHHDp0CL/61a/wxRdfQKcb3BP38HDffDJvMvlfzYahnpMoiiipacWUjMjzthUbLAjRuWYaSKVSMex9nb3dSPbjqnhcsa++1h9uTGF6DVrb7b221WrVMIVph7yvkfK291SduR3NbZ2YkG4a9v09mHV87b4cyjFcFVNf9+Q0tRL48DBqWzpxyQjvHW+794aCCQsiIiKifsTExEChUGDJkiUAgIkTJ8JoNKKwsBBZWVmD2kd9fSucTt+apcBkCkFtrX891RvOOTW2WGFusSLaoDlvW4vVjpbWDpfEZrMNb18hOk2v7Ya7H1fF44p9nXtOI41JF6RARV1br20tFitqHZ7tZu+N76n9+bUAgAidalj3d3//V+fypftysOfk6pj6uyeNIWocPVWLS8ZGDnvf3njvnU0mEy6Y2OeQECIiIqJ+hIWFYebMmfjuu+8AAIWFhaivr0dSUpLEkZEndBe8S2aXeZ8VGqxCu9WBTltg1wHoS1FVM2SCgIRI3+wFFghGxegDfqYQ9rAgIiIiuoBHHnkEDzzwAFavXg2FQoEnn3wSej2/wAaC4uozBTf5hc5nherOFN5s64TJECRxNN6lqLIFcaZgqFifxWuNignB/vxatHXYEByghVGZsCAiIiK6gISEBPzzn/+UOgySQEl1K6LDtCy46cNCg89MbdrKhMXZRFFEUVULJqdx1iNv1t27q6iyBeNGhUkcjTSYsCAiIiIi6kNpTQtGxxukDoNGQKdVQiYTYG61Sh2KV6lv6kBru43DnbyEIBPQZrWf93qksasQZ16ZGcmxg/u/UisVUPhR4QcmLIiIiIiIztHWYUN9sxWXcTiIT5MJAvRaJac2PUdRVVcRxuRo3509wp9YbQ4cOlME9Vy6ICWOFtQjLEQ9qH1Nz4yCQu0/X/O9/kwKCwuxcuVKmM1mGAwGrF69GsnJyb3Wqa+vx/3334/KykrY7XbMnDkTDz74IBQKrz89IiIiIvJCpdWtAIBEJix8XqhOjfom18wu4S8Kq5ohlwmIN/H+9naGEDUaWwK3h5DXdxZ56KGHcOONN+Lzzz/HjTfeiFWrVp23zpo1a5Camor169fjk08+wbFjx7B582YJoiXyHLsTaLPah/zH7pQ6ciIiIu9XUtOVsGDBTd9n0KnQ2m6D3cFGULeiyhbER+qg9KexA37KGKJGc1snHAF6/3p1F4T6+nocP34cr7/+OgBgyZIleOyxx9DQ0ICwsB+KjgiCgLa2NjidTnR2dsJmsyEqKkqqsIk8wmqzY8+J6iFv52/dxIiIiNyhtKYF+mBVzywT5Lu6C282t3UiTK+ROBrpdRfcnJkZKXUoNAjGEDVEAObWToSHBt796/ZvLVu2bMG8efOGNTyjsrISUVFRkMu7KjPL5XJERkaisrKyV8LiN7/5DX73u99h9uzZaG9vx89+9jNMnTp1SMcKD+87e24ycVyXq/j7tRQbLAjRDf1DRKtVwxSmHfT63dfRU8fzZ/5+T3oKr6Pr8Fq6z0jaIxSYSqtbORzET/RMbdrKhAUA1Jjb0W61s+CmjzCeuX8bW6xMWLjDs88+iwcffBCLFy9GTk4OJk6c6PJjbNq0CRkZGXjzzTfR1taG5cuXY9OmTVi0aNGg91Ff3wqnU+z1mskUgtraFleHG5AC4VparHa0tA59fKTFYkWtwzGodc++jp44nj8LhHvSE3gdXcebr6VMJvSb2PcVnmiPkP+wO5yoqG8L2GkE/Y0+WAkBYOHNM4oqWXDTl4QEKyGXCQFbx8LtCYtPPvkEubm5+Pjjj/G73/0OQUFByMnJwdVXX434+PgLbhsTE4Pq6mo4HA7I5XI4HA7U1NQgJiam13pvv/02nnjiCchkMoSEhCA7Oxu7du0aUsKCSAo2uxM1je1dY9LEri8Feq0ShhA1FHKOKRwOu7NruMxAxAYLLGdNH+VvU0ARUW8jaY9Q4Kmst8DuEJEQ5duJOuoil8mg0yrRxKlNAQBFVc1QyGWIjQiWOhQaBJkgwKBTozFA71+P9IscM2YMxowZgz/84Q/4/vvv8ec//xnPPfccpkyZgmXLlmHJkiWQyc7/phAeHo7MzExs2LABOTk52LBhAzIzM3sNBwGA+Ph4fPPNN5gwYQI6Ozvx/fffY8GCBZ44NaIhaW23oaymFVUNFtQ3daCto/8v1lHGICRFhyAjwYDxKeEwGYI8GKnvGmxtjxCdplcPFdb2IPJ/w22PUOApqe56Ap0QySfQ/iJUp2YPizOKKluQGKXjwzEfYgxRo6y2VeowJOGx1nlJSQk++eQTfPLJJxAEAStWrEBMTAzeeecdbN68Gc8//3yf2z388MNYuXIlXnzxRej1eqxevRoAsHz5cqxYsQJZWVl44IEH8NBDD2Hp0qVwOByYOXMmfvzjH3vq1IguyO5woqiyBfmlZtSdmVJLF6SEyRCE9BA1xqeEI1yvgUwG2B0imts60dDcgbLaNpwsa8LuEzUAgHiTDgtmJmJ8khHGQc7DTEREvQ23PUKBpbSmFUqFDNFhfFjgL0KDVaioPX8IeKBxiiKKqltwyfhoqUOhITCGqHGqvAntVjuCAuwBm9vP9p133sHHH3+M4uJiXHnllXjyyScxadKknuULFy7ExRdf3O/2qampWLt27Xmvv/LKKz3/TkxM7JlJhMhb2B1O5JeacfR0Azo6HdAHqzAlPQKJUSHQn6lWDXQ92Q/u54NHFEVUN7bjcEE99pyoxusbjkMuEzA1w4Q5E2M9dSpERD5vpO0RCiylNa2INwVDzh43fsOgU8EpAi0Wm9ShSKq6wQJrpwPJ0Sy46Uu6H1Y2tliZsHC1b775Brfeeivmz58PlUp13vKgoCA899xz7g6DyGNEUURJdSv25NbA0mFHdJgWWalhiA7TQhCEIe1LEAREh2kRHabFFdMTYIOAD7/Mx/bDldh9ogZxEcGYmBaBiACsGEyeMVBNkHNrgXRjTRDyNmyP0GB1/R5vwdQMk9ShkAt1T23a1BaYdQC69RTcjOFwJ19iCOm6fxtbrAFXe8TtCYsZM2bgyiuvPO/1119/HbfeeisAYPbs2e4Og8gj2jps+P5oNSrq2mAMUWN2Vgyiw103hWisSYefzE/DNXNGYdPuUmzaVYyN3xcjIVKHiaPDOVUXudxANUHOrQXSjTVByNuwPUKD1dhiRVuHnfUr/MzZU5v6s4EeNJwsb4JKIYNep0ZbHw8cugX4yBmvo1EpEKSWB+RMIW5vTb7wwgu4/fbbz3v9pZde6mkgEPmDvbk1WP9tEZyiiOljIpGRaIBMNrQeFYOlUSmwYHoCtBo5cosacayoEaU7WpEWH4rJ6RHQqPhFkYjobGyPULfBfKEDAJMxiF/o/IhSIYNWo/D7wpsDPWg4VtiAUJ0a+/NqLrifiensYeRtQoMDs3Cs277VfP/99wAAh8OBnTt3QhR/+FQvKytDcHBgdWUh/2WzO/DulpPYdrACJoMGl2TF9KpR4U4qhRwTRkcgI8mIw6fqkVvSiOKqFkxMi0BGgvsSJkREvoLtETrXQF/oDhfUAwCqGtrQ0Hx+D7Ju/ELne0KDVQE9talTFNHY0oG0eIPUodAwhOpUOF3eDFEUhzzM3Je5LWHxP//zPwCAzs5OPPDAAz2vC4IAk8mEBx980F2HJvIYc6sVz314GIWVLbh8WgKiw4IkSRKolXJMz4xEWkIo9pyowZ4TNThZasbMsVGICnPdkBSiwRJkwgWfTPaHtS/I1dgeoaFqbO5AiFYJlUIudSjkYqE6FU6VNcEpBmb3mKbWTtgdIsJDOducLwrVqWBzOGGx2hGsUUodjse4LWHx1VdfAQD+8Ic/4Mknn3TXYYgkU1HXhqc/OITWdht+e10WMpKMF3xi4wkGnRqXT4tHaU0r9pyowee7S5Eaq8eUDFPAVRQmaVltDhzKrx3ydqx9Qa7G9ggNVUOLldOH+6nQYDXsDhHmFitCAugLX7e6pq4eQ+F6TtfriwzBP9RhCaSEhdufY7FxQP4ov9SMP729DzaHE3/82WRM8aJuoYIgIDEqBFfPHoXxKWEorGzGx9sLkVdiDtgnCkREbI/QYNjsTrRYbAhjwsIvGXRdQ3arGywSRyKN+qZ2KBUy6IMD58uuPwk9c//6e+HYc7nlMdaVV16Jzz77DAAwd+7cfsfYbNu2zR2HJ3KrPbk1eGX9MUSEBuHeH0+EyeCdWWqlQoYp6SakxOqx+3gNdh2vRkF5E2LCg5GZaJQ6vAENVBStPyyCRkTd2B6hoequwG/krFt+qfsLX2XAJiw6EK7XBFT9A3+iUcmhUsgCbmpetyQsHnvssZ5/P/XUU+44BJEkvjlUgTc+y8Xo+FCsuH4CdEHen6E26NRYMD0ehZUt2Jtbg7+8ewDZk+Nx7aWjoPXi7mQDFUXrD4ugEVE3tkdoqBpburrMc0iIf9KoFFAr5aiuD7yEhcPhRGOLFZnJYVKHQsMkCAJCdSr2sHCFadOm9fx7xowZ7jgEkcd1JyuyUsLx2+vGQ+lDxbgEQUBKrB7xpmBU1lvw1YEy7MmrwbLs0Zg1NoqZdiLyS2yP0FA1NFuhUsoQrGEtHX8VqlOhKgB7WDS0WOEUgYhQ9h7yZaE6NcpqWqUOw6PcXsPi9ddfx4kTJwAABw8exLx585CdnY0DBw64+9BELtOdrBifEuZzyYqzqZRy/Oiy0Vh1y3SE6zV4Zf1xPPXuAVTUtUkdGhGRW7E9QoPReKbgJhP5/is0WBWQNSzqzxTcZMLCt4UGq9DR6UBHp0PqUDzG7QmLN954A/Hx8QCAv/71r/jFL36BX//613jiiSfcfWgil9h+qAJvnklW/O66LJ9NVnQTZAIijEG4Z9lELJs/GiXVrVj12m68++VJNLRa0Wa19/nH7pQ6ciKi4WN7hAbidIpobLEiLIRf6PxZqE6Ftg47mi2B1a2+rqkDGpUcWvYe8mk9hTcDqI6F2+/YlpYWhISEoLW1FXl5eXjjjTcgl8uxevVqdx+aaMS+P1qFNz7LxbhR/pGsAHpPN6lWynHVxUnYn1+LL/aU4tvDlZiQGobR8QbIZb2fLnG6SSLyZWyP0ECaLZ1wOEWE6Vm/wp+FnpkasrKuDfpElcTReE59UwciQllw09eFBv8wU0iUUStxNJ7h9m8fMTEx2L9/P06dOoVp06ZBLpejtbUVcrnvf/Ej/3a4oA6vfnoCY5KM+N31/pGs6EuQWoFLsmKQFh+KfXl12HW8BscKGzEhNRwpsXrIZPzFRkS+j+0RGkhDc9cTyzDOEOLXup9QV9RbkOEDs6a5gs3uRFNbJ5JjQqQOhUZIF6SEXCYEVOFNtycs/vCHP2DFihVQqVR49tlnAQBbt25FVlaWuw9NNGwF5U148aOjSIjU4bd+0rNiIJFGLRbNTEBFnQUHT9Zix9EqHDldjzGJRqTG66UOj4hoRNgeoYE0NHdAJhN6nmCSfwrWdM0UEkj1u1i/wn8IggB9sArNbUxYuMzcuXPx7bff9npt0aJFWLRokbsPTTQspbVteHrtIeiDVbgjZxycANqs9gG3c4ruj83dBEFAnCkYsRFalNa04ujpBuzJrcGBk7WoqLNg4fQExIQHSx0mEdGQsT1CA2lsscKoU7FnoZ8TBAExEVqU1wbOTAt1zV0Ji3AmLPyCPliFhjP/p4HAIwPSW1paUFhYiLa23pnMiy66yBOHJxq0huYOPP3+AYiiiDkTY5BX0jjobSemm9wYmWcJgoDEqBAkRoWgrqkducVm7DhSiW8OViApKgRTMkyYlmFi8oKIfArbI9QfURTR0GxFQpRO6lDIA2LCg3GkoB6iKAZETYd6czt0QUpoVKxF5g/0wSqUVLfA6RQDIsHq9rv2P//5Dx599FFotVpoND9k9QRBwJdffunuwxMNWrvVjqfXHkJHpwOXT4tHiJZdQgEgIjQIsycEYUzSWBzMr8O+vBp89M1pfPTNacRGBCMz0YiUOD1SY/UwGYIC4hc/EfketkfoQixWO6w2B8JCWHAzEMSGB+P7o1VottgCYghQXVMHIgxBUodBLqLXKiGKQGu7DfoAuH/dnrB4+umn8be//Q1z585196GIhs3hdOKlj4+iss6CX187Hi0BNtXVYIRoVVg0MxGLZiaiobkDB07WYX9+Lb49Uokv95edWUeJuIhgRIQGISJUgwiDBkadGlqNEsEaBbQaJYLUciY1iMjj2B6hC2nsKbjJhEUgiInoml2hvLYVocFhEkfjXh2ddrR12DGGw0H8hv7MQ9Xmtk4mLFzB4XBg9uzZ7j4M0Yi8t+UUjp5uwC2LMjAmyYg9J6qlDsmrhek1mD81HvOnxsPpFFFe14aC8iYUVDShuqEdRwrr+61eLADQqOXQqBTQqOQIUisQdOZvQ4gaEXoNwkM10AYpYXc4oZDLPHtyROSX2B6hC+keD24M4Ze6QBAb0TWktay2DWOT/TthUdfE+hX+JuRMkqI5QB6wuj1hsXz5crz00kv4zW9+A5mMXzzI+2zZW4ov95dh4YwEzJ0UN6gCm/QDmUxAQqQOCZE6zJsc1/N6p82B+uYONLV2oq3DDkuHDRZrV5a/o9OOjk4HOqx2tJ/5u6HFiiOnG2C1OXr2IQiAQadGpDEIcRHBiA7XMoFBRMPC9ghdSEOLFSFaJZQK3huBIESrQohWGRCFN7tnCAnndL1+Q6OSQ6WUBcxMIW5PWLzxxhuoq6vDP/7xDxgMhl7Ltm3b5u7DE13Q4YI6vPvlSUxOi8AN80ZLHY5fUSnliAkPHlJhTlEU0dZhR31TB8rq2rD7RDXqzO04VdaEvBIzlHIZkqJDkBYfCpORYzGJaPDYHqELaWi28gl0gIk36VAeAFOb1jV1IFSnYjLOz+i1KjRbbFKH4RFuT1g89dRT7j4E0bBU1rdhzcfHkBCpwx1LxwVElV1vJwgCdEFK6IKUiDAGwWbv6m3hcDhR3diOwspmFFU141R5E0yGIGSlhiEuIpg1MYhoQGyPUH86bQ60ttuQFh8qdSjkQXERwdh+pBJOUYTMT9sRoiiivqkDcSbO6uZv9MEqVDdYpA7DI9yesJgxY8aIti8sLMTKlSthNpthMBiwevVqJCcnn7fexo0b8dJLL/VMT/T6668jIiJiRMcm/2XpsOPZD49AqZBhxfUToFbJJYtFkAmDHoYiNlhgObOuU3RnVN5FLpchNiIYsRHBmJEZhVPlTThe2ICv9pUjJlyLaWMiYWRldyK6gJG2R8h/Nbaw4GYgijMFw9rpQH1TB0x+OoNG1zBcB3sP+SG9VonTFfaAqPfm9oRFZ2cnXnjhBWzYsAFmsxn79u3Dt99+i6KiItx0000Dbv/QQw/hxhtvRE5ODj7++GOsWrUKb731Vq91jhw5gueffx5vvvkmTCYTWlpaoFL5f8VUGh6nKOKV9cdQZ27HfT+ZhDCJx/RZbQ4cyq8d1LohOg1aWrvGIk5MN7kzLK+lVMiQmWRERoIBeSVmHCqow4YdRchKCUdWarjU4RGRlxppe4T8V0PPDCH8UhdI4k06AEB5bZvfJiy6C25GMGHhd7oLb7ZYbH7/0M7t6ZgnnngC+fn5+Mtf/tLTbTstLQ3vvvvugNvW19fj+PHjWLJkCQBgyZIlOH78OBoaGnqt98Ybb+C2226DydT1BS4kJARqtX//x9Hwfby9EIcK6vGT+WnISDRKHQ4Nk0wmIDPZiGvmpGBUjB6HC+rx2c5i1JnbpQ6NiLzQSNoj5N8aWjp6Zq2iwNE9U0h5nf8W3qxtbIdcJiCMs9/4nbOnNvV3bv9k3rJlCzZv3gytVttTlTsqKgrV1QNPG1lZWYmoqCjI5V3d9eVyOSIjI1FZWYmwsB+mICooKEB8fDx+9rOfwWKxYMGCBfj1r389pHHt4eG6Pl83mUIGvQ+6MG+4ljsOV2D9jiIsmJGIZQvH9HmPiA0WhOiG/sGuVCo8sl33up46XjetVg1TmHbI2w3XYP8fQgBcefEonC5vwld7S/HM+weRPTURybH6gbc9a/+ePj9fMZj/h76W+8p95m284XPSX42kPdLt+eefx3PPPYf169cjPT3dXaGShzU0W9m7IgAFqRWICNWgtMaPExbmdoSHalinzQ+FBCsBAC0BMLWp2xMWSqUSDoej12sNDQ3nVegeCYfDgby8PLz++uvo7OzEL3/5S8TGxuKaa64Z9D7q61vhPKcogMkUgtraFpfFGci84VpW1rfh/97dj5RYPX506SjU9ZNRt1jtPcMuhsJmc/92Zw8J8cTxzmaxWFF7znvZnYb6/2AKVWPxRYnYfaIGn+4oxLQME8aO6n9u9bOvJeD58xsuuxOw2oY+9a5aqcBwCoQP9P9w7nXs5iv3mTfxhs/J/shkQr+JfV8x0vbIsWPHcPDgQcTFxQ28MvkMh1NEU6sVcREsShiIEiJ1fpuwsDucaGjuQGZy/20h8l0qhRwalRzNbf4/U4jbExaLFi3CH//4R9x///0AgJqaGjzxxBO46qqrBtw2JiYG1dXVcDgckMvlcDgcqKmpQUxMTK/1YmNjsWjRIqhUKqhUKsyfPx+HDx8eUsKC/Ju104EXPzoKpVyG31wzHkqFdEU2yX1CtCr87oYJeOnDI9ibV4u2DjumjTH51SwiVpsde04M/olwt+mZUVCwuzMFsJG0Rzo7O/Hoo4/ir3/9K37+85+7O1TyoKZWK5wiYGTBzYCUGBWCgyfrYO10SFqA3R3qmzvgFIFITgPvt/TBKjQHQA8Lt9ewuPfee5GQkICrr74azc3NWLhwIUwmE+66664Btw0PD0dmZiY2bNgAANiwYQMyMzN7DQcBumpbfPvttxBFETabDTt37sSYMWPccj7ke0RRxD8356Girg13Xj2O3T79nFIhx5xJschMMuJEcSN2HK2CUwygKVWIqE8jaY/87W9/w9VXX434+HgPREqe1F1wM5xtg4CUGKmDCKCs1v96WdSau3o5mgy8t/2VXqvikBBXKCkpwahRo3DnnXfC4XDg8ssvR0ZGxqC3f/jhh7Fy5Uq8+OKL0Ov1WL16NQBg+fLlWLFiBbKysnDVVVfh6NGjWLx4MWQyGWbPno0f/ehH7jolGoYWS+egp+4813C7snfbfrgSO45WIWf2KIy7wBAB8h8yQcC0MSYoFTIcLqiHKAIXZ0X77TzrgzGU6XO7WTsdKKxqxomiRlhtDjicIoJUcmiDlIg0BEGrYY8N8h3DbY8cOHAAR48exX333TfsY/vqcBp/rKliMoX0qs3T2lEPhVyG2MiQIffGG26tHlfv6+ztXBWT1OfmytpIfemulzRJLgdwBI0Wm0fud08co/v+bmyxIlSngilseJ8/g73eg1nH1+7LoRxDynOLMAbhVHkT1GolVMofegj1VQ/Mlz/P3dbaFEURDzzwANatW4fo6GhERkaiuroaL7zwAnJycvDEE08M6hdDamoq1q5de97rr7zySs+/ZTIZ7r///p5unuR92juG140dGFlX9pLqFry9OR/jko1YenHysPZBvkkQBExKi4AgAIdO1UMhFzBzbJRfDQ8ZisFOn2t3OFFS3YJT5c2obrDg7M4pMkHo1VvFoFNhfGoEEkzBUI4kq0jkRiNtj+zZswcFBQWYP38+AKCqqgq33347/vSnP2H27NmDiqGvOlnezptrqgxX9zmdXZunur4NxhAVWtusQ97fcGv1uHJf59YRclVMUp6bq2sj9aWnXpIoIlijwPGCOkxLi3DJvvvjqfeUxWpHc0s7KuvaEBsRPOxrNpjr3d//1XD25aqYRrqvwZ6Tq2Mazn7UZ9peFTUtCD9r6tpz64F5++f5QHWy3JaweP/997F79268//77mDBhQs/rhw8fxn//93/jvffew09/+lN3HZ4I7VY7XvzoKEK0Siy/ehwrJAeoiaMj4HCIOFrYgCC1AhNHu7dB4qscDifyS5tw5HQ9Ojod0AUpMW5UGC4aHwNzSwfUSjkEAbDZnWi22FBV34bSmlZ8e6gCSoUMWSlhGJscxvcZeZ2RtkfuuOMO3HHHHT0/Z2dnY82aNZwlxA+IooiGZitS4gaeVYr8kyAISIjUocTPCm+2ttvQ0elApIH1K/yZPvjM1KaWzl4JC3/jtkdiH3/8MR588MFejQMAmDBhAh544AF8/PHH7jo0UVfdis/zUNfUgV/ljOuZq5gC0+T0CKTG6XHoVD3yS81Sh+N1Kura8PG3RdiTW4NQnQoLpsfj2ktHYUq6CWOSjQhSKyCTCRAEASqlHBGhGoxPCceVs5Lwo+w0RBmDsD+/Dht2FKG+yTVPPohche0R6k9TWydsDici/LihTwNLjApBWY3v9YK6kFpzOwDAxIKbfi1Ee2Zq0zb/rmPhtoRFQUEBpk+f3uey6dOno6CgwF2HJsKOo1XYebwaObOTkRZvkDocv9BdA2Gof+xOqSPveoJy0bhoxJmCsetYNUqqvbdbnCfZ7E7sOFKFLXvLIAjA5dPisXBGImLCgwc9dCYqTIvsqfGYNzkWnTYnPttVglNlTW6OnGjwXN0e+eqrr9i7wk90J1j9+ckkDSwhUodOuxNVDRapQ3GZmsYOKOUyhOr4wM6fKeQyaDUKNFv8e2pTtw0JcTgc0On6Houi0+ngdHrBtxjyS9WNFrz9RT4yEgy46qJkqcPxG4OtgXAub5lOUyYTcOnEWHyxpxTbD1UiLFQLnca/pjAbisYWK745WIGmtk6MTwnDxNRwyOXDz2EnRoUg0hiEbw52FblVKmVIjNQFbM0Q8h5sj1B/6po6oJALPd2qKTAlRnUVIyypaUFsRLDE0bhGrbkdEQZNQBcbDxR6rQrNft7Dwm3fIux2O3bu3Amxn+kEHWcVAiFyFbvDib9/fAwKmYDlS8dyPD31olTIkD01Dp/tLMFn3xfhylmJ0AUppQ7L40qqW/Dt4Uoo5DIsmB6PmHDXNNA0KgUunxaPvbk1+PpABdLiQzFrXOAWOiXvwPYI9ae+qQPhen6pC3Qx4Voo5AJKq1sxa6zU0YxcR6cd5hYrslLDpQ6FPEAfrERRlX/3HHZbwiI8PBwPPPBAv8vDwji9JLneR9+cRlFVC+66NgthnFOd+qBRKZA9JR6f7SzG1v3lWDQzMWBmuBBFEccKG7A/vw4RoRrMmxzn8qlJZTIB0zMjER8Vgi17SuEURVw8PppJC5IM2yPUF4ezq+DmmCSD1KGQxBRyGeIidH7zpa+4qgUiABMLbgYEvVaFTpsTHZ0OaFT+2XPYbQmLr776yl27JurTiaIGfLarBPMmxWJqhknqcMiLhepUuGJmEjZ8V4gdR6tw6cQYqUNyO1EUsS+vFseLGpEcHYKLs6KhGMEQkAsRBAFXXpSEmgYLDhfUI0ilwBS+J0kibI9QX8wtVjhFkQU3CQAwKiYEu07UwCmKPt/jprCiGQBgMvDeDgTdQ9paLJ3QqPwzSRUYjxXJ71k67Hh14wlEh2mxbH6a1OGQD0iK0WNKhgnFVS04crpB6nDcyimK+PfWAhwvakRGogFzJsa4LVlxtomjw5GeEIqjhQ04Udzo9uMREQ1WXVPXLAosuEkAMCpGj3arHdV+UHjzdGUzDDoVVEr/fNpOvYWcmQnRn+tYMGFBfuHdLfkwt3Til0vGQs0PaBqkcclGpMTqcfBkHQ4X1Ekdjls4nSK+O1yJnUerMD4lDDMyIz02PEMQBMwYG4WESB32nqhBZX2bR45LRDSQuqYOqJXygKxjROcbFasHABRWNkscycg4RRFFlc0cDhJAdFolBMCvZwphwoJ83oH8Wnx3tAqLL0pCyplfOESDIQgCZo2LQrheg7c+y0N5nX99oXY4nfj6YAUKK1uw+KIkTEk3ebyWhEwQMHtCDPQ6Fb45WInWdv/9hUpEvqO+qQPhoRrW1yEAQGx4MNRKOQorfLuORWW9Be1WBxMWAUQuE6DTKtHCHhZE3qnZ0ok3N+UiMUqHqy9Jljoc6oMgE9BmtQ/5j7Pvgv4up5DLMG9KLFRKGZ7/8DAsHf7xhdrpFPHNwUqU1rRiRmYk5k9PkCwWpUKGyybHwSmK+PpABRye+s8lIupDR6cdTa2drF9BPWQyAcnRITjt4z0sCsqbAACRRiYsAkmIVoVmi/8mLNxWdJPI3URRxD835cFiteO+n0z2yJh8GjqrzYFD+bVD3m5iuueKNAZrlLjtqrF4/sPDeHn9caz40QSfLrrlFEV8e/iHZMWYJKPUIUEfrMIlWdHYdqACB0/WYmpGpNQhEVGAKqrkLAp0vlGxemzZWwqb3emzs4fllZihC1IiRMuhToFEH6xETaMFoij6Za8x33w3EgHYebwa+/Jrcc2cFMRH6qQOh3zc6PhQ/GR+Gg4X1GPd9kKpwxk2URSx40gViqpaMCXD5BXJim6JUSFITzDgWGEjKvxs+A0R+Y7TFV1PoTmLAp0tJUYPu0NEWW2r1KEMW35pI0bHhfrll1bqn16rgt0hot3qkDoUt2DCgnxSc1sn/vVFPlJj9Vg0I1HqcMhPZE+Jw+ysGGzYUYR9eTVShzNkoihi1/FqnK5oxsTR4Rg/KkzqkM4zbYwJocEqfHekEtZO//zFSkTerbCiGcYQNWdRoF5GxXTVQTtd4ZvDQuqa2lHfbMXo+FCpQyEP657a1F+HhTBhQT7pX1vyYbU58IvFmZDJmEUm1xAEATcvTMeoGD3+8ekJnyrCKYoi9ubWIr+0CeNHhWFCarjUIfVJIZdhzsQYdHQ6sCfX95JCROTbnE4RRVUtHA5C5wnTq6EPVvnsTCF5JWYAYMIiAPUkLPy08CYTFuRzDpysxe4TNVh6cTLiIoKlDof8jFIhx2+vy4JaKfeZIpyiKOJAfh1OFDciM8mIyekRXt0dNEyvQVZKOE5XNKOsxne73hKR7ymrbUVHp4NFCek8giAgJUaPU2cKV/qavFIzgjUKxLBtHHCCNQrIZAITFkTewNJhxz8/z0O8SYcrZyVJHQ75KWOIGr+5Zjzqmjrw8vrjcHr5rBaHC+pxtLAB6QmhmDbG81OXDkdWajgMOhW+P1aNThuHhhCRZ3R/GWX9CupLeoIBNY3tMLdapQ5lyPJLzEhPMPh00XAaHkEQoNcq0Wzx/odsw8GEBfmUtdtOoamtE7cuHjPgrCB2J7x6Ok3ybukJBty4IB2HC+rxry35EEXvvDEOF9Tj0Kl6pMbpMXNslE8kK4CuecMvzopBu9WOQ6fqpQ6HiALEqbIm6INV0AVxFgU6X0aiAQCQX2qWNI6hamyxosbcjowEg9ShkET0wSq0+GkPC05rSj4jt7gRXx+swKIZiT2FkS7EarNjz4nqIR/Hk9Npkne7bHIcahvbsWl3CSJCg7BopncVeD1yuh4HT9YhJVaPi8ZH+0yyoltEqAbpCQbkFjciNU6PMD2feBKRe50sa0JKrN7nPi/JMxKjdFAr5cgrNWNGZpTU4QxaXkkjACD9TMKFAo9eq0JZTavX9woeDvawIJ9gszvw5qZcRBqCkDNnlNThUAD50WWpmDYmEh9sPeVVRSKPFTbgQH4dRsWE4OKsaJ/tAjo5PQIqpRy7jtd4bS8WIvIPtY3tqG/uQErswA89KDDJZTKMjg/1uR4WuSVmBKnlSIwMkToUkog+WAWnCLT5QO21oWLCgnzCxp0lqG5sx82LMqDmNGTkQTJBwPIlmRgdH4pX1h/3ikbMscIG7MurRXJ0CC7JivHZZAUAqJVyTM0wodbcjoJy36zMTkS+4fCpWgBAGrvN0wVkJBhQXtuGFh+aIvJEcQMyEoycOS+A6YO7hrn5Y+FNJizI69U2tePT74swNcOE5Bg9a1GQxykVcqy4fgLCQzV47sPDKKuVZmYLURTx8fZC7MurRVJ0CGZPiPGLxklqnB4mgwb782t9YlYWIvJNh07WQhekRCxnUaALSD+T0DpZ5huzhdSZ21Fr7kBmslHqUEhCP0xt6n/tKNawIK8miiLe/eJk11RTsfoh1aRgLQpyJV2QEvf+eCL+/PY+/OXdA/j9jVM8Oq2uw+nEm5/l4dsjlUhPCMWMsVE+3bPibIIgYObYKHy6oxgbdhTh1iszpQ6JiPyMKIo4fKoOmUlGv/nsJPcYFaOHUiFDXokZU3ygLXm8uKt+xdjkMIkjISmplXKoFDI0+1DPoMHy+h4WhYWFWLZsGRYuXIhly5ahqKio33VPnz6NiRMnYvXq1Z4LkNyqqLIFJ0vNmJwegSA182skrUhDEH7/08kQBAFPvXsA5R7qaWG1OfDCf47i2yOVuHJWImb6UbKiW5heg4wkA749VIniqhapwyEiP1PVYEF9Uwcyk/gUmi5MqZAhNVaPvNJGqUMZlONFDQjVqRAbrpU6FJKQIAjQB6s4JEQKDz30EG688UZ8/vnnuPHGG7Fq1ao+13M4HHjooYdw+eWXezhCcpdOmwN7cmuQEKXr6Z5HJLWY8GD84cbJEATgT2/vx8kys1uPZ2614i/vHcChU3W46Yp0LL4o2W+r208aHYHgICXe+/IkC3ASkUvlnnkKzW7zNBiZyWEoqW5FU6tV6lAuSBRF5BY3IjPJ6LdtAxo8JiwkUF9fj+PHj2PJkiUAgCVLluD48eNoaGg4b92XX34Z8+bNQ3JysoejJHc5cLIO1k4HfnTZaL97mkzeR5AJg66Potepce+PJ0GnVeIv7x3E7mFMnzsYp8qa8Mgbe1Ba04pfXzMe2VPi3XIcb6FSyrH4oiTklZpx4GSd1OEQkR85XtyICEMQIg1BUodCPmBCSjgA4Mjp879zeJPy2jY0W2wYm8ThIATotUq0ddjRaXdIHYpLeXUf+8rKSkRFRUEu75oVQi6XIzIyEpWVlQgL++GNmZubi2+//RZvvfUWXnzxxWEdKzxc1+frJhOnB3KFmgYLQnSawa/faEFeiRkTRkdgVJwBnfahP21VKhVDOqavbNe9rrfH6Qvbnb2eEwLyhjgDyJLZKfjmQBnWfHwMFQ3tuHXpOCjkI88D2x1OfLAlH+9vyUeUUYvHf3UJkmO6puETh/he6ubO69nX8uEeb3ZaBL4/VoUPvzmN7JnJUCq8Oq/ucvydQ96ixdKJNqt9xPtRKxWQ+m3sPPMUelZWDJ9C06AkRulg0KlwuKAOsyfESB1Ov36oX8GeQwSEnCm8WWfugDFYLXE0ruPVCYvBsNls+N///V/86U9/6klsDEd9fSuc50wrYTKFoLaWY6ldQi5HS2vHoFYVRRHb9pVCo5JjbJIBNpt90NuezR+3C9Fpetb15jh9Ybuzr+VIjnfXdVn49LsifLL9NA7k1eAXV47BqDPJheEoKG/C21/ko7iqBReNi8LPFqRDqxB6PossVu+6nudex5Eez9phw/WXpuCZtYexdnMuFkxPGPI+fJU3/86RyYR+E/vkn9o77EMqdN2f6ZlRUEhcg6qkugVtHXZMGO39BRTJOwiCgAmp4diTWwO7w+mShxHucKywAVHGIITph/6AgPxP90whNY0WpMWFShyN63h1wiImJgbV1dVwOByQy+VwOByoqalBTMwPmc7a2lqUlJTgjjvuAAA0NzdDFEW0trbisccekyp0GoHTFc2oNXfg4vHRUCmHn4Qi8gSFXIYbF6RjTJIR/9ych8ff2otLJ8Zi8awkmIbQ9bisphUbvi/C7hM1CA1W4TfXjMe0MZFujNx7ZaWEY1yyEZ98V4iLxkdDF6SUOiQi8mEHT9ZBEICpYyLR2e5/47vJPSakRuCbQ5U4WdbklcVaO20O5JY0Yu7EWKlDIS+h13YnLNoljsS1vDphER4ejszMTGzYsAE5OTnYsGEDMjMzew0HiY2Nxa5du3p+fu6552CxWPDHP/5RipBphDptDuzLq0VEqAapccN/Sk3kaVPSTRiTaMRH20/j64Pl2H6oElPSIzA9MwrjR4X1OctNY4sVhwrqsPt4NXJLzFApZFhycTIWz0qERuXVH89uJQgCfpydhodf240NO4rwk/lpUodERD7s4Kk6pMaFIlSnRi0TFjRIY5ONUMgFHC6o88qERV6pGTa7ExNSw6UOhbyEUiFDkFrBhIWnPfzww1i5ciVefPFF6PX6nilLly9fjhUrViArK0viCMmVDp2qR0enA/OnxnOcKfkcrUaBny1Ix+JZSfh8dwl2HqvC3rxaAEBEqAYRoRoIggCb3YmaRguaLbaeZT+al4pLJ8ayN8EZCZE6zJkYgy/3leGyyXGICuN0bUQ0dA3NHSipbsUN81KlDoW8SHeh7YGMjgvFwVN1WHLJqD6XS1mj5XBBPVQKGTISDdIEQF5JH6xkwsLTUlNTsXbt2vNef+WVV/pc/3e/+527QyI3MbdakVvSiLT4UISHciwe+S5jiBo/mZ+GH182GnmlZpwqb0J5bSvMLVY4RREKuYCJoyMQGxGM8aPCEBsRzARdH66dk4Jdx2vw720FuOs6JqeJaOgOFdQDACaOjpA4EvImVpsDh/JrB1xPH6xCbokZm3eXwBhyfhFDKWu0HDldjzFJRigVHD5NP9BrVaist0gdhkt5fcKCAoMoith9ogZKhQyT09moIP8gkwnITDJ6ZVdSXxCqU+PKmYlY920hTpaZkRZvkDokIvIxB0/WIdIYhJhw9tKioUuOCcGe3BqcrmjC1AzvqStV3WBBTWM7FkwLnMLUNDj6YBVOljWhtd3mN712vbPkLQWckupWVNVbMGl0RECP3Sei3hbOSESoToUPvjoFURz69MZEFLg6Ou04UdyISaMj2IuNhkWjUiAuIhinK1rg9KLfQYfP9BzKYv0KOkf3TCHVjf7Ty4IJC5Kc3eHEntwaGEPUSE8wSB0OEXkRtUqOa+ekoKCiuaceCBHRYBw53QC7w4lJHA5CI5ASF4p2qx1VXtTN/vDpekSHaRE5hNnIKDDotV29KqobvOd+HSkmLEhyR043wNJhx4zMSMhkfAJCRL3NzopBnCkYH24rgN3hlDocIvIRO49VwaBT8WEIjUiCKRhKhQynK5qlDgUAYOmwIbe4EZPSmIij8+m0KggCUNXgP4U3mbAgSbVYOnGssAGjYkI4CwAR9UkmE/Djy0ajxtyOrfvLpQ6HiHxAa7sNhwvqMXNsFB+G0IjI5TIkRYegpLoFNrv0SfNDp+rhcIqYmmGSOhTyQnKZgHC9BjV+NCSExQJIUntO1EAmwKsKGRGR9xk/Kgxjk4345LtCXJIVDa3GPwpJEfmSplYrDpysg7nFCovVjuRoPcanhPWMmfYme3Jr4HCKuGhctNShkB9ITzDgVFkT8kvNGDcqTNJY9uZ1DaMeFaOXNA7yXpHGIFRxSAjRyJXXtqKstg0TUsOh1TB3RkT9E4SuXhaWDjs2fF8sdThEAaehuQOf7y5FVYMFhhA1EqNCUFjZjI+3F+JYYYPU4Z3n+2NViIsIRkKkTupQyA9EhGoQHabFiaJGOJzSFd+0djpwtLABU9JMkLGQLPUj0qhFdUO73xQrZ8KCJOFwOrH7RA30WiUyk6XNVBORb0iMCsHF46OxZW8Z6pr8Z2wmkbdrbLFi855SyGQCFs9KwrzJcZg9IQbXzU1BYpQO+/JqsTe3xmsaxzXmdpwqa8KscVGcHYRcZtyoMFisdhRKWMviyOl62OxODgehC4o0BsFqc6CxxSp1KC7BhAVJ4nhRI1osNkzPjIKcY0uJaJCuvTQFggD855vTUodCAaSxsRHLly/HwoULsXTpUvz2t79FQ4P39SpwB1EUsft4NWSCgEUzEnsN/whSK3DppFhkJBpwvKgRu457R9Ji+6EKCABmjeVwEHKd2AgtjCFqHCtskOw+35dfC12QEmkJoZIcn3xDdHhXXcCKujaJI3ENJizI49rabThSUI+ESB3iTMFSh0NEPiRMr8EV0xOw81g1Ciu9o2I7+T9BEPDLX/4Sn3/+OdavX4+EhAT85S9/kTosjyitaUV1Yzsmjo6ATnt+7RhBEDAjMxLjRoUhv9SMQ6fqJYjyB502B74+WIFJaREID9VIGgv5F0EQMH5UGJraOiWZMcTa6cDBU3WYkh4BuYxf4ah/MeFd36/KmbAgGp69ebUQRWD6GBbaJKKhWzwrCSFaJdZuPeUVT3PJ/xkMBsycObPn50mTJqGiokLCiDzD6RSxP68WocEqpMX3/0RXEARMSY/A6LhQHC6oR25xowej7G3n8Wq0tttw+bQEyWIg/5UcE4KIUA325dWi0+bw6LH35tXA2unAxeNjPHpc8j26ICX0WiXKa5mwIBqyiro2FFe1ICslrM8nNUREAwlSK3D1JaOQW2LGoQJpn+ZS4HE6nXj33XeRnZ0tdShud7KsCc0WG6ZmmAacGlQQBMwaF4X4SB12n6iRpAeUKIrYsrcM8SYdxiQaPH588n+CIGDm2Ch0dDo83ptox9EqmAyaCyYPibrFmXR+08OCUzOQxzicIvacqIEuSCn5lFBE5J0EmYA2q33A9aZnRuKLvaV4/6uTSIkLhVathIIpePKAxx57DFqtFjfddNOgtwkP972ZKqrr23CyrAkmYxDGjAofdPHKqy4ZhU+2n8Z3h6tgCAmCVquGKUzr5mi7HDlVh7LaVvzux5MQGdn3lI8mUwjEBgtCdCMfLqJUKlyyn5Hu6+ztXBWT1OfW1/pSx9QtRKfBuJRWHC+sR02TFTPGGQe9rckUMqxj1jRYcKK4ET9bNKbfe7ubp+/vwazja/flUI7hjeem1aqRmmDAl3tKEBHR9ftnuPeeN2DCgjwmt7gRTW2dyJ4SB7mc3yyI6HxWmwOH8msHte7YZCO2HajAe1/k42cLM6BQ81caudfq1atRXFyMNWvWQDaEMeT19a1wSjgV4nAUVLagobkDs8ZFobVtaJXm506Mwee7S/HZ94VIT9BDcLj/IYUoinhzwzHotUqMSwhFbW3LeeuYTCGorW2BxWpHS2vHiI9ps7lmPyPZV4hO02s7V8Uk5bmde07eENO5xicbUVjRhJc+PIQovRpazcC/f7rvv+FY/10hAGBisnHAfXjy/u7v/2o4+3JVTCPd12DPydUxufLcLBYrwoJVaLc6kFtQi8zRkcO+9zxBJhMumNjnt0byiMaWDhw6VYd4UzDiOSc6EblAQqQOkcYgHDxVh47OgXtlEI3E//3f/+Ho0aN44YUXoFKpBt7Ax31zoBwKuYBRMRd+mtsXlVKO+VPjoVEpsOajo6isd3+35GOFDcgrNWPpJaOgUsrdfjwKbGqVHJdOjEFDcwde/+yEW+spOUURO45UYUyiARGGILcdh/xLbERX4U1/mCmECQvyiLVfnoRT7OrGTUTkCoIgYGqGCR2dDny5t0zqcMiPnTx5En//+99RU1ODn/zkJ8jJycFdd90ldVhu0261Y8+JKiTH6KEc5lgrrUaBy6fFQyYT8NS7B9zaaHaKIv79dQEiQjWYOynWbcchOlukUYuls0dhX14tPv2+2G3HOXSyDjXmdsydFOe2Y5D/6Z6J0R8Kb7L/LLldXkkjdh2rwoTUcIRo/f+pFBF5jskQhOToEHy1rwwLpiXAGKKWOiTyQ2lpacjLy5M6DI/ZebwanTYn0kdY3E8frMJvr5+AF/5zBKv/tR//vWwSEqNcP45694lqlFS3YvnSsVBwyCl5UPbUeFTXW/Cfb04jVKfCnAmuT5ht2l2CcL0G08aYXL5v8l/BGiUMOpVfFN7kpzq5ld3hxNtf5CM8VIPxKSy0SUSuNzk9Ag6niHXbT0sdCpFf2HW8GrGmYISHjrwAXGxEMFb+bAoUchlW/+sAjhU2uCDCH7RYOvHelpNIjNJh5tgol+6baCAyQcBtV2ViXLIRb36Wh/2DrME0WAXlTThZ1oQrpidAPoS6OUQAEBcRzIQF0UC+2l+O8to2/GRBBp96EJFbhGhVuHRSLL49XIniKu8tKkXkC5rbOnGy1IypGVGDnhlkINFhWjxw01SE69V4+oND2LrfdUO43vkiH20ddty2OBMyF8VLNBQKuQy/uTYLSdEheGndUew+UT2s/didQJvV3uvPhu+LoVUrMHVM5HnL+vvjY/V9yY1iI3SorGvzuaLP5+KQEHKbhuYOfLT9NLJSwjE53YRv9pdKHRIR+alFM5OwL68Wb2/Ow/03T+UXF6JhOniqDiKAqWMicbqs0WX7DQ/V4P6bpuLvnxzDPzfno7LBgp9kp0EmG9x71e4ErLbexXUPnqzF7hM1WHxREsINQQNOiSw2WGDhFzpygyC1Avf9ZBKeWXsIf//kGGx2Jy7JihnSPqw2O/acleyob+4qWJ+VEobDBXWD3s/EdA4doS5xpmB02p2obrD49Jd+X46dvJgoinh7cz5EUcRNV6S77CkNEVFftBoFbpiXilc/PYHvDldizkQW3iMajn15tYgI1SA+UufShAXQ9aVuxfUT8MHWU9i8pxTVDe1YvnQsdEHKAbft68vc57tKEK5XIyxE3WtZf7qnK+QXOnKHILUC//XjSXj2w8N47dMTsDmcmDfMQpmiKGL38WpoVHKMG8Uh1TQ8CWdmZjxd3oT0WNfXD/IU9tEnt9iXV4uDp+pwzewUmDgFExF5wMXjo5EWH4q12wrQ2m6TOhwin2PpsON4UQOmZpjc9qBBJhPwk/lp+PmiDBwvasDDr+/GqbKmIe2jtd2Gr/aVQaWU47Ip8YPupUHkbmqVHHf/aAKyUsPx1qY8bNpVMqwpTwvKm1Fr7sCUdBOn6aVhizcFQy4TcKrMLHUoI+L1CYvCwkIsW7YMCxcuxLJly1BUVHTeOi+88AKuuuoqLF26FNdddx22b9/u+UCph6XDjne25CMxUocF0+OlDoeIAoQgCLjpigxYOuz4iAU4iYbs8Ok6OJwipqa7fwryeZPi8MDNUyGXCfjzO/vx/lcnYe10DLhdfVNXzwq7Q8TlU+Oh1bCzMHkXlVKO316XhWkZJnyw9RT+teXkkGoItFvt2J9fC5NBg9Q4vRsjJX+nVMgRFxGMAh9PWHj9p/xDDz2EG2+8ETk5Ofj444+xatUqvPXWW73WmTBhAm677TYEBQUhNzcXN910E7799ltoNCOvbk1D9+HXBWhu68SK6yewojEReVRCpA7ZU+Lw5b4yXDohFknRvtsFksjT9ufVIjRYhRQPfUkaFaPHQ7+YgbXbTuHz3aXYm1uDqy5KxsXjo897qtxpd+BEUSP25ddCo5JjwfQEGDiNMUlMkAn91k65edEYhASr8OW+MlTWt+HOaydAhv4TF06xa3a9rfvLYbM7MXOs6wrfUuBKig7BwVP1EEXRZ+8nr05Y1NfX4/jx43j99dcBAEuWLMFjjz2GhoYGhIX9MJ5rzpw5Pf/OyMiAKIowm82Ijo72eMyB7lRZE7YeKMeCaQkYFcOsMBF53jVzRmF3bg0LcBINQafNgcOn63Hx+BjIBOECX6uG5kJf6LpWAH502WhMTjfhP18X4K3P8/Cfb04jPcGAhCgdnE4RjS1WHMivRVuHHTHhWsyZGAONyqubsBQgrDYHDl1gKtOEyK7pdvecqMH/rNmBS7KiERWm7XPd8anh2H6oEvVNHZg7ORZhej54pZFLig7B9sOVqG/uQESobw7T9+pP+8rKSkRFRUEu78qyy+VyREZGorKyslfC4mzr1q1DYmIikxUSsNkdeGNTLsL1alx76SipwyGiAKXVKPHjy1Lxjw0nsO1AObKncGga0UCOFTWg0+bElPQIl+53oC90Z5s7KRbVje3ILzEjr6QR+89sp5ALGJNkRGx4MKLCgnz2KSEFpoxEAyJCNdh+uBKf7y5FUpQOE0ZHwKBT9dzLNY3t+L/3DqKq3oIZmZFIjGLvQHKN7p6mxVWtTFh4g927d+Nvf/sbXnvttSFvGx6u6/N1k4kfGIP12vpjqKhrw8PLZyEhzthrWU2DBSG64WWKlUrFsLb11+261/X2OH1hu7PXG+7xtFo1TP08LXEHcZjvJXdez76We/r//dz/h6vn6bAvvw7/3laAedOT+n2i5W34O4eksj+vFlq1AmMSjQOv7CaCICA6TIvoM+9Xa6cDMpkApUKGiemmQSc+iLxNeKgGyxakY9eRShwvakBxdSuC1HLog1Vosdhg6bDDoFPjsilxPTM7ELlCgkkHmUxAcXUzpmb45gxJXp2wiImJQXV1NRwOB+RyORwOB2pqahATc/68xgcOHMDvf/97vPjii0hJSRnyserrW88riGMyhaC2tmXY8QeS/FIz1m07hXmTYpEYrj3/usnlaGntGNa+bTb7sLb1x+26p2Tz1PH8ebuzr+VIjmexWFHrGLhQ3Lnszq5p+obKKcKrrue519Hdx+tPX/8PN85Pw/++ugt/fXsv7vvJJK9/KuvNv3NkMqHfxD75PrvDiYOn6jBxdAQUcu+pPaVWcXYE8h8qhRyT0iKQkWhASXULqhvb0WqxITpMC2OIGtdfNhq5RQ1Sh0l+RqWUIzEqBEVV3tm+GAyvTliEh4cjMzMTGzZsQE5ODjZs2IDMzMzzhoMcPnwY9957L5599lmMGzdOomgDV0enHa9+ehwRBg1+nD1a6nCIfILVZseeE9VD3m5ium9mx6UQHqrBjy8bjbc+z8PXhyowb1Kc1CEReaX8UjPaOuyYws8XIrcLUiuQkWhExjm9mZigI3dJjQ/F7mNVPlt403vS6P14+OGH8fbbb2PhwoV4++238cgjjwAAli9fjiNHjgAAHnnkEXR0dGDVqlXIyclBTk4O8vLypAw7oHzw1SnUmTtw+1VjWQSLiLzK3EmxyEwy4oOvTqG+aXi9vIj83b78WqgUMoxP6bs+GBER+a7R8Qa0WGxobLFKHcqweP23y9TUVKxdu/a811955ZWef3/44YeeDInOcuR0PbYdrMCiGYlITzBIHQ4RUS+CIOAXV47Bqld3441NufivH0/0yacLRO7iFEUcyK/F+JRwqJV8wktE5G9Gn/mOdrqi2Sdnn/H6HhbkvZotnXh94wnERQRzVhAi8lomQxB+NC8Vxwob8PXBCqnDIfIqhRXNMLd2YiqHgxAR+aXUOANUChnyS81ShzIsTFjQsDidIl5Zfxyt7Xb8cslYKBV8KkNE3uuyKXEYm2zEe1+eRHldm9ThEHmN/fm1kMsETBwdLnUoRETkBkqFDKlxoUxYUGBZv6MIxwob8LMFaT3z+xIReSuZIOCXS8ZCrZLj7x8fhc0+9JldiPyNKIrYl1+LMUlGaDVKqcMhIiI3yUgwoLSmFW0dNqlDGTImLGjIjp6uxyffFuKS8dG4dGKs1OEQEQ2KQafG7VeNRVltG97dclLqcIgkV17bhprGdg4HISLycxmJBogATpY2SR3KkDFhQUPS0NyBl9cfR5wpGDctzGDxOiLyKRNSw3HlrERsO1iBbw9XSh0OkaT259dCADA5LULqUIiIyI1SYvVQyGXIK22UOpQhY8KCBs3ucOKldUdhdzjxm2uzWE2ciHzSdZemIDPJiH9uzkNxVYvU4RBJZm9eLVLjQxGqU0sdChERuZFSIUdKrB55JWapQxkyJixoUERRxFuf56Ggohm3Ls5EdJhW6pCIiIZFLpPhzqvHQRekxLMfHoa51TfnJScaifLaVpTVtmJ6RqTUoRARkQdkJBhQXN2Cdqtd6lCGhAkLGpTPdpXg28OVWHpxMqaPYeOGiHybPliFFddPQFuHDc99eBhWG4twUmDZebwaMkHAjLFRUodCREQekJFogCgCJ8t8q44FExY0oN0nqvHvbQWYOTYK18wZJXU4REQukRQdgjuXjkNRZQteWX8cDqdT6pCIPMIpith5rArjRoUhNFgldThEROQBo+NCoVLKcKigTupQhoQJC7qgo6fr8cr640iPD8Vti8ewyCYR+ZXJ6Sb8ZH4a9ufX4q1NeRBFUeqQiNzuZKkZ9c1WXDSOvSuIiAKFSinHhJRw7M+vhdOH2jtMWFC/TpaZ8fxHRxAXEYwVP5oIpYJFNonI/yyYnoAlFydj++FKrN1awKQF+b3vj1VDrZRjchqnMyUiCiRTMkxoau1EQbnvDAtRSB0Aeaf8UjOeXnsIRp0a9y6bBK2GtwoR+a9r54xCe4cdm3aXAABuuCyVPcrIL1ltDuzNrcGUdBPUKj6IICIKJBNTI6CQC9iXV4u0eIPU4QwKv4XSeXKLG/G3fx+GMUSN3/90Mse3El2AIBPQNoxqy04+xPcqgiDgxgVpAIBNu0tgdzjxk8vTIGPSgvzM98eqYLHacenEGKlDISIiDwtSKzA2OQz78mqxLHu0TzycYcKCetmbW4OX1x+DyRCE3/90Mgycm53ogqw2Bw7l1w55u4np7IrtbbqTFnK5gM17StFs6cTtV42FUsHRk+QfRFHEF3tKkRQVgvQEg9ThEBGRBKZmmHC4oB4l1a1Iig6ROpwBsRVGALoaMZv3lOKldUeRHK3H/TdNZbKCiAKOIAhYlj0aP5qXit0navB/7x9Ei6VT6rCIXOJYUQMq6y24fFq8TzxVIyIi15ucZoJcJuC7o5VShzIoTFgQbHYHXvv0BN778iQmpUXgvp9Mgi5IKXVYRESSEAQBi2clYfnSsSioaMajb+xFcVWL1GERjdgXe8qgD1ZhRiZnByEiClS6ICWmj4nE9sOVsHTYpA5nQExYBLiqBgue+Od+fHe0Cldfkoy7rsuCSskiXEREF42Lxv03TYFTFPHE2/vw5b4yziBCPqu4qgVHTtcje3IchzkREQW4hTMSYe104OtDFVKHMiD+xgpQoiji64PlePj13ahrasfvrs/CNXNSWGCOiOgso2L0eOgX0zEm0Yh3vsjHM2sPo6G5Q+qwiIZEFEX8a0s+QrRKXD4tQepwiIhIYknRIRiTaMCWvWWwO5xSh3NBTFgEoKoGC5569wDe3JSH1NhQPHr7TM7FTkTUD32wCvfcMAE/W5COvJJGPPiPXdiytxQOp3f/gifqtie3BifLmnDtpSmcppyIiAB09bJobLFi94lqqUO5IP7WCiCt7TZs2FGEL/eVQaWU45ZFGZgzMZa9KoiIBiAIAuZPjUdWajje/jwP/9pyEtsOVuBH81IxMTWcBQzJa1k7HVi7tQAJkTpcOiFW6nCIiMhLZKWGIzFSh7XbCjBxdASCNd5Zw5A9LAJAa7sN67afxso13+OLPaW4eHw0/t/ymZg7KY7JCiKiIYg0BOHeH0/EXddmweFw4tl/H8bjb+3DgfxaOFnfgryMKIp4/bMTaGjuwI2Xp0Em4+98IiLqIhME3Lo4Ey1tNry75aTU4fSLPSz8WFltK7buL8eOo1Ww2hyYnBaBa+akICFSJ3VoREQ+SxAETM0wYeLocHx7uBIbdxbjuf8cQaQxCJdNjsNF46Oh16qkDpMIn+0qwe4TNbh+bgoyEo1Sh0NERF4mKToEV12UhPU7ijA13YTJ6d5XJoAJCz9TXteGfbk12JtXg7LaNijkMszMjMTCGYmIZ6KCiMhlFHIZ5k2Ow5yJMdiTW4Ov9pfj/a9O4YOtpzAm0YhpYyIxJd2E0GAmL8jzth0ox4fbCjAjMxKLZyVJHQ4REXmppZck41BBHf7+yTH89rosjE8JlzqkXrw+YVFYWIiVK1fCbDbDYDBg9erVSE5O7rWOw+HA448/ju3bt0MQBNxxxx244YYbpAnYwxpbrDhZZsapsiYcK2pAZb0FAoC0+FD89PI0XDQuGrog7xyPRETkD+QyGWaNjcassdEoq2nF7txq7MmtxT8/z8Pbn+dhVKwe6fEGpMWHYnR8KELY+8LnDKYt4i1sdife+/Ikth4ox/iUMNx6ZSZrrBARUb8Uchn+68eT8H/vH8Tf/n0Yt12ViVljo7zmd4fXJyweeugh3HjjjcjJycHHH3+MVatW4a233uq1zvr161FSUoLNmzfDbDbjmmuuwUUXXYT4+HiJonYtURTRbnWgxmxBZb0FlfVtqKy3oLiqBXVNXdPrqRQypMaFYv7UeExJN8GgU0scNRFR4ImP1CE+Uodr56SgvK4Ne3NrcLy4EVv2lWLT7hIAQJQxCLERwV1/woMRHa5FuF6D8HDWwPBWg2mLSM3a6cCOo5XY8H0xGlusuHJmIq6fm8q6FURENCB9sAq/v3Ey/rb2MF5ZfxzbD1XguktTkRqnlzxx4dUJi/r6ehw/fhyvv/46AGDJkiV47LHH0NDQgLCwsJ71Nm7ciBtuuAEymQxhYWG4/PLLsWnTJvzyl7+UJG6nKMLa6YDd4YTdIcLhcMLuFGF3OOFwiLA7z/ztcMJmd6Ldake71Q7LmT/tVgcsHTY0t3WiscUKc2snrDZHz/5lggCTMQhJ0SG4fGo80hIMSIjUQSFnDVUiIm8gCALiTTrEm3S4Zg5gsztQVNWCk2VNKKxsRmW9BYcL6uFw/pCkUMhlMOhUCAtRIzhIiWCNElqNouuPWoFgjRIqpRxKhQxKuQClQg6FQoBCLjvzmgwKuQwymQC1UgalQi7hFfAfg22LeIrd4URdUwdaLTbUN3egsr4NBeVNyCs1w+4QMTouFLdflYmxyZ6PjYiIfFewRok//mwyvj5YgXXbC/HE2/tgDFEjKyUc8aauByx6rQrhoRqPziji1QmLyspKREVFQS7vanTJ5XJERkaisrKyVyOhsrISsbE/TNUVExODqqqqIR2rvycQw3ky8eHWAuzJrRnydgAglwlQqxQIUskRolMjPjIEoToV9NquRmxkmBYRoWrIZb6VnBBlArTDvLEVctmwtvXH7YLUCjjsSo8dz5+3O/taeuJ4/rrdudfR3ce70Hbe/CRZrVIgI9HYq/Chw+lEXZMVteZ2NLd1wmp3oqquDeY2K9qtdlSb29FutaPzrIT1YGnVCjx4yzSXJbK9+dq622DbIhfiyuu37utC7D2rjSEIgMkQhJw5KRiXbMSoGNc8DRvJ7+2zDfc97Y79dH9eeVNMI92Xq36XuSoeV+zL1b9XXBGTK/bT33lJGdNI9zPQOUkR00j3NdhzcnVMrj63c3/vDPb3kEwmx+XTEjB7QiyOFdbjaGEDTpc3I7eksWcdlVKOVbdMh0rpmTaGIIreOw/b0aNH8cc//hGffvppz2uLFy/GU089hXHjxvW8tnTpUvy///f/MGHCBADAK6+8gurqajz44IMej5mIiIj8x2DbIkREROR6Xv2YPiYmBtXV1XA4up4uORwO1NTUICYm5rz1Kioqen6urKxEdHS0R2MlIiIi/zPYtggRERG5nlcnLMLDw5GZmYkNGzYAADZs2IDMzMzzumAuWrQIa9euhdPpRENDA7Zs2YKFCxdKETIRERH5kcG2RYiIiMj1vHpICAAUFBRg5cqVaG5uhl6vx+rVq5GSkoLly5djxYoVyMrKgsPhwKOPPorvvvsOALB8+XIsW7ZM4siJiIjIH/TXFiEiIiL38vqEBREREREREREFHq8eEkJEREREREREgYkJCyIiIiIiIiLyOkxYEBEREREREZHXYcKCiIiIiIiIiLwOExZERERERERE5HUCJmGxcuVKXHrppcjJyUFOTg5eeumlnmV1dXW47bbbsHDhQlx99dU4dOiQW5cFksLCQixbtgwLFy7EsmXLUFRUJHVIksvOzsaiRYt67sXt27cDAA4ePIirr74aCxcuxG233Yb6+vqebdyxzNesXr0a2dnZyMjIQH5+fs/rF7rHPL3MV/R3Lfu7NwHen31pbGzE8uXLsXDhQixduhS//e1v0dDQAMDz18vXryV5D2/9jLvQ+y0jIwNLly7t+ezKy8vr2e6rr77CokWLsGDBAtxzzz1ob28f8TJX87d2QVlZWc+55OTkIDs7GzNmzLjguXrjOflju6Ovc7rQewvw/veXv7Zp+jqvC723pDhnjxEDxB//+Efxn//8Z5/LVq5cKb7wwguiKIrinj17xAULFohOp9NtywLJzTffLK5bt04URVFct26dePPNN0sckfQuu+wyMS8vr9drDodDvPzyy8U9e/aIoiiKL7zwgrhy5Uq3LfNFe/bsESsqKs67fhe6xzy9zFf0dy37ujdFkfdnfxobG8WdO3f2/PznP/9ZvP/++z1+vfzhWpL38NbPuP7eb6Ioiunp6WJra+t527S2tooXX3yxWFhYKIqiKD7wwAPic889N6Jl7uDv7YLHH39cfOSRR0RR9OzvmZHyx3ZHX+d0ofeWKHr/+8tf2zT9ndfZzn5vefqcPYkJC1EUJ02aJNbX1/f8fNVVV4mHDh1y27JAUVdXJ06dOlW02+2iKIqi3W4Xp06d2uu6BKK+PkwOHTokXnXVVT0/19fXi5MmTXLbMl929vW70D3m6WW+aLC/3Hl/Ds6mTZvEW265xePXyx+vJUnDlz7jut9votj/F6qNGzeKd9xxR8/Phw8fFhcvXjyiZe7gz+0Cq9Uqzpw5Uzx69Kgoip79PeMq/tjuuNCX4LPfW6LoO+8vf23T9Hce5763LrSuN57XUCg836dDOq+//jref/99JCQk4L//+7+RmpqKxsZGiKKIsLCwnvViYmJQVVWFhIQEly+bMGGCZ07WC1RWViIqKgpyuRwAIJfLERkZicrKyl7XJhDdd999EEURU6dOxX/913+hsrISsbGxPcvDwsLgdDphNpvdssxgMHjkPN3tQveYKIoeXeYv9/S596Zer+f9OQhOpxPvvvsusrOzPX69/O1aknR85ff22e+3bjfffDMcDgcuvfRS/O53v4NKpTrvvREbG4vKykoAGPYyd/HXdsFXX32FqKgojBs3rt9zddfvGXeck7+3O/p6bwG++/7y5zZNX+8tT56zJ9sXflPD4tprr8XMmTP7/ONwOHDvvffiiy++wPr163HFFVfgl7/8JRwOh9RhUwB655138Mknn+DDDz+EKIp49NFHpQ6JCADvzZF47LHHoNVqcdNNN0kdCpHfO/f9tm3bNvznP//BO++8g1OnTuGFF16QOMKh8efP3g8//BDXX399z8/+fK7+oK/fZb76/vL3e+3c9xbgv+fsNwmLjz76CLt27erzj1wuR1RUFGSyrtO95pprYLFYUFVVBaPRCAC9istUVlYiOjraLcsCSUxMDKqrq3sSQw6HAzU1NYiJiZE4Mml1n79KpcKNN96I/fv3IyYmBhUVFT3rNDQ0QCaTwWAwuGWZv7jQPebpZf6gr3uz+3Xen/1bvXo1iouL8cwzz0Amk3n8evnTtSRp+cJn3LnvN+CHzy6dTocbbrih38+uioqKnnWHu8wd/LVdUF1djT179mDp0qUXPNfu133hnPy53dHXe6v7nAHfe3/5c5umr/dW97kBvvv+6o/fJCwGUl1d3fPv7du3QyaTISoqCgCwaNEivPfeewCAvXv3oqOjA+PHj3fbskARHh6OzMxMbNiwAQCwYcMGZGZmelW3Uk+zWCxoaWkBAIiiiI0bNyIzMxPjx49HR0cH9u7dCwB47733sGjRIgBwyzJ/caF7zNPLfF1/9ybgnnvQX+7P//u//8PRo0fxwgsvQKVSAfD89fKXa0nS8/bPuL7eb01NTejo6AAA2O12fP755z2fXXPmzMGRI0d6ZlV47733cOWVV45omav5c7vgo48+wty5c3se5Hn694w7+Gu7o6/3FuC77y9/b9Oc+96S4pw9SRBFUfT4USXwi1/8AvX19RAEATqdDn/4wx8wadIkAEBtbS1+//vfo6KiAmq1Go888gimTJnitmWBpKCgACtXrkRzczP0ej1Wr16NlJQUqcOSTGlpKX73u9/B4XDA6XQiNTUVDz74ICIjI7F//3489NBDsFqtiIuLw1NPPYWIiAgAcMsyX/P4449j8+bNqKurg9FohMFgwKeffnrBe8zTy3xFX9dyzZo1/d6bgHvuQV+/P0+ePIklS5YgOTkZGo0GABAfH48XXnjB49fL168leQ9v/Yzr7/32y1/+EqtWrYIgCLDb7Zg8eTIeeOABBAcHAwC2bNmCp556Ck6nE5mZmfjzn/8MrVY7omWu5M/tgoULF+J//ud/cOmllw54rt54Tv7Y7ujrnJ555pl+f5cdOHDA699f/tqm6e/+A85/bwG+9/4aioBJWBARERERERGR7wiYISFERERERERE5DuYsCAiIiIiIiIir8OEBRERERERERF5HSYsiIiIiIiIiMjrMGFBRERERERERF6HCQsiksxVV12FXbt2SR0GERER+Rm2MYj8g0LqAIjIf02ePLnn3+3t7VCpVJDL5QCARx55pGc+aSIiIqKhYBuDKDAIoiiKUgdBRP4vOzsbjz/+OC6++GKpQyEiIiI/wjYGkf/ikBAikkx2djZ27NgBAHjuueewYsUK3HfffZg8eTKWLl2KwsJC/P3vf8dFF12EuXPn4ttvv+3ZtqWlBQ888ABmz56NOXPm4Omnn4bD4ZDqVIiIiMiLsI1B5B+YsCAir7F161bk5ORgz549yMzMxO233w6n04lvvvkGd911F1atWtWz7sqVK6FQKLB582asW7cO3333HdauXSth9EREROSt2MYg8k1MWBCR15g2bRrmzJkDhUKBRYsWobGxEXfccQeUSiUWL16M8vJyNDc3o66uDl9//TUeeOABaLVahIeH4xe/+AXHqxIREVGf2MYg8k0suklEXiM8PLzn3xqNBkajsaeAlkajAQBYLBbU1NTAbrdj9uzZPes7nU7ExMR4NmAiIiLyCWxjEPkmJiyIyOdER0dDpVJh586dUCj4MUZERESuwTYGkXfhkBAi8jmRkZG45JJL8Oc//xmtra1wOp0oKSnB7t27pQ6NiIiIfBjbGETehQkLIvJJTz75JGw2GxYvXozp06djxYoVqK2tlTosIiIi8nFsYxB5D0EURVHqIIiIiIiIiIiIzsYeFkRERERERETkdZiwICIiIiIiIiKvw4QFEREREREREXkdJiyIiIiIiIiIyOswYUFEREREREREXocJCyIiIiIiIiLyOkxYEBEREREREZHXYcKCiIiIiIiIiLwOExZERERERERE5HWYsCAiIiIiIiIir8OEBRERERERERF5HSYsiIiIiIiIiMjrMGFBRERERERERF6HCQsiIiIiIiIi8jpMWBARERERERGR12HCgoj8xsqVK/H0009LHQYRERERsrOzsWPHDqnDIPJpCqkDICL/lJ2djbq6Osjl8p7XNm3ahKioKAmjIiIiIm+SnZ2N9vZ2fPnll9BqtQCAtWvX4pNPPsE///nPAbe/+eabcfXVV+OGG27oc3lZWRnmz5/fs28ASEhIwCeffOKaEyAit2LCgojcZs2aNbj44ov7XGa326FQ8COIiIgo0DmdTrz11lv41a9+5bZj7Nmz54LtDrZLiLwTh4QQkcdkZGTgnXfewRVXXIErrrgCAPD4449j7ty5mDJlCq677jrs3bu3Z/1zh3js2rULl156ac/Px48fx7XXXovJkyfjnnvugdVq9dzJEBERkUvcfvvteO2119Dc3Nzn8v379+P666/H1KlTcf3112P//v0AgKeffhp79+7Fo48+ismTJ+PRRx8d9DG72xQvv/wyLrnkEtx///1oamrCnXfeiVmzZmH69Om48847UVVV1bPNuUM8nnvuOdx33309P69btw6XXXYZZs6ciZdeemmol4GI+sCEBRF51JYtW/DBBx9g48aNAICsrCysW7cOu3fvxpIlS3D33XcPKvHQ2dmJu+66Czk5Odi9ezcWLVqEzZs3uzt8IiIicrHx48djxowZePXVV89bZjabceedd+Lmm2/Grl27cOutt+LOO+9EY2Mj7r33XkybNg2rVq3CgQMHsGrVqiEdt66uDk1NTdi6dSsee+wxOJ1OXHfdddi6dSu2bt0KtVo96CTIqVOn8Mgjj+DJJ5/E9u3bYTabeyU7iGh4mLAgIre56667MG3aNEybNg2/+c1vAAB33HEHDAYDNBoNACAnJwdGoxEKhQK33XYbOjs7UVhYOOC+Dx06BJvNhltuuQVKpRKLFi1CVlaWW8+HiIiI3GPFihV4++230dDQ0Ov1bdu2ISkpCddccw0UCgWWLFmClJQUbN26dUj7nzVrVk+bpDsxIpPJsGLFCqhUKmg0GhiNRixcuBBBQUHQ6XT49a9/jT179gxq/5s2bcK8efMwffp0qFQq3H333ZDJ+FWLaKQ4UIuI3OaFF17oVcMiIyMDMTExvdZ59dVX8e9//xs1NTUQBAGtra1obGwccN81NTWIioqCIAg9r8XGxroueCIiIvKY9PR0zJs3Dy+//DJSU1N7Xq+pqTnv93tsbCyqq6uHtP+dO3f2qlGxa9cuGI1GqNXqntfa29vxpz/9Cdu3b0dTUxMAoK2tDQ6Ho1cR8b7U1NQgOjq652etVguDwTCkGInofEz7EZFHnZ1g2Lt3L/7xj3/gmWeewZ49e7B3716EhIRAFEUAQFBQEDo6OnrWr6ur6/m3yWRCdXV1z7oAUFFR4YEzICIiIndYsWIFPvjgg17JiMjIyPN+v1dWVrpk1rGz2yQA8Nprr6GwsBAffPAB9u/fj3feeQcAerVL2tvbe9avra3tFefZQ0Da29thNptHHCNRoGPCgogk09bWBrlcjrCwMNjtdjz//PNobW3tWZ6ZmYmvv/4aZrMZtbW1ePPNN3uWTZo0CQqFAm+99RZsNhs2b96MI0eOSHEaRERE5AJJSUlYvHhxr+lM586di6KiIqxfvx52ux0bN27EqVOnMG/ePABAREQESktLXXL8trY2qNVq6PV6mM1mPP/8872WjxkzBhs3boTNZsORI0fw+eef9yxbuHAhtm3bhr1796KzsxPPPvssnE6nS+IiCmRMWBCRZGbPno05c+Zg4cKFyM7Ohlqt7jVkJCcnB2PGjEF2djZuu+02LF68uGeZSqXCc889h48++ggzZszAxo0bsWDBAilOg4iIiFzkrrvugsVi6fnZaDRizZo1eP311zFz5kz84x//wJo1axAWFgYA+PnPf47PP/8c06dPx+OPPz6iY99yyy2wWq2YNWsWli1bhjlz5vRafs8996CkpAQzZszAc889h6VLl/YsS0tLw6pVq3Dfffdhzpw50Ov1vYaIENHwCOLZ/amJiIiIiIiIiLwAe1gQERERERERkddhwoKIiIiIiIiIvA4TFkRERERERETkdZiwICIiIiIiIiKvw4QFEREREREREXkdhdQBeIvGxjY4nf47YUp4uA719a1Sh+HTeA1HjtfQNXgdR47XcGhkMgFGY7DUYfgsd7QxeA+PHK/hyPEajhyv4cjw+o2c1NdwoDYGExZnOJ2iXycsAPj9+XkCr+HI8Rq6Bq/jyPEakqe4q43Be3jkeA1Hjtdw5HgNR4bXb+S8+RpySAgREREREREReR0mLIiIiIiIiIjI6zBhQURERERERERehwkLIiIiIiIiIvI6TFgQERERERERkddhwoKIiIiIiIiIvA4TFkREREQ+psNqh6XDLnUYREREbuWxhEVhYSGWLVuGhQsXYtmyZSgqKjpvHYfDgUceeQSXX345FixYgLVr1w5q2R/+8Afk5OT0/BkzZgy+/PJLT5wWERERkce9vO4IXvjoiNRhEBERuZXCUwd66KGHcOONNyInJwcff/wxVq1ahbfeeqvXOuvXr0dJSQn+f3v3HhdXeecP/HPOGYY7IUMGGAK5ocZpQjQaL6iJ1RBAAw7rLsWmcd11Q9Y2a17abivr+kuCl7akW3fVTbqvzW7j5qet/qhtMIgsRWtN1KjxgheSGBMISRgGwmQChHA75/z+gJkwknCb+5nP+/XyFWaeM2ee8zgvzsN3vs/3qaurg8PhQFFREbKzs5Genj5u29atW13nOHToEO677z4sX77cX5cWErp7B3Cu37NvYiIjdNAxJ4eIiCjgzvYMoOvcQKC7QURE5FN+CVh0dnaisbERO3fuBAAUFBTgiSeegN1uh8FgcB1XU1OD4uJiiKIIg8GAnJwc1NbWYt26deO2jfa73/0OhYWF0Ov1/ri0kHG+bwgfHrR5dI7rzCnQRfotxkVERESXoKgqFFUNdDeIiIh8yi9/fVqtVqSkpECSJACAJElITk6G1Wp1C1hYrVakpaW5HptMJrS1tU3Y5jQwMIA9e/bg+eefn3Ifk5LipvyaUNJu70V8XJRH54iJiYTREOOlHoUmozE+0F0IeRxD7+A4eo5jSKFMUVQoCgMWRESkbZr6ury+vh5paWkwm81Tfm1nZ4+2b/yShO6ePo9O0dvbjw5Z9lKHQo/RGI+Oju5AdyOkcQy9g+PoOY7h1IiioPnAfqhRVBWyluctRERE8FPRTZPJBJvNBnnkj11ZltHe3g6TyTTmuNbWVtdjq9WK1NTUCducXnnlFfzlX/6lry6DiIiIKCgoigqVS0KIiEjj/BKwSEpKgtlsRnV1NQCguroaZrPZbTkIAOTn56OyshKKosBut6O+vh55eXkTtgFAW1sbPvroIxQWFvrjkoiIiIgCZriGRaB7QURE5Ft+WxKyZcsWlJWVYfv27UhISEBFRQUAoLS0FBs3bkRWVhYsFgsaGhqQm5sLANiwYQMyMjIAYNw2APjDH/6A2267DTNmzPDXJREREREFhKpC20tZiYiI4MeARWZmJiorK8c8v2PHDtfPkiShvLz8oq8frw0Avv/973veSSIiIqIQoCjcJYSIiLTPL0tCiIiIiMh7uEsIERGFAwYsiIiIKOg1NTWhpKQEeXl5KCkpQXNz85hjZFlGeXk5cnJysGrVKrfMzvHaXnnlFRQWFsJisaCwsBC7du2a1OsCabiGBQMWRESkbZra1pSIiIi0afPmzVizZg0sFguqqqqwadMmt8ACAOzZswctLS2oq6uDw+FAUVERsrOzkZ6ePm5bXl4e7r77bgiCgJ6eHhQWFuL666/HlVdeOe7rAklRVShKQLtARETkc8ywICIioqDW2dmJxsZGFBQUAAAKCgrQ2NgIu93udlxNTQ2Ki4shiiIMBgNycnJQW1s7YVtcXBwEQQAA9PX1YXBw0PV4vNcFEmtYEBFROGDAgoiIiIKa1WpFSkoKJEkCMFyIOzk5GVardcxxaWlprscmkwltbW0TtgHAG2+8gdWrV+O2227DunXrsHDhwkm9LlC4SwgREYUDLgkhIiKisLdy5UqsXLkSra2t2LBhA1asWIEFCxZ45dxJSXFeOc9osqJCVVUYjfFeP3c44fh5jmPoOY6hZzh+ngvmMWTAgoiIiIKayWSCzWaDLMuQJAmyLKO9vR0mk2nMca2trViyZAkA9+yI8dpGS0tLQ1ZWFt566y0sWLBg0q8bT2dnj9ezIYaXhADt7V2u5Ss0NUZjPDo6ugPdjZDGMfQcx9AzHD/PBXoMRVEYN7DPJSFEREQU1JKSkmA2m1FdXQ0AqK6uhtlshsFgcDsuPz8flZWVUBQFdrsd9fX1yMvLm7Dt6NGjrnPY7Xa8//77uOKKKyZ8XSCpI/UrWMeCiIi0jBkWREREFPS2bNmCsrIybN++HQkJCaioqAAAlJaWYuPGjcjKyoLFYkFDQwNyc3MBABs2bEBGRgYAjNv28ssv45133oFOp4Oqqli7di1uueWWCV8XSM5AhaIAEr9+IiIijRJUlaF5wDfpmsFElST8+aMWj85xnTkFsZHhG+MKdLqUFnAMvYPj6DmO4dRMlK5J4/PFHKPsP/ej3d6LX/3oVkRGSF49d7jg7wHPcQw9xzH0DMfPc4EeQy4JISIiItIYZwBEy1+2EBERMWBBREREFGJcAQsmyhIRkYYxYEFEREQUYlxFN5lhQUREGsaABREREVGIcRXdZLyCiIg0jAELIiIiohDDGhZERBQOGLAgIiIiCjHOOAU3eyMiIi1jwIKIiIgoxDDDgoiIwgEDFkREREQhxlnDQmaGBRERaRgDFkREREQhRmWGBRERhQEGLIiIiIhCDHcJISKicOC3gEVTUxNKSkqQl5eHkpISNDc3jzlGlmWUl5cjJycHq1atQmVl5aTaAKCmpgaFhYUoKChAYWEhTp8+7etLIiIiIgoIZ2aFyogFERFpmM5fb7R582asWbMGFosFVVVV2LRpE3bt2uV2zJ49e9DS0oK6ujo4HA4UFRUhOzsb6enp47Z9/vnn+Pd//3f8z//8D4xGI7q7u6HX6/11aURERER+5YxTKKxhQUREGuaXDIvOzk40NjaioKAAAFBQUIDGxkbY7Xa342pqalBcXAxRFGEwGJCTk4Pa2toJ255//nncf//9MBqNAID4+HhERkb649KIiIiI/Gp0kEJmhgUREWmYXzIsrFYrUlJSIEkSAECSJCQnJ8NqtcJgMLgdl5aW5npsMpnQ1tY2YdvRo0eRnp6O733ve+jt7cWqVavw/e9/H4IgTLqPSUlxHl1jsGu39yI+Lsqjc8TERMJoiPFSj0KT0Rgf6C6EPI6hd3AcPccxpFA1utAmMyyIiEjL/LYkxJdkWcbhw4exc+dODAwMYN26dUhLS0NRUdGkz9HZ2aPtStuShO6ePo9O0dvbjw5Z9lKHQo/RGI+Oju5AdyOkcQy9g+PoOY7h1IiioPnAfigZHaNQlcD1g4iIyNf8siTEZDLBZrNBHvljV5ZltLe3w2QyjTmutbXV9dhqtSI1NXXCtrS0NOTn50Ov1yMuLg4rV67EZ5995uvLIiIiIvK70VkVzLAgIiIt80vAIikpCWazGdXV1QCA6upqmM1mt+UgAJCfn4/KykooigK73Y76+nrk5eVN2FZQUIB9+/ZBVVUMDg5i//79uPLKK/1xaURERER+5bYkRMvZoUREFPb8tiRky5YtKCsrw/bt25GQkICKigoAQGlpKTZu3IisrCxYLBY0NDQgNzcXALBhwwZkZGQAwLhtq1evxhdffIE777wToijilltuwV/91V/569KIiIiI/GZ0UoXMDAsiItIwQVV5pwO0X8NClST8+aMWj85xnTkFsZGaKHsyLVzz7jmOoXdwHD3HMZwa1rDwjLfnGD3nB7Hxmb0AgB9+5yosXpDktXOHE/4e8BzH0HMcQ89w/DwX6DGcaI7hlyUhREREROQdrGFBREThggELIiIiohAyOkahcJcQIiLSMAYsiIiIiEKIW9FNZlgQEZGGMWBBREREFEJGlx/Tcv0tIiKi8K2gSERERCGjqakJZWVlcDgcSExMREVFBebNm+d2jCzLePLJJ7F3714IgoD169ejuLh4wrZt27ahpqYGoigiIiICDz/8MJYvXw4AKCsrw7vvvouZM2cCGN5m/fvf/77/LvwiWMOCiIjCBQMWREREFPQ2b96MNWvWwGKxoKqqCps2bcKuXbvcjtmzZw9aWlpQV1cHh8OBoqIiZGdnIz09fdy2JUuW4P7770d0dDQOHTqEtWvXYt++fYiKigIArF+/HmvXrg3EZV+U4lbDggELIiLSLi4JISIioqDW2dmJxsZGFBQUAAAKCgrQ2NgIu93udlxNTQ2Ki4shiiIMBgNycnJQW1s7Ydvy5csRHR0NAFi4cCFUVYXD4fDfBU6RygwLIiIKEwxYEBERUVCzWq1ISUmBJEkAAEmSkJycDKvVOua4tLQ012OTyYS2trYJ20bbvXs35syZg9TUVNdzO3fuRGFhIX7wgx/g6NGjXr226XArusldQoiISMO4JISIiIgIwAcffIBnnnkGv/71r13PPfzwwzAajRBFEbt378a6detQX1/vCp5MRlJSnFf7eV6+ELCIjYuE0Rjv1fOHE46d5ziGnuMYeobj57lgHkMGLIiIiCiomUwm2Gw2yLIMSZIgyzLa29thMpnGHNfa2oolS5YAcM+qGK8NAD755BP8+Mc/xvbt27FgwQLX8ykpKa6fi4qK8LOf/QxtbW2YPXv2pPvf2dnj1VoTnfZzrp/Pnj2Pjo5ur507nBiN8Rw7D3EMPccx9AzHz3OBHkNRFMYN7HNJCBEREQW1pKQkmM1mVFdXAwCqq6thNpthMBjcjsvPz0dlZSUURYHdbkd9fT3y8vImbPvss8/w8MMP49lnn8WiRYvczmmz2Vw/7927F6IougUxAsFtSQhrWBARkYYxw4KIiIiC3pYtW1BWVobt27cjISEBFRUVAIDS0lJs3LgRWVlZsFgsaGhoQG5uLgBgw4YNyMjIAIBx28rLy9HX14dNmza53m/r1q1YuHAhHnnkEXR2dkIQBMTFxeFXv/oVdLrATp9U7hJCRERhggELIiIiCnqZmZmorKwc8/yOHTtcP0uShPLy8ou+fry2V1555ZLv+/zzz0+to36guO0SEsCOEBER+RiXhBARERGFELeABSMWRESkYQxYEBEREYUQddRWpiprWBARkYYxYEFEREQUQkZnWMjMsCAiIg1jwIKIiIgohKgqdwkhIqLwwIAFERERUQhx29aUGRZERKRhDFgQERERhRBl9M+MVxARkYYxYEFEREQUQtRRUQoW3SQiIi3zW8CiqakJJSUlyMvLQ0lJCZqbm8ccI8syysvLkZOTg1WrVrnttz5e23PPPYfs7GxYLBZYLJZL7rNOREREFOpYdJOIiMKFzl9vtHnzZqxZswYWiwVVVVXYtGkTdu3a5XbMnj170NLSgrq6OjgcDhQVFSE7Oxvp6enjtgFAUVERHnnkEX9dDhEREVFAjI5RsIYFERFpmV8yLDo7O9HY2IiCggIAQEFBARobG2G3292Oq6mpQXFxMURRhMFgQE5ODmpraydsIyIiIgoXo5eEcJcQIiLSMr9kWFitVqSkpECSJACAJElITk6G1WqFwWBwOy4tLc312GQyoa2tbcI2AHjttdewb98+GI1GPPjgg1i6dOmU+piUFDetawsV7fZexMdFeXSOmJhIGA0xXupRaDIa4wPdhZDHMfQOjqPnOIYUqkYnVajKpY8jIiIKdX5bEuJL99xzDx544AFERETgnXfewQ9+8APU1NRg5syZkz5HZ2ePttMqJQndPX0enaK3tx8dsuylDoUeozEeHR3dge5GSOMYegfH0XMcw6kRRUHzgf1QMrrQJjMsiIhIy/yyJMRkMsFms0Ee+WNXlmW0t7fDZDKNOa61tdX12Gq1IjU1dcI2o9GIiIgIAMDNN98Mk8mEI0eO+PSaiIiIiAKBRTeJiChc+CVgkZSUBLPZjOrqagBAdXU1zGaz23IQAMjPz0dlZSUURYHdbkd9fT3y8vImbLPZbK5zHDx4EKdOncL8+fP9cWlEREREfqUww4KIiMKE35aEbNmyBWVlZdi+fTsSEhJQUVEBACgtLcXGjRuRlZUFi8WChoYG5ObmAgA2bNiAjIwMABi37emnn8aXX34JURQRERGBrVu3wmg0+uvSiIiIiPxmdN0KlRkWRESkYX4LWGRmZqKysnLM8zt27HD9LEkSysvLL/r68dqcwQ8iIiIirWOGBRERhQu/LAkhIiIiIu9wBil0kgAmWBARkZYxYEFEREQUQpxJFZIkanuHMyIiCnsMWBARERGFEGeQQicKDFgQEZGmMWBBREREFELUkRQLSRJZw4KIiDSNAQsiIiKiEOJMqoiQmGFBRETaxoAFERERUQhxBikkUWTRTSIi0jQGLIiIiIhCyIUlIQKXhBARkaYxYEFERERBr6mpCSUlJcjLy0NJSQmam5vHHCPLMsrLy5GTk4NVq1ahsrJyUm3btm3D6tWrUVhYiLvvvht79+51tZ0/fx4PPfQQVq1ahfz8fPzpT3/y6XVOhjOrQsddQoiISON0ge4AERER0UQ2b96MNWvWwGKxoKqqCps2bcKuXbvcjtmzZw9aWlpQV1cHh8OBoqIiZGdnIz09fdy2JUuW4P7770d0dDQOHTqEtWvXYt++fYiKisJ///d/Iy4uDn/84x/R3NyM733ve6irq0NsbGyARgKurAoda1gQEZHGMcOCiIiIglpnZycaGxtRUFAAACgoKEBjYyPsdrvbcTU1NSguLoYoijAYDMjJyUFtbe2EbcuXL0d0dDQAYOHChVBVFQ6HAwDw+uuvo6SkBAAwb948LF68GG+//bY/LvuSuEsIERGFCwYsiIiIKKhZrVakpKRAkiQAgCRJSE5OhtVqHXNcWlqa67HJZEJbW9uEbaPt3r0bc+bMQWpqKgCgtbUVs2fPnvB1/uTMqtCJrGFBRETaxiUhRERERAA++OADPPPMM/j1r3/t1fMmJcV59XzR0frhf6MioPQNwmiM9+r5wwnHznMcQ89xDD3D8fNcMI/hpAMW9fX1+Pa3vw2djjEOIiIimhpP5hEmkwk2mw2yLEOSJMiyjPb2dphMpjHHtba2YsmSJQDcsyrGawOATz75BD/+8Y+xfft2LFiwwPV8WloaTp06BYPB4HrdDTfcMKX+d3b2eLXWRM+5fgCALCvoH5DR0dHttXOHE6MxnmPnIY6h5ziGnuH4eS7QYyiKwriB/UkvCXn22Wdxyy234PHHH0dDQ4NXOkdEREThwZN5RFJSEsxmM6qrqwEA1dXVMJvNriCCU35+PiorK6EoCux2O+rr65GXlzdh22effYaHH34Yzz77LBYtWjTmnC+//DIAoLm5GZ9//jmWL18+rTHwFkVVIYoCRIFFN4mISNsm/TXHq6++ikOHDqGqqgoPPvggoqOjYbFYcNdddyE9Pd2XfSQiIqIQ5+k8YsuWLSgrK8P27duRkJCAiooKAEBpaSk2btyIrKwsWCwWNDQ0IDc3FwCwYcMGZGRkAMC4beXl5ejr68OmTZtc77d161YsXLgQf/d3f4eysjKsWrUKoiji8ccfR1ycd5d4TJWiAKIw/K0Ua1gQEZGWCao69Tudqqp477338POf/xxHjhzBNddcg5KSEhQUFEAUQ7OOp7fTNYONKkn480ctHp3jOnMKYiPDd0lQoNOltIBj6B0cR89xDKdmonTNqdLiPGI83p5jVP7pa7zx0UksyUzCqdPn8FTpjV47dzjh7wHPcQw9xzH0DMfPc4Eew4nmGFP+67OlpQWvvvoqXn31VQiCgI0bN8JkMuHFF19EXV0d/v3f/92jDhMREZF2cR7hOdeSEFGAhr9rISIimnzA4sUXX0RVVRWOHz+OO+64A1u3bsXVV1/tas/Ly8NNN93kiz4SERFRiOM8wntUFRCE4RoWKiMWRESkYZMOWLz99tv427/9W6xcuRJ6vX5Me3R0NJ577jmvdo6IiIi0gfMI71GUCxkWMgMWRESkYZNeKHr99dfjjjvuGDPJ2Llzp+vnW265xXs9IyIiIs3gPMJ7FFWFOJJhwaKbRESkZZMOWGzbtu2iz//qV7+a1OubmppQUlKCvLw8lJSUoLm5ecwxsiyjvLwcOTk5WLVqFSorKyfV5nTs2DFcddVVrsrhREREFBw8nUfQBaoKiOLwfwxYEBGRlk24JOS9994DMBww2L9/P0ZvKnLy5EnExsZO6o02b96MNWvWwGKxoKqqCps2bcKuXbvcjtmzZw9aWlpQV1cHh8OBoqIiZGdnIz09fdw2Z/82b96MnJycSV88ERER+Za35hF0wegMC9awICIiLZswYPHP//zPAICBgQE8+uijrucFQYDRaMRjjz024Zt0dnaisbHRlfZZUFCAJ554Ana7HQaDwXVcTU0NiouLIYoiDAYDcnJyUFtbi3Xr1o3bBgD/+Z//iW9/+9vo7e1Fb2/v1EaBiIiIfMIb8why56xhIXCXECIi0rgJAxZvvvkmAOAnP/kJtm7dOq03sVqtSElJgSRJAABJkpCcnAyr1eoWsLBarUhLS3M9NplMaGtrm7Dt0KFD2LdvH3bt2oXt27dPq4/e3F8+GLXbexEfF+XROWJiImE0xHipR6HJaIwPdBdCHsfQOziOnuMY+oc35hHkzrlLiCSw6CYREWnbpHcJCdZJxuDgIP7P//k/+NnPfuYKiExHZ2cPFC3f9CUJ3T19Hp2it7cfHbLspQ6FHqMxHh0d3YHuRkjjGHoHx9FzHMOpEUXB48B+sM4jQpGiXtglhDUsiIhIy8YNWNxxxx14/fXXAQC33norBEG46HFvvfXWuG9iMplgs9kgyzIkSYIsy2hvb4fJZBpzXGtrK5YsWQLAPaviUm0dHR1oaWnB+vXrAQBdXV1QVRU9PT144oknJrh8IiIi8hVvzSPInaKqkFjDgoiIwsC4AYvRf/D/4he/mPabJCUlwWw2o7q6GhaLBdXV1TCbzW7LQQAgPz8flZWVyM3NhcPhQH19PV588cVx29LS0vD++++7zvHcc8+ht7cXjzzyyLT7S0RERJ7z1jyC3A0vCQEE7hJCREQaN27AYtmyZa6fr7/+eo/eaMuWLSgrK8P27duRkJDg2nq0tLQUGzduRFZWFiwWCxoaGpCbmwsA2LBhAzIyMgBg3DYiIiIKPt6cR9AFzqKboiBAUQLdGyIiIt+ZdA2LnTt34sYbb4TZbMann36Khx56CKIo4pe//CWWLl064eszMzNRWVk55vkdO3a4fpYkCeXl5Rd9/Xhtoz344IMTHhOuzvcPocnahRO2HpiSYpCVmXTJ9FwiIiJv8nQeQRc4a1hIIzUsVFXl/ZyIiDRJnOyBzz//PNLT0wEAv/zlL/E3f/M3+P73v4+f/vSnPuscec9px3ns3tuEA4c6cK5vCJ9+3Ym3G6wYkvnVDBER+R7nEd6jqoA4UsPC+ZiIiEiLJp1h0d3djfj4ePT09ODw4cN4/vnnIUmSa2kHBS9VVfHi/x6CqqpYfdNcGOIj0dh8Bh8d7oAgACuuSpv4JERERB7gPMJ7FEWFKAgQxOGAhaKqEMEMCyIi0p5JByxMJhM+/vhjfP3111i2bBkkSUJPT49HW4mSf3z81Wl89vVpXLvQiKSEKADAovkGDAzK+PyYHYvn98Ew8jwREZEvcB7hPYqqQhCBkXjF8LbsHEYiItKgSQcsfvKTn2Djxo3Q6/V49tlnAQB/+tOfkJWV5bPOkef6B2X8pv4rpCfHwTx3plvbovkGHG5x4NOvO3H7NbMD1EMiIgoHnEd4j2tJyKgMCyIiIi2adMDi1ltvxb59+9yey8/PR35+vtc7Rd7zyVcdONPdj/sLF6HDfs6tTR8h4VvzDfj0yGmcdpzHrMToAPWSiIi0jvMI73EV3RypYcGdQoiISKsmHbAAhtefNjU14dw59z98s7Ozvdop8p79jTYYEiJx5TzDmIAFAJjnzsTB5jP47Ggnbr82PQA9JCKicMF5hHdcrIYFERGRFk06YPH73/8ejz/+OGJiYhAVdaHegSAIeOONN3zSOfJM17kBfHHMjrwbMlyVxL8pQifi8vQZ+LLZjr6BIUTppxTDIiIimhTOI7xHVVVIkui6tysKAxZERKRNk/7r9F//9V/xzDPP4NZbb/Vlf8iLPjhog6KqyF6UOu5x89MS8EWTHc1t3bhyzsxxjyUiIpoOziO8R1GBCNawICKiMCBO9kBZlnHLLbf4si/kZfsbbchIjkO6MW7c42bGRyIxTo+m1m4/9YyIiMIN5xHeo6oqBOEbu4QQERFp0KQDFqWlpfjVr34FhZWdQkL7mV4ca+2aMLvCab4pAR2O8+jpHfRxz4iIKBxxHuE9zqKbzLAgIiKtm/SSkOeffx6nT5/Gf/3XfyExMdGt7a233vJyt8hTnx+zAwCuWWic1PHzTPH45MhpNLV1IWtBki+7RkREYYjzCO9RFAwHLJw1LBivICIijZp0wOIXv/iFL/tBXtbYbMesGVFInuRWpfExehgTo9Bs7WbAgoiIvM7TeURTUxPKysrgcDiQmJiIiooKzJs3z+0YWZbx5JNPYu/evRAEAevXr0dxcfGEbfv27cPTTz+Nr776Cvfeey8eeeQR1zmfe+45/OY3v0FycjIA4JprrsHmzZs9uhZPqerwLiGuDAtGLIiISKMmHbC4/vrrfdkP8iJZUXCoxYHrrpxcdoVTRko8Pj7cgXN9g4iNivBR74iIKBx5Oo/YvHkz1qxZA4vFgqqqKmzatAm7du1yO2bPnj1oaWlBXV0dHA4HioqKkJ2djfT09HHbMjIy8NRTT6G2thYDAwNj3ruoqMgtiBFoijNgwV1CiIhI4yZdw2JgYAD/+q//ipUrV+Laa68FMPyNxAsvvOCzztH0HG/rwfn+IZjnGqb0utmzYgEArR3nfNEtIiIKY57MIzo7O9HY2IiCggIAQEFBARobG2G3292Oq6mpQXFxMURRhMFgQE5ODmpraydsmzt3LsxmM3S60Njae3hJCFjDgoiING/Sd+af/vSnsNls+Jd/+ReUlpYCAC6//HL87Gc/w9q1a33WQZq6g8eHJ3DmuVPbojQxTo+YKB1OnT6HyzMSfdAzIiIKV57MI6xWK1JSUiBJEgBAkiQkJyfDarXCYDC4HZeWluZ6bDKZ0NbWNmHbRF577TXs27cPRqMRDz74IJYuXTq5ix6RlDT+bl1TJUkCBEHAzJFln4mJMTAa4736HuGC4+Y5jqHnOIae4fh5LpjHcNIBi/r6etTV1SEmJgaiOJyYkZKSApvN5rPO0fQ0Np9BujEOCbH6Kb1OEASkzYrF8bZuKIrq+uaGiIjIU6E6j7jnnnvwwAMPICIiAu+88w5+8IMfoKamBjNnTv5Lgc7OHq8u2xgYlCGKArq7+0bOfw5xEZNOmqURRmM8Ojq4pbsnOIae4xh6huPnuUCPoSgK4wb2J313i4iIgCzLbs/Z7fYxlb4psAYGZRw5eRbfmje17Aqn2bNiMTikoMNx3ss9IyKicObJPMJkMsFms7leL8sy2tvbYTKZxhzX2trqemy1WpGamjph23iMRiMiIobrOt18880wmUw4cuTIhK/zJUUFpFE1LGTWsCAiIo2adMAiPz8fjzzyCE6cOAEAaG9vx+OPP47Vq1f7rHM0dUdPncWQrEw7YGGaFQNBAE6xjgUREXmRJ/OIpKQkmM1mVFdXAwCqq6thNpvdloM436OyshKKosBut6O+vh55eXkTto1ndAbIwYMHcerUKcyfP3/S1+0LqqpCGL1LCGtYEBGRRk06YPHwww8jIyMDd911F7q6upCXlwej0YgNGzb4sn80RUdOnYUA4LLZidN6vV4nITkxGqdOM2BBRETe4+k8YsuWLXjhhReQl5eHF154AeXl5QCA0tJSfP755wAAi8WC9PR05Obm4jvf+Q42bNiAjIyMCdsOHDiAFStWYOfOnXjppZewYsUK7N27FwDw9NNPo6CgAHfddRcee+wxbN26FUbj1Hbh8rbhZZvgLiFERKR5k65h0dLSgvnz5+Pv//7vIcsycnJysHDhQl/2jabhWGsX0mbFIiZq+pXO02bF4pMjp9E3MIQofWhUTCciouDm6TwiMzMTlZWVY57fsWOH62dJklyBjG8ar23ZsmV4++23L9pWUVEx6T76yzczLFRmWBARkUZN+Neoqqp49NFHsXv3bqSmpiI5ORk2mw3btm2DxWLBT3/6UwjCxMUZm5qaUFZWBofDgcTERFRUVGDevHlux8iyjCeffBJ79+6FIAhYv349iouLJ2x75ZVX8Pzzz0MURSiKguLiYvz1X//1NIYjtKmqiqOnzuKaKzz75ifFEAMAsNnPY25q8FaMJSKi4OeteQRdoKiAJApw1sZmhgUREWnVhAGLl19+GR988AFefvllLFmyxPX8Z599hh/96Ed46aWX8N3vfnfCN9q8eTPWrFkDi8WCqqoqbNq0Cbt27XI7Zs+ePWhpaUFdXR0cDgeKioqQnZ2N9PT0cdvy8vJw9913QxAE9PT0oLCwENdffz2uvPLKaQxJ6Go/cx7n+oaQOXuGR+dJmhEFnSTAZu9lwIKIiDzirXkEXaCowzt5OTMsZGZYEBGRRk1Yw6KqqgqPPfaY2yQDAJYsWYJHH30UVVVVE75JZ2cnGhsbUVBQAAAoKChAY2Mj7Ha723E1NTUoLi6GKIowGAzIyclBbW3thG1xcXGub2f6+vowODgYlt/WHG09CwBYkJbg0XkkUYAxMRpt9l5vdIuIiMKYN+YR5E5VRpaEuGpYBLhDREREPjJhhsXRo0dx3XXXXbTtuuuuw09+8pMJ38RqtSIlJQWSJAEYXkeanJwMq9XqVuHbarUiLS3N9dhkMqGtrW3CNgB444038PTTT6OlpQU/+tGPplxfY7y9X0NFq/0YoiN1WHJlKiTRPWDTbu9FfFzUpM81JzUB73/ZBl2EDtGRwx+TmJhIGEeWi4Qro5EZJ57iGHoHx9FzHEP/8MY8gtwpKiAK4C4hRESkeRMGLGRZRlzcxf+Yj4uLgxIkYf2VK1di5cqVaG1txYYNG7BixQosWLBg0q/v7OwJ+TWgXx7txLzUeNg7e8Y2ShK6e/omfa6ZccN7zh87eQZzUoYn9b29/eiQZa/0NRQZjfHo6OgOdDdCGsfQOziOnuMYTo0oCtMO7IfKPCKUqM4lISMZFmqIz1+IiIguZcKAxdDQEPbv33/JCtTyJP6ANZlMsNlskGUZkiRBlmW0t7fDZDKNOa61tdWVNjo6q2K8ttHS0tKQlZWFt956a0oBi1DXPyjjRHsP7sye45XzJc2IhiQKaLP3ugIWREREU+WNeQS5U1QV4qhdQphhQUREWjVhwCIpKQmPPvroJdtHL+kY7xxmsxnV1dWwWCyorq6G2Wwe89r8/HxUVlYiNzcXDocD9fX1ePHFFydsO3r0KDIzMwEAdrsd77//PnJzcyfsl5Ycb+uGoqpYkOZZwU0nSRRgnBkNm/28V85HREThyRvzCHKnqBjJsLjwmIiISIsmDFi8+eabXnmjLVu2oKysDNu3b0dCQoJrX/PS0lJs3LgRWVlZsFgsaGhocAUbNmzYgIyMDAAYt+3ll1/GO++8A51OB1VVsXbtWtxyyy1e6XeoONbaBQBYYPKs4OZoqYYYfHrkNPoHZETqJa+dl4iIwoe35hF0gaq4Z1jIXFZDREQaNWHAwlsyMzNRWVk55vkdO3a4fpYkCeXl5Rd9/Xht431zEy6O27phSIhEQqzea+dMMUQDAGxnuCyEiIgoWCiqCkHAqBoWAe4QERGRj0y4rSmFhuNt3Zjr5aDCrBlRkESBy0KIiIiCiDqyJERgDQsiItI4Biw0oG9gCDZ7r9cDFpIowpgYjTZ7r1fPS0RERNOnKMO7hEgjGRahvssZERHRpTBgoQEn2nugApiT6v1lG6mGaJzp7kf/AKu4ExERBZqqqlAB7hJCRERhgQELDTje1g0AXs+wAIAUQwyA4ToWREREFFjO2ITbLiHMsCAiIo1iwEIDjtu6kRCrR2Kc9wpuOs1KZB0LIiKiYOHMphAEjKphEcgeERER+Q4DFhpwvK0Hc1PiIYysZfUmZx0LZlgQEREFnjoSsBAFwbVLCDMsiIhIqxiwCHGDQzJaT5/DnJQ4n71HiiEa9q5+9PYN+uw9iIiIaGLKyBamkihAYg0LIiLSOAYsQtzJjnNQVNUn9SucUkfqWBw91eWz9yAiIqKJXVgSMirDggELIiLSKAYsQpyr4KYPdghxmjVjuI7FkZMOn70HERERTcy1JEQUII7M4rgkhIiItIoBixB33NaNmEgdZs2I8tl7SNJwHYsjJ8/67D2IiIhoYs7YhCgIrtpVDFgQEZFWMWAR4lps3Zib6puCm6OlGKJxqr0HPedZx4KIiChQnMEJURjOsgC4SwgREWkXAxYhbEhWcKL9nE/rVzilGmKgAjhywuHz9yIiIqKLc1sSIggQwAwLIiLSLgYsQpi1sxdDsoI5qb7bIcRpVmIUIiQRh1ocPn8vIiIiujjXkpCR7ApRFFh0k4iINIsBixDmKrjphwwLSRQxPy0Bh1vO+Py9iIiI6OKc2RTOpaCCwIAFERFpFwMWIey4rRuRERJSRrYd9bXL02fgBOtYEBFRADQ1NaGkpAR5eXkoKSlBc3PzmGNkWUZ5eTlycnKwatUqVFZWTqpt3759uPvuu7F48WJUVFRM+pyB4FoSIjgzLLgkhIiItEsX6A7Q9B23dSMjJc41afG1y9IToeI4jpxwYOkVRr+8JxEREQBs3rwZa9asgcViQVVVFTZt2oRdu3a5HbNnzx60tLSgrq4ODocDRUVFyM7ORnp6+rhtGRkZeOqpp1BbW4uBgYFJnzMQlFE1LIDhwIWiBKQrREREPscMixClKCpO2Hr8shzEaW5qPCJ0Ig5yWQgREflRZ2cnGhsbUVBQAAAoKChAY2Mj7Ha723E1NTUoLi6GKIowGAzIyclBbW3thG1z586F2WyGTjf2e5zxXhcIF7Y1Hf5XYg0LIiLSMGZYhCjbmV70D8p+DVhE6ERcNnsGDrPwJhER+ZHVakVKSgokSQIASJKE5ORkWK1WGAwGt+PS0tJcj00mE9ra2iZsm+i9p/O60ZKSvFccu28km0IUBRiN8ZAkEZGROhiN/psPaAnHzXMcQ89xDD3D8fNcMI8hAxYhylVwM9W/H64r5yRi994m9JwfRFx0hF/fm4iIKBR1dvZ4rc5EZ2cPgOGARUfH8Fygt3fA9TNNntEYz3HzEMfQcxxDz3D8PBfoMRRFYdzAPpeEhKjjtm7oJBGmJP8U3HRaOGcmVABfnXD49X2JiCh8mUwm2Gw2yLIMYLgQZnt7O0wm05jjWltbXY+tVitSU1MnbJvovafzOl9xxj2cu4SIAiCz6CYREWmU3wIWvqzuvW3bNqxevRqFhYW4++67sXfvXn9cUkC12HqQkRwLneTfmNN8UwL0OhGHWMeCiIj8JCkpCWazGdXV1QCA6upqmM1mt+UgAJCfn4/KykooigK73Y76+nrk5eVN2Dae6b7OV8buEsIaFkREpF1+WxLiy+reS5Yswf3334/o6GgcOnQIa9euxb59+xAVFeWvy/MrVVVxvK0b15uT/f7eEToRmaxjQUREfrZlyxaUlZVh+/btSEhIcG0/Wlpaio0bNyIrKwsWiwUNDQ3Izc0FAGzYsAEZGRkAMG7bgQMH8MMf/hA9PT1QVRWvvfYannrqKSxfvnzc1wWCa5eQkaKb3CWEiIi0zC8BC2d17507dwIYru79xBNPwG63u307cqlK3OvWrRu3bfny5a5zLFy4EKqqwuFwBDRl05dOn+1Db/8Q5vix4OZoV86diT+8fYx1LIiIyG8yMzPdsiudduzY4fpZkiSUl5df9PXjtS1btgxvv/32lF8XCM5kCte2pqLgyrogIiLSGr8ELPxZ3Xv37t2YM2fOlIMV3qzg7WtfWYeLolx1ZcqkK7q223sRH+dZxklMTCSMhhjcuCQNf3j7GFodfbh5jmHiF2pIMFfQDRUcQ+/gOHqOY0ihyFm80xWwELgkhIiItEtTu4R88MEHeOaZZ/DrX/96yq/1ZgVvX/v8q3aIgoC4CGHyFV0lCd09fR69b29vPzpkGTOjdYjSS3iv4RSuMIXPhD/QFXS1gGPoHRxHz3EMp2aiCt7kP87ghDC6hkWIzF+IiIimyi8VG/1R3fuTTz7Bj3/8Y2zbtg0LFizw5eUE3HFbN9JmxSJCJwXk/XWSCPPcmfjimJ1pqERERH7kvO1K3CWEiIjCgF8CFr6u7v3ZZ5/h4YcfxrPPPotFixb545ICxllwc25qYL/pWrwgCZ1dfWiz9wa0H0REROFkzJIQUQC/OyAiIq3y25IQX1b3Li8vR19fHzZt2uR6v61bt2LhwoX+ujy/cfQMoLt3EHMDVHDTafH84WDTF8fsMCXFBrQvRERE4eLCkpDhx6xhQUREWua3gIUvq3u/8sor3ulkCDjeNrzmem5qYAMWxsRopBhi8EWTHauuC9z2bkREROHkYruEsIYFERFplV+WhJD3tNi6IQDISA588bOs+QYcbjmDwSE50F0hIiIKC85sCu4SQkRE4YABixDT3NaNFEMMovSB3+Bl8QIDBoYUfHXibKC7QkREFBZcNSxGFd1khgUREWkVAxYhpqmtC/OCZCvRhXNmIkInouHr04HuChERUVhwLQnhtqZERBQGAv81PU3ame5+nO0ZwHxTQqC7AgCIjJCwaJ4Bnxw5je/mXO7aE56IiIh8w7n84/zAEHSCChXAoKziXP+Qx+eOjNBBx6+yiIgoiDBgEUKOtXYBQNAELABg6eWz8OnXp3GivQdzArxzCRERkdY5sykGBmR8eOw0unsHMDCo4MODNo/PfZ05BbpITg2JiCh4MI4eQprbuiCJAuYEQcFNp6sunwVBAD7+qiPQXSEiItI85+IPZ9FNQRDAmptERKRVDFiEkGOtXUg3xkEfIQW6Ky4JMXpcNnsGPj3COhZERES+5sywcK7CFADuEkJERJrFgEWIUFQVzW3dmB8kBTdHW3q5ES3tPTjtOB/orhAREWmaa1vTUUU3VQYsiIhIoxiwCBE2ey/O9w8FVf0Kp6VXzAIAfMwsCyIiIp9yBidcS0JwYZkIERGR1jBgESKard0AgqvgplPKzBhkJMfhAy8U/CIiIqJLU5Thf507c7GGBRERaRkDFiHimLULkRES0mbFBrorF3XjohQca+2C7UxvoLtCRESkWReWhAw/FgRwSQgREWkWAxYhosnahbkpca4U0GBzgzkFAoD9XzLLgoiIyFfUb9SwYIYFERFpGQMWIWBgUMbxtm5kps8IdFcuyZAQhYVzErH/yzZ+00NEROQjI5uEjFoSwl1CiIhIuxiwCAFN1i7IiorL0xMD3ZVx3bgoFbYz59Hc1h3orhAREWmSc1tTV9FNZlgQEZGGMWARAo6cPAsAuGx28GZYAMCyhUboJBHvft4W6K4QERFpkvqNGhYia1gQEZGGMWARAo6cPIu0WbGIi44IdFfGFRMVgWULjXj3yzb0D8iB7g4REZHmfHNJSIROwsCgwqAFERFpEgMWQU5RVHx96iwuD+L6FaPdds1snO8fwnuNzLIgIiLyNleGxUiKRbRegqKqGBxSAtktIiIin2DAIsidOn0O5/uHQiZgcdnsGchIjsObH53itz1EROQ1TU1NKCkpQV5eHkpKStDc3DzmGFmWUV5ejpycHKxatQqVlZUetz333HPIzs6GxWKBxWJBeXm5T69zIso3dgmJitQBAM73M7ORiIi0RxfoDtD4jpx0AEDQF9x0EgQBt18zG/9TexhHTp7FFRmJge4SERFpwObNm7FmzRpYLBZUVVVh06ZN2LVrl9sxe/bsQUtLC+rq6uBwOFBUVITs7Gykp6dPuw0AioqK8MgjjwTissdwFt0ciVcgSi8BAPoGhjAD+kB1i4iIyCeYYRHkjpw8i8Q4PWbNiAp0Vybtxm+lIjpSh/qPTga6K0REpAGdnZ1obGxEQUEBAKCgoACNjY2w2+1ux9XU1KC4uBiiKMJgMCAnJwe1tbUetQUbZ/Kia0mIM8OCtaOIiEiD/JZh0dTUhLKyMjgcDiQmJqKiogLz5s1zO0aWZTz55JPYu3cvBEHA+vXrUVxcPGHbvn378PTTT+Orr77CvffeGzTfgnhKVVV8dcKBy9ITXcW1QkGkXsJtS2fj9f3Hcer0OcyeFRvoLhERUQizWq1ISUmBJA1nE0iShOTkZFitVhgMBrfj0tLSXI9NJhPa2to8agOA1157Dfv27YPRaMSDDz6IpUuXTqn/SUlxUzp+PNExw1kUoiAgPi4Kkm54TFQMP/ZETEwkjIYYj/sYSozG+EB3IeRxDD3HMfQMx89zwTyGfgtY+DKVMyMjA0899RRqa2sxMDDgr0vyuTZ7L8509+Nbc2cGuitTlnd9Bt746CT2vNOEByyLA90dIiKiabnnnnvwwAMPICIiAu+88w5+8IMfoKamBjNnTv7e3NnZ41rK4anu7j4Aw0tCunv6oKgqBABnu/vQ3dPn0bl7e/vRIYdPpobRGI+Oju5AdyOkcQw9xzH0DMfPc4EeQ1EUxg3s+2VJiK9TOefOnQuz2QydTlslOb5sGh6fRfMNExwZfOJj9Fh5bTo+PNiOU6fPBbo7REQUwkwmE2w2G+SRP6ZlWUZ7eztMJtOY41pbW12PrVYrUlNTPWozGo2IiBjeVvzmm2+GyWTCkSNHfHCVk6OqgIAL25qKgoBIvYTz/UMB6xMREZGv+OUvfF+ncnqDN9M1veVIaxdMs2LxrcuTPT5Xu73X76mia+4w40+fnMT/fngCj/z1dR69d7AI5nSpUMEx9A6Oo+c4hqEjKSkJZrMZ1dXVsFgsqK6uhtlsdptDAEB+fj4qKyuRm5sLh8OB+vp6vPjiix612Ww2pKSkAAAOHjyIU6dOYf78+X68eneKqo5ZJhqll9DHGhZERKRB2kpJ8IA30zW9YUhW8NmR07gpK9U7KTqSFJBU0VXLMvDqO8246UALrgzBpS2jBTpdSgs4ht7BcfQcx3BqJkrX9IctW7agrKwM27dvR0JCAioqKgAApaWl2LhxI7KysmCxWNDQ0IDc3FwAwIYNG5CRkQEA0257+umn8eWXX0IURURERGDr1q0wGo1+vfbRFFWF+I382OhIHTMsiIhIk/wSsBidyilJ0oSpnEuWLAHgnlUxXpsWHT11Fv2DMhbPC73lIKPdeeNcvPtFG/5v3WGU3389dBI3piEioqnLzMxEZWXlmOd37Njh+lmSJJSXl1/09dNtcwZGgoWqDi8DGS1KL6G7dzBAPSIiIvIdv/z1ODqVE8CEqZyKosBut6O+vh55eXkTtmnRl812iIIQ8lkJ+ggJa1ZdAWtnL+o+PBHo7hAREYU0RRm7JCQ6Uoe+AWZYEBGR9vjt6+4tW7bghRdeQF5eHl544QXXNxmlpaX4/PPPAQynZKanpyM3Nxff+c53xqRrXqrtwIEDWLFiBXbu3ImXXnoJK1aswN69e/11aT7xZZMdmbMTXPurh7KrL5uFpZfPQtW+Jpxo7wl0d4iIiELWxZaEROklDMkqBoeUwHSKiIjIR/z217AvUzmXLVuGt99+2zsdDQJne/rRbO2GZXnginp52335V2Lzzg+wffcX2HTfMk0EYoiIiPzt4ktChu+pfQNDiNDpA9EtIiIin2BBgSD08VcdUAFce0Xginp5W0KsHg/ctQjtZ3rxP7WHoKrBU+CUiIgoVFxsl5DoyOFd2Pr6uVMIERFpCwMWQejDQ+0wJcVgtjH4tlr1xMI5M/GXt2big4PtePnNrxm0ICIimiJVUSG6xytcGRbnWceCiIg0hnn5Qabr3AAOn3Cg8KZ5ge7KGIIo4JyH26atuDoNZ7r7UffhCURGSChaPn/MN0VERER0cYo6fD8ejRkWRESkVQxYBJmPvuqAqgLLFiYHuitj9A/KaPiqw+PzWJbPx8CgjD3vNqP7/CDW5FzO7U6JiIgmQVHVMTUsIplhQUREGsWARZA5cKgdqYYYzDbGBrorPiMIAu6740rExUTg9f0taOs8h/V3LUJiXGSgu0ZERBTULrYkRBIF6CNE9A0ww4KIiLSFX2sHkbM9/TjUcgbLrkzW/DIJURBQ/O3L8HerzTja2oXHdryPdz63sq4FERHROBQVF50jROt1OO/hsk0iIqJgw4BFEPlzQytUFbhpcWqgu+I3N2eZUH7/9UgzxuK/XzuIn77wEQ63nAl0t4iIiIKSepElIQAQpZeYYUFERJrDgEWQkBUFf/60FYvmG5BqiAl0d/wq1RCDsjXX4L78heg824eK33yCn/7fj7D/yzYMyUqgu0dERBQ0FFUdU3QTAKIidehjhgUREWkMa1gEiU++Oo0z3f1Ym3tFoLsSEKIo4NarZyN7USr+/Gkr3vj4JP5zTyNeeuMIVlydhhVXpWHWjOhAd5OIiCigFBVjalgAQLReQiszLIiISGMYsAgSb358EkkJUbgqc1agu+JzE22PetMSE27MSsXh42fwdkMrXnv3OKrfPY7M2Qm4zpyCpZfPwsz4aOiYH0RERGFmuOjm2IhFbHQEBocU9PYNISaK0zsiItIG3tGCQIutG4daHPjLWxdAvNjXJhozle1Rr7nCiCsyEtHU2oVjrV14qf4I/t8bXyMrMwm3ZJmwJDMJEYxcEBFRmFBU9aJFN9NmxeCjw8Cp0z24PD3R/x0jIiLyAQYsgsArfz6GmEgdbr16dqC7EpTioiOQlZmExQsMsHf141hrF461nkXD16cRG6XDdVcm48ZFqbg8fYbmd1chIqLwpl5iSUhiXCRionQ41XGOAQsiItIMBiwC7GCzHZ8f68R3brsMcdERge5OUBMEAUkzopA0Iwp/X7QYx61deO/LNrz7ZRve+rQVs2ZE4cZFqchelAJTUmygu0tEROR1lyq6KQgC0o2xONbaBVlRIInMPiQiotDHgEUAKaqK//fWUSQlRGLltcyumApJFJC1IAlZC5LQNzCET746jfe+bMNr7zWj+t1mzEuNR/aiVFz/rRTMiNUHurtEREReoVxiW1MASDfG4asTZ2Gzn0faLAbuiYgo9DFgEUB//rQVx9u6sa7AjAidFOjuhKwovQ7Zi1ORvTgVjp5+fNBow3tf2vDbN47gpTePYGFGIq65wohrrjDCkBAV6O4SERFN23DRzYu3pSbFQBIFnOo4x4AFERFpAgMWAXKyvQcvvXEEi+YbcOOi1EB3J+RcaqeRiAgJN1+VhpuvSoO18xw+OtyBhiOn8Zv6I/hN/RHMSYmHed5MXJ4+AwvnGBAbyUARERGFDkXFRZeEAIBOEpFqiMHJjh4su9LIuk5ERBTyGLAIgP4BGb+q+gIxkTqsK/jWJVM76dImu9NIysxo5F6fga5zA2ixdaPF1oO6D1rwv+8PLytZkJaAzLQZSE+ORboxDqakWO46QkREQUsdZ0kIAGQkx2F/ow1HT3XhsvQZfuwZERGR9zFg4Wf9AzKefeUztHX24kf3XM36Cn6SEKvH4gVJWLwgCQNDMjrOnIcgijhywoH6j05gSFYBAKIoYNaMKBgSomCIj4QhIQoz4yMRFxOBWbYe6MThve4jI4YzMyIjdGB8g4iI/EVR1HG3QL8sfQaabd3Y/6UNCbERSJ4Z48feEREReRcDFn50vn8I/1bZgK9PncX9q8341jxDoLsUlvQ6CbONcbjqCiPSkmKgKCq6egdwprsfju5+nD03gI4z59Fs7ULfgHzRc0iigEi9hBmxekRH6hCllxAZISFKr0NUpISoCAlRegkROgmiMBwIcf0nCBAEQFZUyLIKWVExOKSgf0iGLKtQFGW4TVGhqsPHKYoKRR3+VxCG034lUYBOEhGhExEdpcOMmEjER+sQGx2BmfGRmBkfCZ3EaAoRkZYoKiCNk2EhigJuvSoNNfuP461PWrHy2nQkzWD9JiIiCk0MWPjJwWY7dr5+CGe6+/GAZTGuuzI50F2iEaIoIDEuEolxkYDJvW1IVtDbN4T+ARmCJOJMVx/6B4bQNyCjf1BGXLQeQ7KCvoEhdJ0bQN+A7PpvSFam1R8Bw+uTRWF4mzpngEMY+RcY/oZNGQlqyIp6yXMlxOoxMz4ShpEARlJClGtr2FkJUUiI1XONMxFRCFHV8TMsACBSL+H2a9LxxwMn8Pr7LbjhWym4bHYCf98TEVHI8VvAoqmpCWVlZXA4HEhMTERFRQXmzZvndowsy3jyySexd+9eCIKA9evXo7i42KO2QDvW2oW6D1vwwcF2pMyMxk/WLMXl6YmB7hZNkk4SkRCrB2KB+LgozEqIdGu/flEq1EsEDIZkBUOyAkWBKztCVS9kTkiSAEkc/k8QRDR83T4SnJjahFJRhzM0rpwzE1CB7vPD2SJnuvph7+7Hme5+dDjO43CLA73fKFSqk0QkJUQOBzGcwYyEKMwa+TeRWRpEFCQCNY8ItjnGtQuTERkx8e/lGXF6FNw0F3sbrHjvizZ8eawT89MSkGKIgSE+EvoIFp0mIqLg57eAxebNm7FmzRpYLBZUVVVh06ZN2LVrl9sxe/bsQUtLC+rq6uBwOFBUVITs7Gykp6dPuy0Q2s/04u0GKz472omTHT2IjpSwOnsuCm6a56p9QNow2eKfE7nqCiMkcXqBAVEQEBkhwWiIgaqomDUzGvMvcez5/iGc6e6HvasP9q6Rf7v7caarDyfbO9HVOzDmNdGROsRF6xAXHYHY6AjERUcgLioCkXoJEToRep3zXxH6CAl6nYiICBE6UXQtg5FGlsL0DCo46+h1Wx4zHLAZOWbUkhkAw5klEAABI9v4XbxNAMYN9KjqqOU1o4JHigrXcpuhIQWDsoKBQQWDQwoGhmQMDA3/POj8eXD4+cGR54dkFUOKAlke+XnUv7KsQIV7lozzX0lyHy99xPA46iOkkZ9HPR4ZT71u5GediMiYSPQPyojQiSzaS2EjUPOIYJtj5N8wBwBw6dy6C6L0Oqxclo5jp7pwtPUsGr7uBNAJADAkRGJOSjwMCZGIjBhe1tjbN4hovcTfK0REFDT8ErDo7OxEY2Mjdu7cCQAoKCjAE088AbvdDoPhQh2HmpoaFBcXQxRFGAwG5OTkoLa2FuvWrZt222RNlF45FX88cBKNzXbMTY3HHTfOwbULkxGlD2ygQhUFxERFeHQOnSR6fA5vnScQ54iO1EEecj8+mMZEVlQcbLJP6lhBEFxLQ0b71nwD+vuH4Ojux5me4XoevX1D6O0bwrm+QfT2DQc8Wk/3YnBIHnc5SiCMxDQgjApsKCPBCm+TJAE6UYQ0Uk9EEoVRWTMiIiN1ECAMB0swEhiBClUB+ocG0XVOxcDQcBbO4KA8qT8+Lt4PEXpJhC5CRIQkQK+TXLVNpFG1U5xBI9fPowJGrgASBKhQ3fqiqhh+xu1JDF+LOhwMUpSR14wEgVT1wrg7g0XqyPHuz486B0YCT7iw/EkQBLf/n84/ogQBEC9EqlzLp0YejgSzhh9883zOtqjoCPT3Dw1f1zeuxxnMguu5sdc0Zgxcz1/42f193YNWzv6LIwE7URjd91HPjfx/cR0L9yCYM5jnzM4SRwYhMU6Pqy+b5bUlAN68R05HIOcRwTbHcJrKfX3JZbOw5LJZ6BsYwtmeATh6+mHtPIfW08P/Ob37RRsADAehRwKmkXppODAtCRc+r+I3A7HO5+D6DIqjnnO1Q4AgYtRSR/dgs9sofWPIhEs8+ubITvojLwiIidGj9xuB+nFfPk6jMP4rNSs2thPnzo39soMmj2PoGY6f56Y6hgmxEbjqslleC25PdI/0S8DCarUiJSUFkjT8R7skSUhOTobVanWbaFitVqSlpbkem0wmtLW1edQ2WTNnxk79wi7hoTXXeu1c3rR6eabH51iQPtMLPfHOebR0Dm+dx1t9ISIKJoGcRwTbHGM0b9zXiYiIghkXpxMRERERERFR0PFLwMJkMsFms0GWh7eIlGUZ7e3tMJlMY45rbW11PbZarUhNTfWojYiIiEJbIOcRnGMQEREFjl8CFklJSTCbzaiurgYAVFdXw2w2u6VxAkB+fj4qKyuhKArsdjvq6+uRl5fnURsRERGFtkDOIzjHICIiChy/7RKyZcsWlJWVYfv27UhISEBFRQUAoLS0FBs3bkRWVhYsFgsaGhqQm5sLANiwYQMyMjIAYNptREREFPoCNY/gHIOIiChwBFX1Rf18IiIiIiIiIqLpY9FNIiIiIiIiIgo6DFgQERERERERUdBhwIKIiIiIiIiIgg4DFkREREREREQUdBiw0LimpiaUlJQgLy8PJSUlaG5uDnSXgtbtt9+O/Px8WCwWWCwW7N27FwDw6aef4q677kJeXh7uv/9+dHZ2ul4zXls4qKiowO23346FCxfiq6++cj0/3uduum1adakxvNTnEeBn8pvOnDmD0tJS5OXlobCwEP/wD/8Au90OYPpjFY7jSKEhHH9PTpa37+Na/z3gz3u4Vj+3/ryHa/Xz6O97uBbHcbwxXLhwIQoLC12fxcOHD7te9+abbyI/Px+rVq3CQw89hPPnz3vc5hMqadq9996r7t69W1VVVd29e7d67733BrhHweu2225TDx8+7PacLMtqTk6O+uGHH6qqqqrbtm1Ty8rKJmwLFx9++KHa2to6ZuzG+9xNt02rLjWGF/s8qio/kxdz5swZdf/+/a7HP//5z9V/+qd/mvZYhes4UmgIx9+Tk+XN+3g4/B7w5z1cq59bf93Dtfx59Oc9XKvjeKkxVFVVveKKK9Senp4xr+np6VFvuukmtampSVVVVX300UfV5557zqM2X2HAQsNOnz6tXnvtterQ0JCqqqo6NDSkXnvttWpnZ2eAexacLnZzaWhoUFevXu163NnZqV599dUTtoWb0WM33uduum3hYLKTHX4mJ1ZbW6ved9990x4rjiMFq3D/PTkRb97Hw+n3gK/v4eHwufX1PTycPo++vIeHyzg6x1BVLx2wqKmpUdevX+96/Nlnn6l33nmnR22+ovNt/gYFktVqRUpKCiRJAgBIkoTk5GRYrVYYDIYA9y44/eM//iNUVcW1116LH/7wh7BarUhLS3O1GwwGKIoCh8MxbltiYmIAeh8cxvvcqao6rbZw/bx+8/OYkJDAz+QEFEXBb3/7W9x+++3THiuOIwUr3tcn5q37eLj+HvDFPTxc7+/evIeHy+fR1/fwcBjH0WPodO+990KWZaxYsQIPPvgg9Hr9mLFIS0uD1WoFgGm3+QprWBCNePHFF/Hqq6/ilVdegaqqePzxxwPdJQpj/DxOzxNPPIGYmBisXbs20F0hIj/j700KFvwsTg/v4Z775hi+9dZb+P3vf48XX3wRX3/9NbZt2xbgHk4dAxYaZjKZYLPZIMsyAECWZbS3t8NkMgW4Z8HJOS56vR5r1qzBxx9/DJPJhNbWVtcxdrsdoigiMTFx3LZwNt7nbrpt4ehin0fn8/xMXlxFRQWOHz+Of/u3f4MoitMeq3AfRwpe/D05Pm/ex8P194Av7uHh+Ln19j08HD6P/riHa30cvzmGwIXPYlxcHIqLiy/5WWxtbXUdO902X2HAQsOSkpJgNptRXV0NAKiurobZbNZ0+t109fb2oru7GwCgqipqampgNpuxePFi9PX14cCBAwCAl156Cfn5+QAwbls4G+9zN922cHOpzyMw/ucunD+TTz/9NL744gts27YNer0ewPTHKpzHkYIbf09emrfv4+H6e8AX9/Bw+9z64h6u9c+jv+7hWh7Hi43h2bNn0dfXBwAYGhrC//7v/7o+i8uXL8fnn3/u2rHnpZdewh133OFRm68IqqqqPn0HCqijR4+irKwMXV1dSEhIQEVFBRYsWBDobgWdEydO4MEHH4Qsy1AUBZmZmXjssceQnJyMjz/+GJs3b0Z/fz9mz56NX/ziF5g1axYAjNsWDp588knU1dXh9OnTmDlzJhITE/Haa6+N+7mbbptWXWwM/+M//uOSn0dg/M9dOH4mjxw5goKCAsybNw9RUVEAgPT0dGzbtm3aYxWO40ihIRx/T06GL+7jWv894M97uFY/t/68h2v18+jve7gWx/FSY7hu3Tps2rQJgiBgaGgIS5cuxaOPPorY2FgAQH19PX7xi19AURSYzWb8/Oc/R0xMjEdtvsCABREREREREREFHS4JISIiIiIiIqKgw4AFEREREREREQUdBiyIiIiIiIiIKOgwYEFEREREREREQYcBCyIiIiIiIiIKOgxYEBEREREREVHQYcCCiDx277334rrrrsPAwECguzLG73//e3z3u98NdDeIiIhoGjjHIApvDFgQkUdOnjyJAwcOQBAEvPHGG4HuDhEREWkE5xhExIAFEXlk9+7duOqqq/AXf/EX2L17t+v5srIybNmyBevWrcPSpUtxzz33oKOjA0899RSuu+465Ofno7Gx0XX80aNHce+992LZsmVYvXq128Tk3nvvRWVlpevxN7/RWLhwIX77298iNzcXy5YtQ3l5OVRVxdGjR7F582Z8+umnWLp0KZYtW+bbwSAiIiKv4RyDiBiwICKPVFVVobCwEIWFhdi3bx9Onz7tanv99dfx0EMPYf/+/dDr9SgpKcGiRYuwf/9+5OXl4Wc/+xkAYHBwEA888ABuvvlmvPvuu3jsscfwj//4jzh27Nik+/HWW2/hd7/7HV599VW8/vrr2Lt3LzIzM1FeXo6rr74an3zyCQ4cOOD16yciIiLf4ByDiBiwIKJpO3DgAFpbW3HHHXdg8eLFyMjIQHV1tat91apVWLx4MSIjI7Fq1SpERkaiqKgIkiThzjvvxMGDBwEADQ0N6O3txfr166HX65GdnY3bbrsNr7322qT7UlpaioSEBKSlpeGGG27AoUOHvH69RERE5B+cYxARwIAFEXlg9+7duPnmm2EwGAAABQUF+MMf/uBqT0pKcv0cFRWFWbNmuT3u7e0FALS3tyM1NRWieOFXUlpaGmw226T7YjQaXT9HR0fj3LlzU78gIiIiCgqcYxARAOgC3QEiCk19fX14/fXXoSgKbr75ZgDAwMAAurq6pvzNQ3JyMtra2qAoimtCYbVaMW/ePADDk4Pz58+7jh+dEjoRQRCm1BciIiIKLM4xiMiJGRZENC319fWQJAmvvfYadu/ejd27d6OmpgbLli1zK4w1GUuWLEFUVBT+67/+C4ODg3j//ffx5ptv4s477wQAmM1m/PGPf8T58+dx/Phx/O53v5v0uZOSkmCz2YJyOzQiIiIai3MMInJiwIKIpuUPf/gD7r77bqSlpcFoNLr++973voc9e/ZgaGho0ufS6/X4j//4D7z99tu48cYbUV5ejq1btyIzMxMAcN999yEiIgI33XQTHnnkERQWFk763DfeeCMuu+wy3HLLLbjhhhumfJ1ERETkX5xjEJGToKqqGuhOEBERERERERGNxgwLIiIiIiIiIgo6DFgQERERERERUdBhwIKIiIiIiIiIgg4DFkREREREREQUdBiwICIiIiIiIqKgw4AFEREREREREQUdBiyIiIiIiIiIKOgwYEFEREREREREQYcBCyIiIiIiIiIKOv8fT9C/yZUTk6AAAAAASUVORK5CYII=\n"
          },
          "metadata": {}
        }
      ]
    },
    {
      "cell_type": "markdown",
      "source": [
        "## This shows that the 'Amount': feature has better distribution than the 'Time' \n",
        "\n",
        "☝\n",
        "\n",
        "---\n",
        "\n"
      ],
      "metadata": {
        "id": "VFUx9MXV0BEa"
      }
    },
    {
      "cell_type": "code",
      "source": [
        "fig, ax = plt.subplots(figsize=(14,8))\n",
        "\n",
        "box_plot = sns.boxplot(df['Class'], df['Amount'], showmeans=True, ax=ax)\n",
        "plt.xticks([0, 1], ['Not Fraud', 'Fraud'])\n",
        "ax.set_ylim(0, 500)\n",
        "ax.set_title('Amount Distribution')\n",
        "ax.set_xlabel('')\n",
        "\n",
        "means = df.groupby(['Class'])['Amount'].mean()\n",
        "vertical_offset = df['Amount'].mean() - 120 # offset from median for display\n",
        "\n",
        "for xtick in box_plot.get_xticks():\n",
        "    box_plot.text(xtick, means[xtick] + vertical_offset, f'Mean: {round(means[xtick], 2)}', \n",
        "            horizontalalignment='center', fontsize=15, color='black')\n",
        "\n",
        "plt.tight_layout()\n",
        "plt.show()"
      ],
      "metadata": {
        "colab": {
          "base_uri": "https://localhost:8080/",
          "height": 601
        },
        "id": "qgRaDfOE1XBj",
        "outputId": "6d5ecdf0-7ef9-43ef-fe87-f4f57eb39d2d"
      },
      "execution_count": 15,
      "outputs": [
        {
          "output_type": "display_data",
          "data": {
            "text/plain": [
              "<Figure size 1008x576 with 1 Axes>"
            ],
            "image/png": "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\n"
          },
          "metadata": {}
        }
      ]
    },
    {
      "cell_type": "markdown",
      "source": [
        "### Fraud mean is significantly higher . Too many outliers are observed in both parties.\n",
        "☝\n",
        "\n",
        "---\n",
        "\n",
        "\n",
        "\n",
        "---\n",
        "\n"
      ],
      "metadata": {
        "id": "3XuX_egb3Skd"
      }
    },
    {
      "cell_type": "code",
      "source": [
        "corr = df.corr()\n",
        "fig, ax = plt.subplots(figsize=(12, 8))\n",
        "sns.heatmap(corr, cmap='PuOr', vmin=-1)\n",
        "\n",
        "plt.tight_layout()\n",
        "plt.show()"
      ],
      "metadata": {
        "colab": {
          "base_uri": "https://localhost:8080/",
          "height": 581
        },
        "id": "i6g2__s-3xJN",
        "outputId": "361fabb1-1380-48b9-c133-779498fc9c4f"
      },
      "execution_count": 19,
      "outputs": [
        {
          "output_type": "display_data",
          "data": {
            "text/plain": [
              "<Figure size 864x576 with 2 Axes>"
            ],
            "image/png": "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\n"
          },
          "metadata": {}
        }
      ]
    },
    {
      "cell_type": "markdown",
      "source": [],
      "metadata": {
        "id": "KnB7JR_Z3zIZ"
      }
    },
    {
      "cell_type": "markdown",
      "metadata": {
        "id": "NGyEoz9fJQ0E"
      },
      "source": [
        "### Data Cleaning\n",
        "Check Missing Values and Outliers"
      ]
    },
    {
      "cell_type": "code",
      "execution_count": null,
      "metadata": {
        "id": "BvpEPuGAMuHa"
      },
      "outputs": [],
      "source": []
    },
    {
      "cell_type": "markdown",
      "metadata": {
        "id": "tMOO7g-sMuHb"
      },
      "source": [
        "---\n",
        "---\n"
      ]
    },
    {
      "cell_type": "markdown",
      "metadata": {
        "id": "Yf6VvH6WMuHb"
      },
      "source": [
        "## 2. Data Preprocessing"
      ]
    },
    {
      "cell_type": "markdown",
      "metadata": {
        "id": "hlm6gCsKMuHb"
      },
      "source": [
        "#### Train - Test Split\n",
        "\n",
        "As in this case, for extremely imbalanced datasets you may want to make sure that classes are balanced across train and test data."
      ]
    },
    {
      "cell_type": "code",
      "source": [
        "from sklearn.model_selection import train_test_split\n",
        "from sklearn.preprocessing import StandardScaler\n",
        "\n",
        "from sklearn.linear_model import LogisticRegression\n",
        "from sklearn.tree import DecisionTreeClassifier\n",
        "from sklearn.neighbors import KNeighborsClassifier\n",
        "from xgboost import XGBClassifier\n",
        "\n",
        "from sklearn.metrics import classification_report\n",
        "from sklearn.metrics import confusion_matrix\n",
        "from sklearn.metrics import accuracy_score\n",
        "from sklearn.metrics import precision_score\n",
        "from sklearn.metrics import recall_score\n",
        "from sklearn.metrics import f1_score\n",
        "from sklearn.tree import export_graphviz\n",
        "from sklearn.metrics import roc_auc_score\n",
        "\n",
        "from imblearn.under_sampling import RandomUnderSampler\n",
        "from imblearn.over_sampling import RandomOverSampler\n",
        "\n",
        "from collections import Counter\n",
        "from IPython.display import Image  \n",
        "import pydotplus\n"
      ],
      "metadata": {
        "id": "X5e2xtou-Zmk"
      },
      "execution_count": 22,
      "outputs": []
    },
    {
      "cell_type": "code",
      "source": [
        "df['Class'].value_counts(normalize=True)"
      ],
      "metadata": {
        "colab": {
          "base_uri": "https://localhost:8080/"
        },
        "id": "LK9nsEVGwTTD",
        "outputId": "c0a7f243-8b51-4061-b472-08324478b17e"
      },
      "execution_count": 20,
      "outputs": [
        {
          "output_type": "execute_result",
          "data": {
            "text/plain": [
              "0    0.998273\n",
              "1    0.001727\n",
              "Name: Class, dtype: float64"
            ]
          },
          "metadata": {},
          "execution_count": 20
        }
      ]
    },
    {
      "cell_type": "code",
      "source": [
        "scaler = StandardScaler()\n",
        "\n",
        "df['Amount_scale'] = scaler.fit_transform(df['Amount'].values.reshape(-1, 1))\n",
        "df['Time_scale'] = scaler.fit_transform(df['Time'].values.reshape(-1, 1))\n",
        "\n",
        "df.drop(['Amount', 'Time'], axis=1, inplace=True)\n",
        "\n",
        "df.head()"
      ],
      "metadata": {
        "colab": {
          "base_uri": "https://localhost:8080/",
          "height": 300
        },
        "id": "3uC_X8OI7Fs4",
        "outputId": "1597fd3d-897b-4149-98ad-2c2547250423"
      },
      "execution_count": 23,
      "outputs": [
        {
          "output_type": "execute_result",
          "data": {
            "text/plain": [
              "         V1        V2        V3        V4        V5        V6        V7  \\\n",
              "0 -1.359807 -0.072781  2.536347  1.378155 -0.338321  0.462388  0.239599   \n",
              "1  1.191857  0.266151  0.166480  0.448154  0.060018 -0.082361 -0.078803   \n",
              "2 -1.358354 -1.340163  1.773209  0.379780 -0.503198  1.800499  0.791461   \n",
              "3 -0.966272 -0.185226  1.792993 -0.863291 -0.010309  1.247203  0.237609   \n",
              "4 -1.158233  0.877737  1.548718  0.403034 -0.407193  0.095921  0.592941   \n",
              "\n",
              "         V8        V9       V10  ...       V22       V23       V24       V25  \\\n",
              "0  0.098698  0.363787  0.090794  ...  0.277838 -0.110474  0.066928  0.128539   \n",
              "1  0.085102 -0.255425 -0.166974  ... -0.638672  0.101288 -0.339846  0.167170   \n",
              "2  0.247676 -1.514654  0.207643  ...  0.771679  0.909412 -0.689281 -0.327642   \n",
              "3  0.377436 -1.387024 -0.054952  ...  0.005274 -0.190321 -1.175575  0.647376   \n",
              "4 -0.270533  0.817739  0.753074  ...  0.798278 -0.137458  0.141267 -0.206010   \n",
              "\n",
              "        V26       V27       V28  Class  Amount_scale  Time_scale  \n",
              "0 -0.189115  0.133558 -0.021053      0      0.244964   -1.996583  \n",
              "1  0.125895 -0.008983  0.014724      0     -0.342475   -1.996583  \n",
              "2 -0.139097 -0.055353 -0.059752      0      1.160686   -1.996562  \n",
              "3 -0.221929  0.062723  0.061458      0      0.140534   -1.996562  \n",
              "4  0.502292  0.219422  0.215153      0     -0.073403   -1.996541  \n",
              "\n",
              "[5 rows x 31 columns]"
            ],
            "text/html": [
              "\n",
              "  <div id=\"df-3305bf5b-d204-4051-a78d-d782a7458b0b\">\n",
              "    <div class=\"colab-df-container\">\n",
              "      <div>\n",
              "<style scoped>\n",
              "    .dataframe tbody tr th:only-of-type {\n",
              "        vertical-align: middle;\n",
              "    }\n",
              "\n",
              "    .dataframe tbody tr th {\n",
              "        vertical-align: top;\n",
              "    }\n",
              "\n",
              "    .dataframe thead th {\n",
              "        text-align: right;\n",
              "    }\n",
              "</style>\n",
              "<table border=\"1\" class=\"dataframe\">\n",
              "  <thead>\n",
              "    <tr style=\"text-align: right;\">\n",
              "      <th></th>\n",
              "      <th>V1</th>\n",
              "      <th>V2</th>\n",
              "      <th>V3</th>\n",
              "      <th>V4</th>\n",
              "      <th>V5</th>\n",
              "      <th>V6</th>\n",
              "      <th>V7</th>\n",
              "      <th>V8</th>\n",
              "      <th>V9</th>\n",
              "      <th>V10</th>\n",
              "      <th>...</th>\n",
              "      <th>V22</th>\n",
              "      <th>V23</th>\n",
              "      <th>V24</th>\n",
              "      <th>V25</th>\n",
              "      <th>V26</th>\n",
              "      <th>V27</th>\n",
              "      <th>V28</th>\n",
              "      <th>Class</th>\n",
              "      <th>Amount_scale</th>\n",
              "      <th>Time_scale</th>\n",
              "    </tr>\n",
              "  </thead>\n",
              "  <tbody>\n",
              "    <tr>\n",
              "      <th>0</th>\n",
              "      <td>-1.359807</td>\n",
              "      <td>-0.072781</td>\n",
              "      <td>2.536347</td>\n",
              "      <td>1.378155</td>\n",
              "      <td>-0.338321</td>\n",
              "      <td>0.462388</td>\n",
              "      <td>0.239599</td>\n",
              "      <td>0.098698</td>\n",
              "      <td>0.363787</td>\n",
              "      <td>0.090794</td>\n",
              "      <td>...</td>\n",
              "      <td>0.277838</td>\n",
              "      <td>-0.110474</td>\n",
              "      <td>0.066928</td>\n",
              "      <td>0.128539</td>\n",
              "      <td>-0.189115</td>\n",
              "      <td>0.133558</td>\n",
              "      <td>-0.021053</td>\n",
              "      <td>0</td>\n",
              "      <td>0.244964</td>\n",
              "      <td>-1.996583</td>\n",
              "    </tr>\n",
              "    <tr>\n",
              "      <th>1</th>\n",
              "      <td>1.191857</td>\n",
              "      <td>0.266151</td>\n",
              "      <td>0.166480</td>\n",
              "      <td>0.448154</td>\n",
              "      <td>0.060018</td>\n",
              "      <td>-0.082361</td>\n",
              "      <td>-0.078803</td>\n",
              "      <td>0.085102</td>\n",
              "      <td>-0.255425</td>\n",
              "      <td>-0.166974</td>\n",
              "      <td>...</td>\n",
              "      <td>-0.638672</td>\n",
              "      <td>0.101288</td>\n",
              "      <td>-0.339846</td>\n",
              "      <td>0.167170</td>\n",
              "      <td>0.125895</td>\n",
              "      <td>-0.008983</td>\n",
              "      <td>0.014724</td>\n",
              "      <td>0</td>\n",
              "      <td>-0.342475</td>\n",
              "      <td>-1.996583</td>\n",
              "    </tr>\n",
              "    <tr>\n",
              "      <th>2</th>\n",
              "      <td>-1.358354</td>\n",
              "      <td>-1.340163</td>\n",
              "      <td>1.773209</td>\n",
              "      <td>0.379780</td>\n",
              "      <td>-0.503198</td>\n",
              "      <td>1.800499</td>\n",
              "      <td>0.791461</td>\n",
              "      <td>0.247676</td>\n",
              "      <td>-1.514654</td>\n",
              "      <td>0.207643</td>\n",
              "      <td>...</td>\n",
              "      <td>0.771679</td>\n",
              "      <td>0.909412</td>\n",
              "      <td>-0.689281</td>\n",
              "      <td>-0.327642</td>\n",
              "      <td>-0.139097</td>\n",
              "      <td>-0.055353</td>\n",
              "      <td>-0.059752</td>\n",
              "      <td>0</td>\n",
              "      <td>1.160686</td>\n",
              "      <td>-1.996562</td>\n",
              "    </tr>\n",
              "    <tr>\n",
              "      <th>3</th>\n",
              "      <td>-0.966272</td>\n",
              "      <td>-0.185226</td>\n",
              "      <td>1.792993</td>\n",
              "      <td>-0.863291</td>\n",
              "      <td>-0.010309</td>\n",
              "      <td>1.247203</td>\n",
              "      <td>0.237609</td>\n",
              "      <td>0.377436</td>\n",
              "      <td>-1.387024</td>\n",
              "      <td>-0.054952</td>\n",
              "      <td>...</td>\n",
              "      <td>0.005274</td>\n",
              "      <td>-0.190321</td>\n",
              "      <td>-1.175575</td>\n",
              "      <td>0.647376</td>\n",
              "      <td>-0.221929</td>\n",
              "      <td>0.062723</td>\n",
              "      <td>0.061458</td>\n",
              "      <td>0</td>\n",
              "      <td>0.140534</td>\n",
              "      <td>-1.996562</td>\n",
              "    </tr>\n",
              "    <tr>\n",
              "      <th>4</th>\n",
              "      <td>-1.158233</td>\n",
              "      <td>0.877737</td>\n",
              "      <td>1.548718</td>\n",
              "      <td>0.403034</td>\n",
              "      <td>-0.407193</td>\n",
              "      <td>0.095921</td>\n",
              "      <td>0.592941</td>\n",
              "      <td>-0.270533</td>\n",
              "      <td>0.817739</td>\n",
              "      <td>0.753074</td>\n",
              "      <td>...</td>\n",
              "      <td>0.798278</td>\n",
              "      <td>-0.137458</td>\n",
              "      <td>0.141267</td>\n",
              "      <td>-0.206010</td>\n",
              "      <td>0.502292</td>\n",
              "      <td>0.219422</td>\n",
              "      <td>0.215153</td>\n",
              "      <td>0</td>\n",
              "      <td>-0.073403</td>\n",
              "      <td>-1.996541</td>\n",
              "    </tr>\n",
              "  </tbody>\n",
              "</table>\n",
              "<p>5 rows × 31 columns</p>\n",
              "</div>\n",
              "      <button class=\"colab-df-convert\" onclick=\"convertToInteractive('df-3305bf5b-d204-4051-a78d-d782a7458b0b')\"\n",
              "              title=\"Convert this dataframe to an interactive table.\"\n",
              "              style=\"display:none;\">\n",
              "        \n",
              "  <svg xmlns=\"http://www.w3.org/2000/svg\" height=\"24px\"viewBox=\"0 0 24 24\"\n",
              "       width=\"24px\">\n",
              "    <path d=\"M0 0h24v24H0V0z\" fill=\"none\"/>\n",
              "    <path d=\"M18.56 5.44l.94 2.06.94-2.06 2.06-.94-2.06-.94-.94-2.06-.94 2.06-2.06.94zm-11 1L8.5 8.5l.94-2.06 2.06-.94-2.06-.94L8.5 2.5l-.94 2.06-2.06.94zm10 10l.94 2.06.94-2.06 2.06-.94-2.06-.94-.94-2.06-.94 2.06-2.06.94z\"/><path d=\"M17.41 7.96l-1.37-1.37c-.4-.4-.92-.59-1.43-.59-.52 0-1.04.2-1.43.59L10.3 9.45l-7.72 7.72c-.78.78-.78 2.05 0 2.83L4 21.41c.39.39.9.59 1.41.59.51 0 1.02-.2 1.41-.59l7.78-7.78 2.81-2.81c.8-.78.8-2.07 0-2.86zM5.41 20L4 18.59l7.72-7.72 1.47 1.35L5.41 20z\"/>\n",
              "  </svg>\n",
              "      </button>\n",
              "      \n",
              "  <style>\n",
              "    .colab-df-container {\n",
              "      display:flex;\n",
              "      flex-wrap:wrap;\n",
              "      gap: 12px;\n",
              "    }\n",
              "\n",
              "    .colab-df-convert {\n",
              "      background-color: #E8F0FE;\n",
              "      border: none;\n",
              "      border-radius: 50%;\n",
              "      cursor: pointer;\n",
              "      display: none;\n",
              "      fill: #1967D2;\n",
              "      height: 32px;\n",
              "      padding: 0 0 0 0;\n",
              "      width: 32px;\n",
              "    }\n",
              "\n",
              "    .colab-df-convert:hover {\n",
              "      background-color: #E2EBFA;\n",
              "      box-shadow: 0px 1px 2px rgba(60, 64, 67, 0.3), 0px 1px 3px 1px rgba(60, 64, 67, 0.15);\n",
              "      fill: #174EA6;\n",
              "    }\n",
              "\n",
              "    [theme=dark] .colab-df-convert {\n",
              "      background-color: #3B4455;\n",
              "      fill: #D2E3FC;\n",
              "    }\n",
              "\n",
              "    [theme=dark] .colab-df-convert:hover {\n",
              "      background-color: #434B5C;\n",
              "      box-shadow: 0px 1px 3px 1px rgba(0, 0, 0, 0.15);\n",
              "      filter: drop-shadow(0px 1px 2px rgba(0, 0, 0, 0.3));\n",
              "      fill: #FFFFFF;\n",
              "    }\n",
              "  </style>\n",
              "\n",
              "      <script>\n",
              "        const buttonEl =\n",
              "          document.querySelector('#df-3305bf5b-d204-4051-a78d-d782a7458b0b button.colab-df-convert');\n",
              "        buttonEl.style.display =\n",
              "          google.colab.kernel.accessAllowed ? 'block' : 'none';\n",
              "\n",
              "        async function convertToInteractive(key) {\n",
              "          const element = document.querySelector('#df-3305bf5b-d204-4051-a78d-d782a7458b0b');\n",
              "          const dataTable =\n",
              "            await google.colab.kernel.invokeFunction('convertToInteractive',\n",
              "                                                     [key], {});\n",
              "          if (!dataTable) return;\n",
              "\n",
              "          const docLinkHtml = 'Like what you see? Visit the ' +\n",
              "            '<a target=\"_blank\" href=https://colab.research.google.com/notebooks/data_table.ipynb>data table notebook</a>'\n",
              "            + ' to learn more about interactive tables.';\n",
              "          element.innerHTML = '';\n",
              "          dataTable['output_type'] = 'display_data';\n",
              "          await google.colab.output.renderOutput(dataTable, element);\n",
              "          const docLink = document.createElement('div');\n",
              "          docLink.innerHTML = docLinkHtml;\n",
              "          element.appendChild(docLink);\n",
              "        }\n",
              "      </script>\n",
              "    </div>\n",
              "  </div>\n",
              "  "
            ]
          },
          "metadata": {},
          "execution_count": 23
        }
      ]
    },
    {
      "cell_type": "code",
      "execution_count": null,
      "metadata": {
        "id": "AuzpxEmKMuHb"
      },
      "outputs": [],
      "source": []
    },
    {
      "cell_type": "code",
      "source": [
        "X = df.drop(['Class'], axis = 1)\n",
        "y = df['Class']\n",
        "\n",
        "X_train, X_test, y_train, y_test = train_test_split(X, y, test_size=0.25)\n"
      ],
      "metadata": {
        "id": "T9eVirf2UtjT"
      },
      "execution_count": 36,
      "outputs": []
    },
    {
      "cell_type": "markdown",
      "metadata": {
        "id": "OV28RJBeMuHb"
      },
      "source": [
        "#### Scaling"
      ]
    },
    {
      "cell_type": "code",
      "source": [
        "rus = RandomUnderSampler()\n",
        "X_rus, y_rus = rus.fit_resample(X_train, y_train)\n",
        "\n",
        "print(pd.Series(y_rus).value_counts(normalize=True))"
      ],
      "metadata": {
        "colab": {
          "base_uri": "https://localhost:8080/"
        },
        "id": "9fbgSrhE_lsK",
        "outputId": "ee569f13-1a9c-4015-a506-af4dfb8d8cbd"
      },
      "execution_count": 37,
      "outputs": [
        {
          "output_type": "stream",
          "name": "stdout",
          "text": [
            "0    0.5\n",
            "1    0.5\n",
            "Name: Class, dtype: float64\n"
          ]
        }
      ]
    },
    {
      "cell_type": "code",
      "source": [
        "fig, ax = plt.subplots(figsize=(8,5))\n",
        "sns.countplot(y_rus)\n",
        "\n",
        "plt.tight_layout()\n",
        "plt.show()"
      ],
      "metadata": {
        "colab": {
          "base_uri": "https://localhost:8080/",
          "height": 365
        },
        "id": "4Gpipm2h_oBI",
        "outputId": "e015dac2-9501-4780-e1aa-c3890c100ad8"
      },
      "execution_count": 38,
      "outputs": [
        {
          "output_type": "display_data",
          "data": {
            "text/plain": [
              "<Figure size 576x360 with 1 Axes>"
            ],
            "image/png": "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\n"
          },
          "metadata": {}
        }
      ]
    },
    {
      "cell_type": "code",
      "source": [
        "ros = RandomOverSampler()\n",
        "X_ros, y_ros = ros.fit_resample(X_train, y_train)\n",
        "\n",
        "print(pd.Series(y_ros).value_counts(normalize=True))"
      ],
      "metadata": {
        "colab": {
          "base_uri": "https://localhost:8080/"
        },
        "id": "vIpbsrzu_ojR",
        "outputId": "47d30223-d402-4692-93a3-e780990b87fb"
      },
      "execution_count": 39,
      "outputs": [
        {
          "output_type": "stream",
          "name": "stdout",
          "text": [
            "0    0.5\n",
            "1    0.5\n",
            "Name: Class, dtype: float64\n"
          ]
        }
      ]
    },
    {
      "cell_type": "code",
      "source": [
        "fig, ax = plt.subplots(figsize=(8,5))\n",
        "sns.countplot(y_ros)\n",
        "\n",
        "plt.tight_layout()\n",
        "plt.show()"
      ],
      "metadata": {
        "colab": {
          "base_uri": "https://localhost:8080/",
          "height": 365
        },
        "id": "eUqSObX2BO_i",
        "outputId": "17b043ee-9705-40d7-f953-675be60f444a"
      },
      "execution_count": 40,
      "outputs": [
        {
          "output_type": "display_data",
          "data": {
            "text/plain": [
              "<Figure size 576x360 with 1 Axes>"
            ],
            "image/png": "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\n"
          },
          "metadata": {}
        }
      ]
    },
    {
      "cell_type": "markdown",
      "source": [
        "## Train-Test Validation Checks\n",
        "* link : https://docs.deepchecks.com/stable/user-guide/tabular/auto_quickstarts/plot_quick_train_test_validation.html"
      ],
      "metadata": {
        "id": "Q_CC9vrDq9gl"
      }
    },
    {
      "cell_type": "code",
      "source": [],
      "metadata": {
        "id": "jCv4onWDq71b"
      },
      "execution_count": null,
      "outputs": []
    },
    {
      "cell_type": "markdown",
      "metadata": {
        "id": "HO4HAIofMuHc"
      },
      "source": [
        "---\n",
        "---\n"
      ]
    },
    {
      "cell_type": "markdown",
      "metadata": {
        "id": "MwQdl4PdJQ0I"
      },
      "source": [
        "## 3. Model Building\n",
        "It was previously stated that you need to make class prediction with three different algorithms. As in this case, different approaches are required to obtain better performance on unbalanced data.\n",
        "\n",
        "This dataset is severely **unbalanced** (most of the transactions are non-fraud). So the algorithms are much more likely to classify new observations to the majority class and high accuracy won't tell us anything. To address the problem of imbalanced dataset, we can use undersampling and oversampling or class weight and optimum thresold techniques. \n",
        "\n",
        "***Note***: \n",
        "\n",
        "- *Do not forget to import the necessary libraries and modules before starting the model building!*\n",
        "\n",
        "- *If you are going to use the cross validation method to be more sure of the performance of your model for unbalanced data, you should make sure that the class distributions in the iterations are equal. For this case, you should use **[StratifiedKFold](https://www.analyseup.com/python-machine-learning/stratified-kfold.html)** instead of regular cross validation method.*"
      ]
    },
    {
      "cell_type": "markdown",
      "metadata": {
        "id": "zKZcwgucJQ0I"
      },
      "source": [
        "### Logistic Regression \n",
        "\n",
        "- The steps you are going to cover for this algorithm are as follows: \n",
        "\n",
        "   *i. Import Libraries*\n",
        "   \n",
        "   *ii. Model Training*\n",
        "   \n",
        "   *iii. Prediction and Model Evaluating (Apply StratifiedKFold) and Tuning*\n",
        "   \n",
        "   *iv. Plot Precision and Recall Curve*"
      ]
    },
    {
      "cell_type": "markdown",
      "metadata": {
        "id": "o48s5BCdMuHd"
      },
      "source": [
        "***i. Import Libraries***"
      ]
    },
    {
      "cell_type": "code",
      "execution_count": 41,
      "metadata": {
        "id": "3G3cx-UjMuHd",
        "colab": {
          "base_uri": "https://localhost:8080/",
          "height": 475
        },
        "outputId": "484f38ef-bfc0-4bc1-ea19-2b3d31ac317f"
      },
      "outputs": [
        {
          "output_type": "stream",
          "name": "stdout",
          "text": [
            "              precision    recall  f1-score   support\n",
            "\n",
            "           0       1.00      0.95      0.98     71075\n",
            "           1       0.03      0.91      0.07       127\n",
            "\n",
            "    accuracy                           0.95     71202\n",
            "   macro avg       0.52      0.93      0.52     71202\n",
            "weighted avg       1.00      0.95      0.97     71202\n",
            "\n"
          ]
        },
        {
          "output_type": "display_data",
          "data": {
            "text/plain": [
              "<Figure size 432x288 with 2 Axes>"
            ],
            "image/png": "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\n"
          },
          "metadata": {}
        },
        {
          "output_type": "stream",
          "name": "stdout",
          "text": [
            "ROC AUC Score: 0.933\n"
          ]
        }
      ],
      "source": [
        "# Under Sampling\n",
        "log_reg_under = LogisticRegression()\n",
        "\n",
        "log_reg_under.fit(X_rus, y_rus)\n",
        "\n",
        "y_pred_log_under = log_reg_under.predict(X_test)\n",
        "\n",
        "\n",
        "def report(pred):\n",
        "    print(classification_report(y_test, pred))\n",
        "    fig, ax = plt.subplots()\n",
        "    sns.heatmap(confusion_matrix(y_test, pred, normalize='true'), annot=True, ax=ax)\n",
        "    ax.set_title('Confusion Matrix')\n",
        "    ax.set_ylabel('True')\n",
        "    ax.set_xlabel('Predicted')\n",
        "\n",
        "    plt.show()\n",
        "\n",
        "    print(f'ROC AUC Score: {round(roc_auc_score(y_test, pred), 3)}')\n",
        "\n",
        "report(y_pred_log_under)"
      ]
    },
    {
      "cell_type": "code",
      "source": [
        "# Over Sampling\n",
        "\n",
        "log_reg_over = LogisticRegression()\n",
        "\n",
        "log_reg_over.fit(X_ros, y_ros)\n",
        "\n",
        "y_pred_log_over = log_reg_over.predict(X_test)\n",
        "\n",
        "report(y_pred_log_over)"
      ],
      "metadata": {
        "colab": {
          "base_uri": "https://localhost:8080/",
          "height": 475
        },
        "id": "ahIZjL1HOp6D",
        "outputId": "a0cd586a-2a26-4604-ce64-5f628a46904a"
      },
      "execution_count": 42,
      "outputs": [
        {
          "output_type": "stream",
          "name": "stdout",
          "text": [
            "              precision    recall  f1-score   support\n",
            "\n",
            "           0       1.00      0.98      0.99     71075\n",
            "           1       0.07      0.91      0.13       127\n",
            "\n",
            "    accuracy                           0.98     71202\n",
            "   macro avg       0.53      0.94      0.56     71202\n",
            "weighted avg       1.00      0.98      0.99     71202\n",
            "\n"
          ]
        },
        {
          "output_type": "display_data",
          "data": {
            "text/plain": [
              "<Figure size 432x288 with 2 Axes>"
            ],
            "image/png": "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\n"
          },
          "metadata": {}
        },
        {
          "output_type": "stream",
          "name": "stdout",
          "text": [
            "ROC AUC Score: 0.942\n"
          ]
        }
      ]
    },
    {
      "cell_type": "code",
      "source": [],
      "metadata": {
        "id": "PQtr93SYPon4"
      },
      "execution_count": null,
      "outputs": []
    },
    {
      "cell_type": "markdown",
      "metadata": {
        "id": "6KD76bc5MuHd"
      },
      "source": [
        "***ii. Model Training***"
      ]
    },
    {
      "cell_type": "code",
      "execution_count": null,
      "metadata": {
        "id": "g7GAK-u3MuHd"
      },
      "outputs": [],
      "source": []
    },
    {
      "cell_type": "markdown",
      "metadata": {
        "id": "uvKAJVTNMuHd"
      },
      "source": [
        "***iii. Prediction and Model Evaluating (Apply StratifiedKFold) and Tuning***"
      ]
    },
    {
      "cell_type": "code",
      "execution_count": null,
      "metadata": {
        "id": "Kb68hH1TMuHd"
      },
      "outputs": [],
      "source": []
    },
    {
      "cell_type": "markdown",
      "metadata": {
        "id": "l193OP5fMuHd"
      },
      "source": [
        "\n",
        "You're evaluating \"accuracy score\"? Is your performance metric reflect real success? You may need to use different metrics to evaluate performance on unbalanced data. You should use **[precision and recall metrics](https://scikit-learn.org/stable/auto_examples/model_selection/plot_precision_recall.html#:~:text=The%20precision%2Drecall%20curve%20shows,a%20low%20false%20negative%20rate.)**."
      ]
    },
    {
      "cell_type": "markdown",
      "metadata": {
        "id": "fUDt5voIMuHe"
      },
      "source": [
        "***iv. Plot Precision and Recall Curve***\n"
      ]
    },
    {
      "cell_type": "code",
      "execution_count": null,
      "metadata": {
        "id": "WI0OI9SDMuHe"
      },
      "outputs": [],
      "source": []
    },
    {
      "cell_type": "markdown",
      "metadata": {
        "id": "bwELs8xsJQ0Q"
      },
      "source": [
        "- Didn't the performance of the model you implemented above satisfy you? If your model is biased towards the majority class and minority class matrics is not sufficient, apply \"unbalanced data tecniques\"."
      ]
    },
    {
      "cell_type": "markdown",
      "source": [
        "***v. Apply Model Evaluation Checks***\n",
        "* link : https://docs.deepchecks.com/stable/user-guide/tabular/auto_quickstarts/plot_quick_model_evaluation.html"
      ],
      "metadata": {
        "id": "Yo2yUvCsr0-g"
      }
    },
    {
      "cell_type": "code",
      "source": [],
      "metadata": {
        "id": "upFDOCu_sIMF"
      },
      "execution_count": null,
      "outputs": []
    },
    {
      "cell_type": "markdown",
      "metadata": {
        "id": "9wvBCEvpJQ0U"
      },
      "source": [
        "### Logistic Regression with Unbalanced Data Techniques\n",
        "\n",
        "- The steps you are going to cover for this algorithm are as follows: \n",
        "\n",
        "   *i. Import Libraries*\n",
        "   \n",
        "   *ii. Model Training*\n",
        "   \n",
        "   *iii. Prediction and Model Evaluating (Apply StratifiedKFold) and Tuning*\n",
        "   \n",
        "   *iv. Plot Precision and Recall Curve*"
      ]
    },
    {
      "cell_type": "markdown",
      "metadata": {
        "id": "IJqXQ_aHMuHf"
      },
      "source": [
        "***i. Train-Test Split (Again)***"
      ]
    },
    {
      "cell_type": "code",
      "execution_count": null,
      "metadata": {
        "id": "Qmc3bUHKMuHf"
      },
      "outputs": [],
      "source": []
    },
    {
      "cell_type": "markdown",
      "metadata": {
        "id": "evc6DLPcMuHf"
      },
      "source": [
        "***ii. Model Training***"
      ]
    },
    {
      "cell_type": "code",
      "execution_count": null,
      "metadata": {
        "id": "hz36IA3EMuHf"
      },
      "outputs": [],
      "source": []
    },
    {
      "cell_type": "markdown",
      "metadata": {
        "id": "kqJHSV5FMuHf"
      },
      "source": [
        "***Prediction and Model Evaluating (Apply StratifiedKFold) and Tuning***"
      ]
    },
    {
      "cell_type": "code",
      "execution_count": null,
      "metadata": {
        "id": "J_lxSdHyMuHg"
      },
      "outputs": [],
      "source": []
    },
    {
      "cell_type": "markdown",
      "metadata": {
        "id": "AFGgLGBqMuHg"
      },
      "source": [
        "***iv.  Plot Precision and Recall Curve***\n"
      ]
    },
    {
      "cell_type": "code",
      "execution_count": null,
      "metadata": {
        "id": "CWdU7r-UMuHg"
      },
      "outputs": [],
      "source": []
    },
    {
      "cell_type": "markdown",
      "source": [
        "***v. Apply Model Evaluation Checks***\n",
        "* link : https://docs.deepchecks.com/stable/user-guide/tabular/auto_quickstarts/plot_quick_model_evaluation.html"
      ],
      "metadata": {
        "id": "Akr5mWKhseJ4"
      }
    },
    {
      "cell_type": "code",
      "source": [],
      "metadata": {
        "id": "KfwffynKsgsa"
      },
      "execution_count": null,
      "outputs": []
    },
    {
      "cell_type": "markdown",
      "metadata": {
        "id": "_3zm70O7JQ0Z"
      },
      "source": [
        "### Random Forest Classifier with Unbalanced Data Techniques\n",
        "\n",
        "- The steps you are going to cover for this algorithm are as follows:\n",
        "\n",
        "   *i. Model Training*\n",
        "   \n",
        "   *ii. Prediction and Model Evaluating (Apply StratifiedKFold) and Tuning*\n",
        "   \n",
        "   *iii. Plot Precision and Recall Curve*\n",
        "   "
      ]
    },
    {
      "cell_type": "markdown",
      "metadata": {
        "id": "sr5U80HbMuHg"
      },
      "source": [
        "***i. Model Training***"
      ]
    },
    {
      "cell_type": "code",
      "execution_count": null,
      "metadata": {
        "id": "kuvRr7f3MuHh"
      },
      "outputs": [],
      "source": []
    },
    {
      "cell_type": "markdown",
      "metadata": {
        "id": "dJ9TJdpmMuHh"
      },
      "source": [
        "***ii. Prediction and Model Evaluating (Apply StratifiedKFold) and Tuning***"
      ]
    },
    {
      "cell_type": "code",
      "execution_count": null,
      "metadata": {
        "id": "BaNd2jTRMuHh"
      },
      "outputs": [],
      "source": []
    },
    {
      "cell_type": "markdown",
      "metadata": {
        "id": "8bdqEhrdMuHh"
      },
      "source": [
        "***iii. Plot Precision and Recall Curve***\n"
      ]
    },
    {
      "cell_type": "code",
      "execution_count": null,
      "metadata": {
        "id": "smne1OBWMuHh"
      },
      "outputs": [],
      "source": []
    },
    {
      "cell_type": "markdown",
      "source": [
        "***v. Apply Model Evaluation Checks***\n",
        "* link : https://docs.deepchecks.com/stable/user-guide/tabular/auto_quickstarts/plot_quick_model_evaluation.html"
      ],
      "metadata": {
        "id": "pRDWOdB4sjIC"
      }
    },
    {
      "cell_type": "code",
      "source": [],
      "metadata": {
        "id": "G9P58AMGskcY"
      },
      "execution_count": null,
      "outputs": []
    },
    {
      "cell_type": "markdown",
      "metadata": {
        "id": "T5IgEAE-T-QR"
      },
      "source": [
        "### XGBoost Classifier with Unbalanced Data Techniques\n",
        "\n",
        "- The steps you are going to cover for this algorithm are as follows:\n",
        "\n",
        "   *i. Model Training*\n",
        "   \n",
        "   *ii. Prediction and Model Evaluating (Apply StratifiedKFold) and Tuning*\n",
        "   \n",
        "   *iii. Plot Precision and Recall Curve*\n",
        "   "
      ]
    },
    {
      "cell_type": "markdown",
      "metadata": {
        "id": "vtl41WAUT-QS"
      },
      "source": [
        "***i. Model Training***"
      ]
    },
    {
      "cell_type": "code",
      "execution_count": null,
      "metadata": {
        "id": "T4dGJYsMT-QT"
      },
      "outputs": [],
      "source": []
    },
    {
      "cell_type": "markdown",
      "metadata": {
        "id": "TG4Tb0WuT-QU"
      },
      "source": [
        "***ii. Prediction and Model Evaluating (Apply StratifiedKFold) and Tuning***"
      ]
    },
    {
      "cell_type": "code",
      "execution_count": null,
      "metadata": {
        "id": "NtYBe4FVT-QV"
      },
      "outputs": [],
      "source": []
    },
    {
      "cell_type": "markdown",
      "metadata": {
        "id": "z9B4_xOpT-QW"
      },
      "source": [
        "***iii. Plot Precision and Recall Curve***\n"
      ]
    },
    {
      "cell_type": "code",
      "execution_count": null,
      "metadata": {
        "id": "BqNbfMguT-QX"
      },
      "outputs": [],
      "source": []
    },
    {
      "cell_type": "markdown",
      "source": [
        "***v. Apply Model Evaluation Checks***\n",
        "* link : https://docs.deepchecks.com/stable/user-guide/tabular/auto_quickstarts/plot_quick_model_evaluation.html"
      ],
      "metadata": {
        "id": "mFpIISNzsm55"
      }
    },
    {
      "cell_type": "code",
      "source": [],
      "metadata": {
        "id": "AEbwEKvospoK"
      },
      "execution_count": null,
      "outputs": []
    },
    {
      "cell_type": "markdown",
      "metadata": {
        "id": "ife6NlFRJQ0f"
      },
      "source": [
        "### Neural Network\n",
        "\n",
        "In the final step, you will make classification with Neural Network which is a Deep Learning algorithm. \n",
        "\n",
        "Neural networks are a series of algorithms that mimic the operations of a human brain to recognize relationships between vast amounts of data. They are used in a variety of applications in financial services, from forecasting and marketing research to fraud detection and risk assessment.\n",
        "\n",
        "A neural network contains layers of interconnected nodes. Each node is a perceptron and is similar to a multiple linear regression. The perceptron feeds the signal produced by a multiple linear regression into an activation function that may be nonlinear.\n",
        "\n",
        "In a multi-layered perceptron (MLP), perceptrons are arranged in interconnected layers. The input layer collects input patterns. The output layer has classifications or output signals to which input patterns may map. \n",
        "\n",
        "Hidden layers fine-tune the input weightings until the neural network’s margin of error is minimal. It is hypothesized that hidden layers extrapolate salient features in the input data that have predictive power regarding the outputs.\n",
        "\n",
        "You will discover **[how to create](https://towardsdatascience.com/building-our-first-neural-network-in-keras-bdc8abbc17f5)** your deep learning neural network model in Python using **[Keras](https://keras.io/about/)**. Keras is a powerful and easy-to-use free open source Python library for developing and evaluating deep learning models.\n",
        "\n",
        "- The steps you are going to cover for this algorithm are as follows:\n",
        "\n",
        "   *i. Import Libraries*\n",
        "   \n",
        "   *ii. Define Model*\n",
        "    \n",
        "   *iii. Compile Model*\n",
        "   \n",
        "   *iv. Fit Model*\n",
        "   \n",
        "   *v. Prediction and Model Evaluating*\n",
        "   \n",
        "   *vi. Plot Precision and Recall Curve*"
      ]
    },
    {
      "cell_type": "markdown",
      "metadata": {
        "id": "i9Rl75fpMuHi"
      },
      "source": [
        "***i. Import Libraries***"
      ]
    },
    {
      "cell_type": "code",
      "execution_count": null,
      "metadata": {
        "id": "LhEc3K9KMuHi"
      },
      "outputs": [],
      "source": []
    },
    {
      "cell_type": "markdown",
      "metadata": {
        "id": "gD6Rh1R8MuHi"
      },
      "source": [
        "***ii. Define Model***"
      ]
    },
    {
      "cell_type": "code",
      "execution_count": null,
      "metadata": {
        "id": "4okQmpRpMuHi"
      },
      "outputs": [],
      "source": []
    },
    {
      "cell_type": "markdown",
      "metadata": {
        "id": "_IQN7--qMuHi"
      },
      "source": [
        "***iii. Compile Model***"
      ]
    },
    {
      "cell_type": "code",
      "execution_count": null,
      "metadata": {
        "id": "f4W96rfHMuHi"
      },
      "outputs": [],
      "source": []
    },
    {
      "cell_type": "markdown",
      "metadata": {
        "id": "PsM_5PhJMuHi"
      },
      "source": [
        "***iv. Fit Model***"
      ]
    },
    {
      "cell_type": "code",
      "execution_count": null,
      "metadata": {
        "id": "cmkPKExFMuHj"
      },
      "outputs": [],
      "source": []
    },
    {
      "cell_type": "markdown",
      "metadata": {
        "id": "InMeP9kgMuHj"
      },
      "source": [
        "***v. Prediction and Model Evaluating***"
      ]
    },
    {
      "cell_type": "code",
      "execution_count": null,
      "metadata": {
        "id": "wRi_uFjIMuHj"
      },
      "outputs": [],
      "source": []
    },
    {
      "cell_type": "markdown",
      "metadata": {
        "id": "_JAEDNkjMuHj"
      },
      "source": [
        "***vi. Plot Precision and Recall Curve***"
      ]
    },
    {
      "cell_type": "code",
      "source": [],
      "metadata": {
        "id": "RJWcx-kQstx5"
      },
      "execution_count": null,
      "outputs": []
    },
    {
      "cell_type": "markdown",
      "source": [
        "***v. Apply Model Evaluation Checks***\n",
        "* link : https://docs.deepchecks.com/stable/user-guide/tabular/auto_quickstarts/plot_quick_model_evaluation.html"
      ],
      "metadata": {
        "id": "hvAi1Czcsu5f"
      }
    },
    {
      "cell_type": "code",
      "source": [],
      "metadata": {
        "id": "YjmnSPm4sv5j"
      },
      "execution_count": null,
      "outputs": []
    },
    {
      "cell_type": "markdown",
      "metadata": {
        "id": "LpbiGnpIxVK3"
      },
      "source": [
        "## 4. Model Deployment\n",
        "You cooked the food in the kitchen and moved on to the serving stage. The question is how do you showcase your work to others? Model Deployement helps you showcase your work to the world and make better decisions with it. But, deploying a model can get a little tricky at times. Before deploying the model, many things such as data storage, preprocessing, model building and monitoring need to be studied.\n",
        "\n",
        "Deployment of machine learning models, means making your models available to your other business systems. By deploying models, other systems can send data to them and get their predictions, which are in turn populated back into the company systems. Through machine learning model deployment, can begin to take full advantage of the model you built.\n",
        "\n",
        "Data science is concerned with how to build machine learning models, which algorithm is more predictive, how to design features, and what variables to use to make the models more accurate. However, how these models are actually used is often neglected. And yet this is the most important step in the machine learning pipline. Only when a model is fully integrated with the business systems, real values ​​can be extract from its predictions.\n",
        "\n",
        "After doing the following operations in this notebook, jump to a proper IDE and create your web app with Streamlit API."
      ]
    },
    {
      "cell_type": "markdown",
      "metadata": {
        "id": "oCAYcMLEH_7P"
      },
      "source": [
        "### Save and Export the Best Model\n"
      ]
    },
    {
      "cell_type": "code",
      "execution_count": null,
      "metadata": {
        "id": "MqluJ9yvIOex"
      },
      "outputs": [],
      "source": []
    },
    {
      "cell_type": "markdown",
      "metadata": {
        "id": "vaZP1N93IPQi"
      },
      "source": [
        "### Save and Export Variables"
      ]
    },
    {
      "cell_type": "code",
      "execution_count": null,
      "metadata": {
        "id": "q_vA-dJWxfFH"
      },
      "outputs": [],
      "source": []
    },
    {
      "cell_type": "markdown",
      "metadata": {
        "id": "cm9Z__Y7MuHj"
      },
      "source": [
        "___\n",
        "\n",
        "<p style=\"text-align: center;\"><img src=\"https://docs.google.com/uc?id=1lY0Uj5R04yMY3-ZppPWxqCr5pvBLYPnV\" class=\"img-fluid\" alt=\"CLRSWY\"></p>\n",
        "\n",
        "___"
      ]
    }
  ],
  "metadata": {
    "colab": {
      "provenance": []
    },
    "kernelspec": {
      "display_name": "Python 3.9.13 ('base')",
      "language": "python",
      "name": "python3"
    },
    "language_info": {
      "codemirror_mode": {
        "name": "ipython",
        "version": 3
      },
      "file_extension": ".py",
      "mimetype": "text/x-python",
      "name": "python",
      "nbconvert_exporter": "python",
      "pygments_lexer": "ipython3",
      "version": "3.9.13"
    },
    "vscode": {
      "interpreter": {
        "hash": "b91502e98c93ec413571a3c4a71c4e7e2f090119475bdef759aa0802c5125d05"
      }
    }
  },
  "nbformat": 4,
  "nbformat_minor": 0
<<<<<<< HEAD
}
=======
}
>>>>>>> d904feed933c66c088f44571a4097d99ada40da9
>>>>>>> a06e12d038c6f9da7aa39bab861642008b85cb28
